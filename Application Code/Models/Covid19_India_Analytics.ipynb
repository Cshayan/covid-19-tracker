{
 "cells": [
  {
   "cell_type": "markdown",
   "metadata": {},
   "source": [
    "# Covid19_India Analysis"
   ]
  },
  {
   "cell_type": "code",
   "execution_count": 1,
   "metadata": {},
   "outputs": [],
   "source": [
    "import json\n",
    "from datetime import timedelta\n",
    "from urllib.request import urlopen"
   ]
  },
  {
   "cell_type": "code",
   "execution_count": 2,
   "metadata": {},
   "outputs": [],
   "source": [
    "import numpy as np\n",
    "import pandas as pd\n"
   ]
  },
  {
   "cell_type": "code",
   "execution_count": 3,
   "metadata": {},
   "outputs": [],
   "source": [
    "# visualization\n",
    "import matplotlib.pyplot as plt\n",
    "import seaborn as sns\n",
    "import plotly.express as px\n",
    "import plotly.graph_objects as go\n",
    "from plotly.subplots import make_subplots\n",
    "import folium"
   ]
  },
  {
   "cell_type": "code",
   "execution_count": 4,
   "metadata": {},
   "outputs": [],
   "source": [
    "# color pallette\n",
    "cnf = '#393e46' # confirmed - grey\n",
    "dth = '#ff2e63' # death - red\n",
    "rec = '#21bf73' # recovered - cyan\n",
    "act = '#fe9801' # active case - yellow\n",
    "\n",
    "from pandas.plotting import register_matplotlib_converters\n",
    "register_matplotlib_converters()"
   ]
  },
  {
   "cell_type": "code",
   "execution_count": 5,
   "metadata": {},
   "outputs": [
    {
     "data": {
      "text/html": [
       "        <script type=\"text/javascript\">\n",
       "        window.PlotlyConfig = {MathJaxConfig: 'local'};\n",
       "        if (window.MathJax) {MathJax.Hub.Config({SVG: {font: \"STIX-Web\"}});}\n",
       "        if (typeof require !== 'undefined') {\n",
       "        require.undef(\"plotly\");\n",
       "        requirejs.config({\n",
       "            paths: {\n",
       "                'plotly': ['https://cdn.plot.ly/plotly-latest.min']\n",
       "            }\n",
       "        });\n",
       "        require(['plotly'], function(Plotly) {\n",
       "            window._Plotly = Plotly;\n",
       "        });\n",
       "        }\n",
       "        </script>\n",
       "        "
      ]
     },
     "metadata": {},
     "output_type": "display_data"
    }
   ],
   "source": [
    "from plotly.offline import plot, iplot, init_notebook_mode\n",
    "init_notebook_mode(connected=True)"
   ]
  },
  {
   "cell_type": "code",
   "execution_count": 6,
   "metadata": {},
   "outputs": [
    {
     "data": {
      "text/html": [
       "<div>\n",
       "<style scoped>\n",
       "    .dataframe tbody tr th:only-of-type {\n",
       "        vertical-align: middle;\n",
       "    }\n",
       "\n",
       "    .dataframe tbody tr th {\n",
       "        vertical-align: top;\n",
       "    }\n",
       "\n",
       "    .dataframe thead th {\n",
       "        text-align: right;\n",
       "    }\n",
       "</style>\n",
       "<table border=\"1\" class=\"dataframe\">\n",
       "  <thead>\n",
       "    <tr style=\"text-align: right;\">\n",
       "      <th></th>\n",
       "      <th>Date</th>\n",
       "      <th>Name of State / UT</th>\n",
       "      <th>Total Confirmed cases (Indian National)</th>\n",
       "      <th>Total Confirmed cases ( Foreign National )</th>\n",
       "      <th>Cured/Discharged/Migrated</th>\n",
       "      <th>Latitude</th>\n",
       "      <th>Longitude</th>\n",
       "      <th>Death</th>\n",
       "      <th>Total Confirmed cases</th>\n",
       "    </tr>\n",
       "  </thead>\n",
       "  <tbody>\n",
       "    <tr>\n",
       "      <th>0</th>\n",
       "      <td>2020-01-30</td>\n",
       "      <td>Kerala</td>\n",
       "      <td>1</td>\n",
       "      <td>0</td>\n",
       "      <td>0</td>\n",
       "      <td>10.8505</td>\n",
       "      <td>76.2711</td>\n",
       "      <td>0</td>\n",
       "      <td>1</td>\n",
       "    </tr>\n",
       "    <tr>\n",
       "      <th>1</th>\n",
       "      <td>2020-01-31</td>\n",
       "      <td>Kerala</td>\n",
       "      <td>1</td>\n",
       "      <td>0</td>\n",
       "      <td>0</td>\n",
       "      <td>10.8505</td>\n",
       "      <td>76.2711</td>\n",
       "      <td>0</td>\n",
       "      <td>1</td>\n",
       "    </tr>\n",
       "    <tr>\n",
       "      <th>2</th>\n",
       "      <td>2020-02-01</td>\n",
       "      <td>Kerala</td>\n",
       "      <td>2</td>\n",
       "      <td>0</td>\n",
       "      <td>0</td>\n",
       "      <td>10.8505</td>\n",
       "      <td>76.2711</td>\n",
       "      <td>0</td>\n",
       "      <td>2</td>\n",
       "    </tr>\n",
       "    <tr>\n",
       "      <th>3</th>\n",
       "      <td>2020-02-02</td>\n",
       "      <td>Kerala</td>\n",
       "      <td>3</td>\n",
       "      <td>0</td>\n",
       "      <td>0</td>\n",
       "      <td>10.8505</td>\n",
       "      <td>76.2711</td>\n",
       "      <td>0</td>\n",
       "      <td>3</td>\n",
       "    </tr>\n",
       "    <tr>\n",
       "      <th>4</th>\n",
       "      <td>2020-02-03</td>\n",
       "      <td>Kerala</td>\n",
       "      <td>3</td>\n",
       "      <td>0</td>\n",
       "      <td>0</td>\n",
       "      <td>10.8505</td>\n",
       "      <td>76.2711</td>\n",
       "      <td>0</td>\n",
       "      <td>3</td>\n",
       "    </tr>\n",
       "  </tbody>\n",
       "</table>\n",
       "</div>"
      ],
      "text/plain": [
       "        Date Name of State / UT  Total Confirmed cases (Indian National)  \\\n",
       "0 2020-01-30             Kerala                                        1   \n",
       "1 2020-01-31             Kerala                                        1   \n",
       "2 2020-02-01             Kerala                                        2   \n",
       "3 2020-02-02             Kerala                                        3   \n",
       "4 2020-02-03             Kerala                                        3   \n",
       "\n",
       "   Total Confirmed cases ( Foreign National )  Cured/Discharged/Migrated  \\\n",
       "0                                           0                          0   \n",
       "1                                           0                          0   \n",
       "2                                           0                          0   \n",
       "3                                           0                          0   \n",
       "4                                           0                          0   \n",
       "\n",
       "   Latitude  Longitude  Death  Total Confirmed cases  \n",
       "0   10.8505    76.2711      0                      1  \n",
       "1   10.8505    76.2711      0                      1  \n",
       "2   10.8505    76.2711      0                      2  \n",
       "3   10.8505    76.2711      0                      3  \n",
       "4   10.8505    76.2711      0                      3  "
      ]
     },
     "execution_count": 6,
     "metadata": {},
     "output_type": "execute_result"
    }
   ],
   "source": [
    "# importing datasets\n",
    "df = pd.read_csv('complete.csv', parse_dates=['Date'])\n",
    "df['Name of State / UT'] = df['Name of State / UT'].str.replace('Union Territory of ', '')\n",
    "#df.head()"
   ]
  },
  {
   "cell_type": "code",
   "execution_count": 7,
   "metadata": {},
   "outputs": [
    {
     "data": {
      "text/html": [
       "<div>\n",
       "<style scoped>\n",
       "    .dataframe tbody tr th:only-of-type {\n",
       "        vertical-align: middle;\n",
       "    }\n",
       "\n",
       "    .dataframe tbody tr th {\n",
       "        vertical-align: top;\n",
       "    }\n",
       "\n",
       "    .dataframe thead th {\n",
       "        text-align: right;\n",
       "    }\n",
       "</style>\n",
       "<table border=\"1\" class=\"dataframe\">\n",
       "  <thead>\n",
       "    <tr style=\"text-align: right;\">\n",
       "      <th></th>\n",
       "      <th>Date</th>\n",
       "      <th>State/UT</th>\n",
       "      <th>Latitude</th>\n",
       "      <th>Longitude</th>\n",
       "      <th>Confirmed</th>\n",
       "      <th>Active</th>\n",
       "      <th>Deaths</th>\n",
       "      <th>Mortality rate</th>\n",
       "      <th>Cured</th>\n",
       "      <th>Recovery rate</th>\n",
       "    </tr>\n",
       "  </thead>\n",
       "  <tbody>\n",
       "    <tr>\n",
       "      <th>0</th>\n",
       "      <td>2020-01-30</td>\n",
       "      <td>Kerala</td>\n",
       "      <td>10.8505</td>\n",
       "      <td>76.2711</td>\n",
       "      <td>1</td>\n",
       "      <td>1</td>\n",
       "      <td>0</td>\n",
       "      <td>0.0</td>\n",
       "      <td>0</td>\n",
       "      <td>0.0</td>\n",
       "    </tr>\n",
       "    <tr>\n",
       "      <th>1</th>\n",
       "      <td>2020-01-31</td>\n",
       "      <td>Kerala</td>\n",
       "      <td>10.8505</td>\n",
       "      <td>76.2711</td>\n",
       "      <td>1</td>\n",
       "      <td>1</td>\n",
       "      <td>0</td>\n",
       "      <td>0.0</td>\n",
       "      <td>0</td>\n",
       "      <td>0.0</td>\n",
       "    </tr>\n",
       "    <tr>\n",
       "      <th>2</th>\n",
       "      <td>2020-02-01</td>\n",
       "      <td>Kerala</td>\n",
       "      <td>10.8505</td>\n",
       "      <td>76.2711</td>\n",
       "      <td>2</td>\n",
       "      <td>2</td>\n",
       "      <td>0</td>\n",
       "      <td>0.0</td>\n",
       "      <td>0</td>\n",
       "      <td>0.0</td>\n",
       "    </tr>\n",
       "    <tr>\n",
       "      <th>3</th>\n",
       "      <td>2020-02-02</td>\n",
       "      <td>Kerala</td>\n",
       "      <td>10.8505</td>\n",
       "      <td>76.2711</td>\n",
       "      <td>3</td>\n",
       "      <td>3</td>\n",
       "      <td>0</td>\n",
       "      <td>0.0</td>\n",
       "      <td>0</td>\n",
       "      <td>0.0</td>\n",
       "    </tr>\n",
       "    <tr>\n",
       "      <th>4</th>\n",
       "      <td>2020-02-03</td>\n",
       "      <td>Kerala</td>\n",
       "      <td>10.8505</td>\n",
       "      <td>76.2711</td>\n",
       "      <td>3</td>\n",
       "      <td>3</td>\n",
       "      <td>0</td>\n",
       "      <td>0.0</td>\n",
       "      <td>0</td>\n",
       "      <td>0.0</td>\n",
       "    </tr>\n",
       "  </tbody>\n",
       "</table>\n",
       "</div>"
      ],
      "text/plain": [
       "        Date State/UT  Latitude  Longitude  Confirmed  Active  Deaths  \\\n",
       "0 2020-01-30   Kerala   10.8505    76.2711          1       1       0   \n",
       "1 2020-01-31   Kerala   10.8505    76.2711          1       1       0   \n",
       "2 2020-02-01   Kerala   10.8505    76.2711          2       2       0   \n",
       "3 2020-02-02   Kerala   10.8505    76.2711          3       3       0   \n",
       "4 2020-02-03   Kerala   10.8505    76.2711          3       3       0   \n",
       "\n",
       "   Mortality rate  Cured  Recovery rate  \n",
       "0             0.0      0            0.0  \n",
       "1             0.0      0            0.0  \n",
       "2             0.0      0            0.0  \n",
       "3             0.0      0            0.0  \n",
       "4             0.0      0            0.0  "
      ]
     },
     "execution_count": 7,
     "metadata": {},
     "output_type": "execute_result"
    }
   ],
   "source": [
    "df = df[['Date', 'Name of State / UT', 'Latitude', 'Longitude', 'Total Confirmed cases', 'Death', 'Cured/Discharged/Migrated']]\n",
    "df.columns = ['Date', 'State/UT', 'Latitude', 'Longitude', 'Confirmed', 'Deaths', 'Cured']\n",
    "\n",
    "for i in ['Confirmed', 'Deaths', 'Cured']:\n",
    "    df[i] = df[i].astype('int')\n",
    "    \n",
    "df['Active'] = df['Confirmed'] - df['Deaths'] - df['Cured']\n",
    "df['Mortality rate'] = df['Deaths']/df['Confirmed']\n",
    "df['Recovery rate'] = df['Cured']/df['Confirmed']\n",
    "\n",
    "df = df[['Date', 'State/UT', 'Latitude', 'Longitude', 'Confirmed', 'Active', 'Deaths', 'Mortality rate', 'Cured', 'Recovery rate']]\n",
    "\n",
    "#df.head()"
   ]
  },
  {
   "cell_type": "code",
   "execution_count": 8,
   "metadata": {},
   "outputs": [],
   "source": [
    "latest = df[df['Date']==max(df['Date'])]\n",
    "\n",
    "# days\n",
    "latest_day = max(df['Date'])\n",
    "day_before = latest_day - timedelta(days = 1)\n",
    "\n",
    "# state and total cases \n",
    "latest_day_df = df[df['Date']==latest_day].set_index('State/UT')\n",
    "day_before_df = df[df['Date']==day_before].set_index('State/UT')\n",
    "\n",
    "temp = pd.merge(left = latest_day_df, right = day_before_df, on='State/UT', suffixes=('_lat', '_bfr'), how='outer')\n",
    "latest_day_df['New cases'] = temp['Confirmed_lat'] - temp['Confirmed_bfr']\n",
    "latest = latest_day_df.reset_index()\n",
    "latest.fillna(1, inplace=True)"
   ]
  },
  {
   "cell_type": "code",
   "execution_count": 9,
   "metadata": {},
   "outputs": [
    {
     "data": {
      "text/html": [
       "<style  type=\"text/css\" >\n",
       "    #T_458b680c_7766_11ea_a689_5e6889280518row0_col1 {\n",
       "            background-color:  #08306b;\n",
       "        }    #T_458b680c_7766_11ea_a689_5e6889280518row0_col2 {\n",
       "            background-color:  #08468b;\n",
       "        }    #T_458b680c_7766_11ea_a689_5e6889280518row0_col3 {\n",
       "            background-color:  #f7fbff;\n",
       "        }    #T_458b680c_7766_11ea_a689_5e6889280518row0_col4 {\n",
       "            background-color:  #67000d;\n",
       "        }    #T_458b680c_7766_11ea_a689_5e6889280518row0_col5 {\n",
       "            background-color:  #fcaf93;\n",
       "        }    #T_458b680c_7766_11ea_a689_5e6889280518row0_col6 {\n",
       "            background-color:  #00441b;\n",
       "        }    #T_458b680c_7766_11ea_a689_5e6889280518row0_col7 {\n",
       "            background-color:  #c6e8bf;\n",
       "        }    #T_458b680c_7766_11ea_a689_5e6889280518row1_col1 {\n",
       "            background-color:  #084488;\n",
       "        }    #T_458b680c_7766_11ea_a689_5e6889280518row1_col2 {\n",
       "            background-color:  #08306b;\n",
       "        }    #T_458b680c_7766_11ea_a689_5e6889280518row1_col3 {\n",
       "            background-color:  #08306b;\n",
       "        }    #T_458b680c_7766_11ea_a689_5e6889280518row1_col4 {\n",
       "            background-color:  #feeae1;\n",
       "        }    #T_458b680c_7766_11ea_a689_5e6889280518row1_col5 {\n",
       "            background-color:  #fff2ec;\n",
       "        }    #T_458b680c_7766_11ea_a689_5e6889280518row1_col6 {\n",
       "            background-color:  #e1f3dc;\n",
       "        }    #T_458b680c_7766_11ea_a689_5e6889280518row1_col7 {\n",
       "            background-color:  #f1faee;\n",
       "        }    #T_458b680c_7766_11ea_a689_5e6889280518row2_col1 {\n",
       "            background-color:  #0c56a0;\n",
       "        }    #T_458b680c_7766_11ea_a689_5e6889280518row2_col2 {\n",
       "            background-color:  #0d57a1;\n",
       "        }    #T_458b680c_7766_11ea_a689_5e6889280518row2_col3 {\n",
       "            background-color:  #bdd7ec;\n",
       "        }    #T_458b680c_7766_11ea_a689_5e6889280518row2_col4 {\n",
       "            background-color:  #fee0d2;\n",
       "        }    #T_458b680c_7766_11ea_a689_5e6889280518row2_col5 {\n",
       "            background-color:  #ffeee7;\n",
       "        }    #T_458b680c_7766_11ea_a689_5e6889280518row2_col6 {\n",
       "            background-color:  #3da65a;\n",
       "        }    #T_458b680c_7766_11ea_a689_5e6889280518row2_col7 {\n",
       "            background-color:  #d5efcf;\n",
       "        }    #T_458b680c_7766_11ea_a689_5e6889280518row3_col1 {\n",
       "            background-color:  #3a8ac2;\n",
       "        }    #T_458b680c_7766_11ea_a689_5e6889280518row3_col2 {\n",
       "            background-color:  #3282be;\n",
       "        }    #T_458b680c_7766_11ea_a689_5e6889280518row3_col3 {\n",
       "            background-color:  #084c95;\n",
       "        }    #T_458b680c_7766_11ea_a689_5e6889280518row3_col4 {\n",
       "            background-color:  #fcbba1;\n",
       "        }    #T_458b680c_7766_11ea_a689_5e6889280518row3_col5 {\n",
       "            background-color:  #fee3d6;\n",
       "        }    #T_458b680c_7766_11ea_a689_5e6889280518row3_col6 {\n",
       "            background-color:  #d6efd0;\n",
       "        }    #T_458b680c_7766_11ea_a689_5e6889280518row3_col7 {\n",
       "            background-color:  #ecf8e8;\n",
       "        }    #T_458b680c_7766_11ea_a689_5e6889280518row4_col1 {\n",
       "            background-color:  #95c5df;\n",
       "        }    #T_458b680c_7766_11ea_a689_5e6889280518row4_col2 {\n",
       "            background-color:  #89bedc;\n",
       "        }    #T_458b680c_7766_11ea_a689_5e6889280518row4_col3 {\n",
       "            background-color:  #abd0e6;\n",
       "        }    #T_458b680c_7766_11ea_a689_5e6889280518row4_col4 {\n",
       "            background-color:  #fff5f0;\n",
       "        }    #T_458b680c_7766_11ea_a689_5e6889280518row4_col5 {\n",
       "            background-color:  #fff5f0;\n",
       "        }    #T_458b680c_7766_11ea_a689_5e6889280518row4_col6 {\n",
       "            background-color:  #edf8e9;\n",
       "        }    #T_458b680c_7766_11ea_a689_5e6889280518row4_col7 {\n",
       "            background-color:  #f1faee;\n",
       "        }    #T_458b680c_7766_11ea_a689_5e6889280518row5_col1 {\n",
       "            background-color:  #97c6df;\n",
       "        }    #T_458b680c_7766_11ea_a689_5e6889280518row5_col2 {\n",
       "            background-color:  #89bedc;\n",
       "        }    #T_458b680c_7766_11ea_a689_5e6889280518row5_col3 {\n",
       "            background-color:  #4594c7;\n",
       "        }    #T_458b680c_7766_11ea_a689_5e6889280518row5_col4 {\n",
       "            background-color:  #feeae1;\n",
       "        }    #T_458b680c_7766_11ea_a689_5e6889280518row5_col5 {\n",
       "            background-color:  #ffeee6;\n",
       "        }    #T_458b680c_7766_11ea_a689_5e6889280518row5_col6 {\n",
       "            background-color:  #f4fbf1;\n",
       "        }    #T_458b680c_7766_11ea_a689_5e6889280518row5_col7 {\n",
       "            background-color:  #f5fbf3;\n",
       "        }    #T_458b680c_7766_11ea_a689_5e6889280518row6_col1 {\n",
       "            background-color:  #a0cbe2;\n",
       "        }    #T_458b680c_7766_11ea_a689_5e6889280518row6_col2 {\n",
       "            background-color:  #a1cbe2;\n",
       "        }    #T_458b680c_7766_11ea_a689_5e6889280518row6_col3 {\n",
       "            background-color:  #d3e3f3;\n",
       "        }    #T_458b680c_7766_11ea_a689_5e6889280518row6_col4 {\n",
       "            background-color:  #fdcdb9;\n",
       "        }    #T_458b680c_7766_11ea_a689_5e6889280518row6_col5 {\n",
       "            background-color:  #fedaca;\n",
       "        }    #T_458b680c_7766_11ea_a689_5e6889280518row6_col6 {\n",
       "            background-color:  #cbeac4;\n",
       "        }    #T_458b680c_7766_11ea_a689_5e6889280518row6_col7 {\n",
       "            background-color:  #dbf1d6;\n",
       "        }    #T_458b680c_7766_11ea_a689_5e6889280518row7_col1 {\n",
       "            background-color:  #abd0e6;\n",
       "        }    #T_458b680c_7766_11ea_a689_5e6889280518row7_col2 {\n",
       "            background-color:  #b0d2e7;\n",
       "        }    #T_458b680c_7766_11ea_a689_5e6889280518row7_col3 {\n",
       "            background-color:  #f7fbff;\n",
       "        }    #T_458b680c_7766_11ea_a689_5e6889280518row7_col4 {\n",
       "            background-color:  #fee0d2;\n",
       "        }    #T_458b680c_7766_11ea_a689_5e6889280518row7_col5 {\n",
       "            background-color:  #fee3d7;\n",
       "        }    #T_458b680c_7766_11ea_a689_5e6889280518row7_col6 {\n",
       "            background-color:  #aedea7;\n",
       "        }    #T_458b680c_7766_11ea_a689_5e6889280518row7_col7 {\n",
       "            background-color:  #c7e9c0;\n",
       "        }    #T_458b680c_7766_11ea_a689_5e6889280518row8_col1 {\n",
       "            background-color:  #b0d2e7;\n",
       "        }    #T_458b680c_7766_11ea_a689_5e6889280518row8_col2 {\n",
       "            background-color:  #aacfe5;\n",
       "        }    #T_458b680c_7766_11ea_a689_5e6889280518row8_col3 {\n",
       "            background-color:  #dae8f6;\n",
       "        }    #T_458b680c_7766_11ea_a689_5e6889280518row8_col4 {\n",
       "            background-color:  #fdcdb9;\n",
       "        }    #T_458b680c_7766_11ea_a689_5e6889280518row8_col5 {\n",
       "            background-color:  #fdd3c1;\n",
       "        }    #T_458b680c_7766_11ea_a689_5e6889280518row8_col6 {\n",
       "            background-color:  #f4fbf1;\n",
       "        }    #T_458b680c_7766_11ea_a689_5e6889280518row8_col7 {\n",
       "            background-color:  #f5fbf2;\n",
       "        }    #T_458b680c_7766_11ea_a689_5e6889280518row9_col1 {\n",
       "            background-color:  #b8d5ea;\n",
       "        }    #T_458b680c_7766_11ea_a689_5e6889280518row9_col2 {\n",
       "            background-color:  #b4d3e9;\n",
       "        }    #T_458b680c_7766_11ea_a689_5e6889280518row9_col3 {\n",
       "            background-color:  #f7fbff;\n",
       "        }    #T_458b680c_7766_11ea_a689_5e6889280518row9_col4 {\n",
       "            background-color:  #fc9272;\n",
       "        }    #T_458b680c_7766_11ea_a689_5e6889280518row9_col5 {\n",
       "            background-color:  #fc9576;\n",
       "        }    #T_458b680c_7766_11ea_a689_5e6889280518row9_col6 {\n",
       "            background-color:  #f7fcf5;\n",
       "        }    #T_458b680c_7766_11ea_a689_5e6889280518row9_col7 {\n",
       "            background-color:  #f7fcf5;\n",
       "        }    #T_458b680c_7766_11ea_a689_5e6889280518row10_col1 {\n",
       "            background-color:  #c4daee;\n",
       "        }    #T_458b680c_7766_11ea_a689_5e6889280518row10_col2 {\n",
       "            background-color:  #c9ddf0;\n",
       "        }    #T_458b680c_7766_11ea_a689_5e6889280518row10_col3 {\n",
       "            background-color:  #eaf2fb;\n",
       "        }    #T_458b680c_7766_11ea_a689_5e6889280518row10_col4 {\n",
       "            background-color:  #fb7d5d;\n",
       "        }    #T_458b680c_7766_11ea_a689_5e6889280518row10_col5 {\n",
       "            background-color:  #fb7050;\n",
       "        }    #T_458b680c_7766_11ea_a689_5e6889280518row10_col6 {\n",
       "            background-color:  #d6efd0;\n",
       "        }    #T_458b680c_7766_11ea_a689_5e6889280518row10_col7 {\n",
       "            background-color:  #d6efd0;\n",
       "        }    #T_458b680c_7766_11ea_a689_5e6889280518row11_col1 {\n",
       "            background-color:  #cfe1f2;\n",
       "        }    #T_458b680c_7766_11ea_a689_5e6889280518row11_col2 {\n",
       "            background-color:  #cde0f1;\n",
       "        }    #T_458b680c_7766_11ea_a689_5e6889280518row11_col3 {\n",
       "            background-color:  #e2edf8;\n",
       "        }    #T_458b680c_7766_11ea_a689_5e6889280518row11_col4 {\n",
       "            background-color:  #fee0d2;\n",
       "        }    #T_458b680c_7766_11ea_a689_5e6889280518row11_col5 {\n",
       "            background-color:  #fdd3c1;\n",
       "        }    #T_458b680c_7766_11ea_a689_5e6889280518row11_col6 {\n",
       "            background-color:  #edf8e9;\n",
       "        }    #T_458b680c_7766_11ea_a689_5e6889280518row11_col7 {\n",
       "            background-color:  #ebf7e7;\n",
       "        }    #T_458b680c_7766_11ea_a689_5e6889280518row12_col1 {\n",
       "            background-color:  #d9e7f5;\n",
       "        }    #T_458b680c_7766_11ea_a689_5e6889280518row12_col2 {\n",
       "            background-color:  #d9e7f5;\n",
       "        }    #T_458b680c_7766_11ea_a689_5e6889280518row12_col3 {\n",
       "            background-color:  #f5f9fe;\n",
       "        }    #T_458b680c_7766_11ea_a689_5e6889280518row12_col4 {\n",
       "            background-color:  #fdcdb9;\n",
       "        }    #T_458b680c_7766_11ea_a689_5e6889280518row12_col5 {\n",
       "            background-color:  #fc9e80;\n",
       "        }    #T_458b680c_7766_11ea_a689_5e6889280518row12_col6 {\n",
       "            background-color:  #edf8e9;\n",
       "        }    #T_458b680c_7766_11ea_a689_5e6889280518row12_col7 {\n",
       "            background-color:  #e7f6e2;\n",
       "        }    #T_458b680c_7766_11ea_a689_5e6889280518row13_col1 {\n",
       "            background-color:  #dceaf6;\n",
       "        }    #T_458b680c_7766_11ea_a689_5e6889280518row13_col2 {\n",
       "            background-color:  #dceaf6;\n",
       "        }    #T_458b680c_7766_11ea_a689_5e6889280518row13_col3 {\n",
       "            background-color:  #f7fbff;\n",
       "        }    #T_458b680c_7766_11ea_a689_5e6889280518row13_col4 {\n",
       "            background-color:  #fcbba1;\n",
       "        }    #T_458b680c_7766_11ea_a689_5e6889280518row13_col5 {\n",
       "            background-color:  #f96245;\n",
       "        }    #T_458b680c_7766_11ea_a689_5e6889280518row13_col6 {\n",
       "            background-color:  #f4fbf1;\n",
       "        }    #T_458b680c_7766_11ea_a689_5e6889280518row13_col7 {\n",
       "            background-color:  #f1faee;\n",
       "        }    #T_458b680c_7766_11ea_a689_5e6889280518row14_col1 {\n",
       "            background-color:  #deebf7;\n",
       "        }    #T_458b680c_7766_11ea_a689_5e6889280518row14_col2 {\n",
       "            background-color:  #eaf2fb;\n",
       "        }    #T_458b680c_7766_11ea_a689_5e6889280518row14_col3 {\n",
       "            background-color:  #f7fbff;\n",
       "        }    #T_458b680c_7766_11ea_a689_5e6889280518row14_col4 {\n",
       "            background-color:  #fff5f0;\n",
       "        }    #T_458b680c_7766_11ea_a689_5e6889280518row14_col5 {\n",
       "            background-color:  #fff5f0;\n",
       "        }    #T_458b680c_7766_11ea_a689_5e6889280518row14_col6 {\n",
       "            background-color:  #73c476;\n",
       "        }    #T_458b680c_7766_11ea_a689_5e6889280518row14_col7 {\n",
       "            background-color:  #00441b;\n",
       "        }    #T_458b680c_7766_11ea_a689_5e6889280518row15_col1 {\n",
       "            background-color:  #eaf2fb;\n",
       "        }    #T_458b680c_7766_11ea_a689_5e6889280518row15_col2 {\n",
       "            background-color:  #e9f2fa;\n",
       "        }    #T_458b680c_7766_11ea_a689_5e6889280518row15_col3 {\n",
       "            background-color:  #f5f9fe;\n",
       "        }    #T_458b680c_7766_11ea_a689_5e6889280518row15_col4 {\n",
       "            background-color:  #feeae1;\n",
       "        }    #T_458b680c_7766_11ea_a689_5e6889280518row15_col5 {\n",
       "            background-color:  #fcbba1;\n",
       "        }    #T_458b680c_7766_11ea_a689_5e6889280518row15_col6 {\n",
       "            background-color:  #f7fcf5;\n",
       "        }    #T_458b680c_7766_11ea_a689_5e6889280518row15_col7 {\n",
       "            background-color:  #f7fcf5;\n",
       "        }    #T_458b680c_7766_11ea_a689_5e6889280518row16_col1 {\n",
       "            background-color:  #edf4fc;\n",
       "        }    #T_458b680c_7766_11ea_a689_5e6889280518row16_col2 {\n",
       "            background-color:  #ecf4fb;\n",
       "        }    #T_458b680c_7766_11ea_a689_5e6889280518row16_col3 {\n",
       "            background-color:  #f2f8fd;\n",
       "        }    #T_458b680c_7766_11ea_a689_5e6889280518row16_col4 {\n",
       "            background-color:  #fff5f0;\n",
       "        }    #T_458b680c_7766_11ea_a689_5e6889280518row16_col5 {\n",
       "            background-color:  #fff5f0;\n",
       "        }    #T_458b680c_7766_11ea_a689_5e6889280518row16_col6 {\n",
       "            background-color:  #f7fcf5;\n",
       "        }    #T_458b680c_7766_11ea_a689_5e6889280518row16_col7 {\n",
       "            background-color:  #f7fcf5;\n",
       "        }    #T_458b680c_7766_11ea_a689_5e6889280518row17_col1 {\n",
       "            background-color:  #eef5fc;\n",
       "        }    #T_458b680c_7766_11ea_a689_5e6889280518row17_col2 {\n",
       "            background-color:  #eef5fc;\n",
       "        }    #T_458b680c_7766_11ea_a689_5e6889280518row17_col3 {\n",
       "            background-color:  #d0e1f2;\n",
       "        }    #T_458b680c_7766_11ea_a689_5e6889280518row17_col4 {\n",
       "            background-color:  #fff5f0;\n",
       "        }    #T_458b680c_7766_11ea_a689_5e6889280518row17_col5 {\n",
       "            background-color:  #fff5f0;\n",
       "        }    #T_458b680c_7766_11ea_a689_5e6889280518row17_col6 {\n",
       "            background-color:  #f7fcf5;\n",
       "        }    #T_458b680c_7766_11ea_a689_5e6889280518row17_col7 {\n",
       "            background-color:  #f7fcf5;\n",
       "        }    #T_458b680c_7766_11ea_a689_5e6889280518row18_col1 {\n",
       "            background-color:  #f0f6fd;\n",
       "        }    #T_458b680c_7766_11ea_a689_5e6889280518row18_col2 {\n",
       "            background-color:  #f1f7fd;\n",
       "        }    #T_458b680c_7766_11ea_a689_5e6889280518row18_col3 {\n",
       "            background-color:  #f5f9fe;\n",
       "        }    #T_458b680c_7766_11ea_a689_5e6889280518row18_col4 {\n",
       "            background-color:  #fff5f0;\n",
       "        }    #T_458b680c_7766_11ea_a689_5e6889280518row18_col5 {\n",
       "            background-color:  #fff5f0;\n",
       "        }    #T_458b680c_7766_11ea_a689_5e6889280518row18_col6 {\n",
       "            background-color:  #edf8e9;\n",
       "        }    #T_458b680c_7766_11ea_a689_5e6889280518row18_col7 {\n",
       "            background-color:  #8ace88;\n",
       "        }    #T_458b680c_7766_11ea_a689_5e6889280518row19_col1 {\n",
       "            background-color:  #f2f8fd;\n",
       "        }    #T_458b680c_7766_11ea_a689_5e6889280518row19_col2 {\n",
       "            background-color:  #f2f7fd;\n",
       "        }    #T_458b680c_7766_11ea_a689_5e6889280518row19_col3 {\n",
       "            background-color:  #f7fbff;\n",
       "        }    #T_458b680c_7766_11ea_a689_5e6889280518row19_col4 {\n",
       "            background-color:  #fff5f0;\n",
       "        }    #T_458b680c_7766_11ea_a689_5e6889280518row19_col5 {\n",
       "            background-color:  #fff5f0;\n",
       "        }    #T_458b680c_7766_11ea_a689_5e6889280518row19_col6 {\n",
       "            background-color:  #f7fcf5;\n",
       "        }    #T_458b680c_7766_11ea_a689_5e6889280518row19_col7 {\n",
       "            background-color:  #f7fcf5;\n",
       "        }    #T_458b680c_7766_11ea_a689_5e6889280518row20_col1 {\n",
       "            background-color:  #f2f8fd;\n",
       "        }    #T_458b680c_7766_11ea_a689_5e6889280518row20_col2 {\n",
       "            background-color:  #f3f8fe;\n",
       "        }    #T_458b680c_7766_11ea_a689_5e6889280518row20_col3 {\n",
       "            background-color:  #eff6fc;\n",
       "        }    #T_458b680c_7766_11ea_a689_5e6889280518row20_col4 {\n",
       "            background-color:  #fff5f0;\n",
       "        }    #T_458b680c_7766_11ea_a689_5e6889280518row20_col5 {\n",
       "            background-color:  #fff5f0;\n",
       "        }    #T_458b680c_7766_11ea_a689_5e6889280518row20_col6 {\n",
       "            background-color:  #f0f9ed;\n",
       "        }    #T_458b680c_7766_11ea_a689_5e6889280518row20_col7 {\n",
       "            background-color:  #95d391;\n",
       "        }    #T_458b680c_7766_11ea_a689_5e6889280518row21_col1 {\n",
       "            background-color:  #f2f8fd;\n",
       "        }    #T_458b680c_7766_11ea_a689_5e6889280518row21_col2 {\n",
       "            background-color:  #f3f8fe;\n",
       "        }    #T_458b680c_7766_11ea_a689_5e6889280518row21_col3 {\n",
       "            background-color:  #f7fbff;\n",
       "        }    #T_458b680c_7766_11ea_a689_5e6889280518row21_col4 {\n",
       "            background-color:  #fff5f0;\n",
       "        }    #T_458b680c_7766_11ea_a689_5e6889280518row21_col5 {\n",
       "            background-color:  #fff5f0;\n",
       "        }    #T_458b680c_7766_11ea_a689_5e6889280518row21_col6 {\n",
       "            background-color:  #f0f9ed;\n",
       "        }    #T_458b680c_7766_11ea_a689_5e6889280518row21_col7 {\n",
       "            background-color:  #84cc83;\n",
       "        }    #T_458b680c_7766_11ea_a689_5e6889280518row22_col1 {\n",
       "            background-color:  #f5f9fe;\n",
       "        }    #T_458b680c_7766_11ea_a689_5e6889280518row22_col2 {\n",
       "            background-color:  #f4f9fe;\n",
       "        }    #T_458b680c_7766_11ea_a689_5e6889280518row22_col3 {\n",
       "            background-color:  #f5f9fe;\n",
       "        }    #T_458b680c_7766_11ea_a689_5e6889280518row22_col4 {\n",
       "            background-color:  #fff5f0;\n",
       "        }    #T_458b680c_7766_11ea_a689_5e6889280518row22_col5 {\n",
       "            background-color:  #fff5f0;\n",
       "        }    #T_458b680c_7766_11ea_a689_5e6889280518row22_col6 {\n",
       "            background-color:  #f7fcf5;\n",
       "        }    #T_458b680c_7766_11ea_a689_5e6889280518row22_col7 {\n",
       "            background-color:  #f7fcf5;\n",
       "        }    #T_458b680c_7766_11ea_a689_5e6889280518row23_col1 {\n",
       "            background-color:  #f5f9fe;\n",
       "        }    #T_458b680c_7766_11ea_a689_5e6889280518row23_col2 {\n",
       "            background-color:  #f5fafe;\n",
       "        }    #T_458b680c_7766_11ea_a689_5e6889280518row23_col3 {\n",
       "            background-color:  #eff6fc;\n",
       "        }    #T_458b680c_7766_11ea_a689_5e6889280518row23_col4 {\n",
       "            background-color:  #feeae1;\n",
       "        }    #T_458b680c_7766_11ea_a689_5e6889280518row23_col5 {\n",
       "            background-color:  #67000d;\n",
       "        }    #T_458b680c_7766_11ea_a689_5e6889280518row23_col6 {\n",
       "            background-color:  #f4fbf1;\n",
       "        }    #T_458b680c_7766_11ea_a689_5e6889280518row23_col7 {\n",
       "            background-color:  #abdda5;\n",
       "        }    #T_458b680c_7766_11ea_a689_5e6889280518row24_col1 {\n",
       "            background-color:  #f5f9fe;\n",
       "        }    #T_458b680c_7766_11ea_a689_5e6889280518row24_col2 {\n",
       "            background-color:  #f5f9fe;\n",
       "        }    #T_458b680c_7766_11ea_a689_5e6889280518row24_col3 {\n",
       "            background-color:  #f5f9fe;\n",
       "        }    #T_458b680c_7766_11ea_a689_5e6889280518row24_col4 {\n",
       "            background-color:  #fff5f0;\n",
       "        }    #T_458b680c_7766_11ea_a689_5e6889280518row24_col5 {\n",
       "            background-color:  #fff5f0;\n",
       "        }    #T_458b680c_7766_11ea_a689_5e6889280518row24_col6 {\n",
       "            background-color:  #f7fcf5;\n",
       "        }    #T_458b680c_7766_11ea_a689_5e6889280518row24_col7 {\n",
       "            background-color:  #f7fcf5;\n",
       "        }    #T_458b680c_7766_11ea_a689_5e6889280518row25_col1 {\n",
       "            background-color:  #f6faff;\n",
       "        }    #T_458b680c_7766_11ea_a689_5e6889280518row25_col2 {\n",
       "            background-color:  #f7fbff;\n",
       "        }    #T_458b680c_7766_11ea_a689_5e6889280518row25_col3 {\n",
       "            background-color:  #f7fbff;\n",
       "        }    #T_458b680c_7766_11ea_a689_5e6889280518row25_col4 {\n",
       "            background-color:  #fff5f0;\n",
       "        }    #T_458b680c_7766_11ea_a689_5e6889280518row25_col5 {\n",
       "            background-color:  #fff5f0;\n",
       "        }    #T_458b680c_7766_11ea_a689_5e6889280518row25_col6 {\n",
       "            background-color:  #f4fbf1;\n",
       "        }    #T_458b680c_7766_11ea_a689_5e6889280518row25_col7 {\n",
       "            background-color:  #339c52;\n",
       "        }    #T_458b680c_7766_11ea_a689_5e6889280518row26_col1 {\n",
       "            background-color:  #f7fbff;\n",
       "        }    #T_458b680c_7766_11ea_a689_5e6889280518row26_col2 {\n",
       "            background-color:  #f7fbff;\n",
       "        }    #T_458b680c_7766_11ea_a689_5e6889280518row26_col3 {\n",
       "            background-color:  #f5f9fe;\n",
       "        }    #T_458b680c_7766_11ea_a689_5e6889280518row26_col4 {\n",
       "            background-color:  #fff5f0;\n",
       "        }    #T_458b680c_7766_11ea_a689_5e6889280518row26_col5 {\n",
       "            background-color:  #fff5f0;\n",
       "        }    #T_458b680c_7766_11ea_a689_5e6889280518row26_col6 {\n",
       "            background-color:  #f7fcf5;\n",
       "        }    #T_458b680c_7766_11ea_a689_5e6889280518row26_col7 {\n",
       "            background-color:  #f7fcf5;\n",
       "        }    #T_458b680c_7766_11ea_a689_5e6889280518row27_col1 {\n",
       "            background-color:  #f7fbff;\n",
       "        }    #T_458b680c_7766_11ea_a689_5e6889280518row27_col2 {\n",
       "            background-color:  #f7fbff;\n",
       "        }    #T_458b680c_7766_11ea_a689_5e6889280518row27_col3 {\n",
       "            background-color:  #f5f9fe;\n",
       "        }    #T_458b680c_7766_11ea_a689_5e6889280518row27_col4 {\n",
       "            background-color:  #fff5f0;\n",
       "        }    #T_458b680c_7766_11ea_a689_5e6889280518row27_col5 {\n",
       "            background-color:  #fff5f0;\n",
       "        }    #T_458b680c_7766_11ea_a689_5e6889280518row27_col6 {\n",
       "            background-color:  #f7fcf5;\n",
       "        }    #T_458b680c_7766_11ea_a689_5e6889280518row27_col7 {\n",
       "            background-color:  #f7fcf5;\n",
       "        }    #T_458b680c_7766_11ea_a689_5e6889280518row28_col1 {\n",
       "            background-color:  #f7fbff;\n",
       "        }    #T_458b680c_7766_11ea_a689_5e6889280518row28_col2 {\n",
       "            background-color:  #f7fbff;\n",
       "        }    #T_458b680c_7766_11ea_a689_5e6889280518row28_col3 {\n",
       "            background-color:  #f7fbff;\n",
       "        }    #T_458b680c_7766_11ea_a689_5e6889280518row28_col4 {\n",
       "            background-color:  #fff5f0;\n",
       "        }    #T_458b680c_7766_11ea_a689_5e6889280518row28_col5 {\n",
       "            background-color:  #fff5f0;\n",
       "        }    #T_458b680c_7766_11ea_a689_5e6889280518row28_col6 {\n",
       "            background-color:  #f7fcf5;\n",
       "        }    #T_458b680c_7766_11ea_a689_5e6889280518row28_col7 {\n",
       "            background-color:  #f7fcf5;\n",
       "        }    #T_458b680c_7766_11ea_a689_5e6889280518row29_col1 {\n",
       "            background-color:  #f7fbff;\n",
       "        }    #T_458b680c_7766_11ea_a689_5e6889280518row29_col2 {\n",
       "            background-color:  #f7fbff;\n",
       "        }    #T_458b680c_7766_11ea_a689_5e6889280518row29_col3 {\n",
       "            background-color:  #f5f9fe;\n",
       "        }    #T_458b680c_7766_11ea_a689_5e6889280518row29_col4 {\n",
       "            background-color:  #fff5f0;\n",
       "        }    #T_458b680c_7766_11ea_a689_5e6889280518row29_col5 {\n",
       "            background-color:  #fff5f0;\n",
       "        }    #T_458b680c_7766_11ea_a689_5e6889280518row29_col6 {\n",
       "            background-color:  #f7fcf5;\n",
       "        }    #T_458b680c_7766_11ea_a689_5e6889280518row29_col7 {\n",
       "            background-color:  #f7fcf5;\n",
       "        }</style>  \n",
       "<table id=\"T_458b680c_7766_11ea_a689_5e6889280518\" > \n",
       "<thead>    <tr> \n",
       "        <th class=\"blank level0\" ></th> \n",
       "        <th class=\"col_heading level0 col0\" >State/UT</th> \n",
       "        <th class=\"col_heading level0 col1\" >Confirmed</th> \n",
       "        <th class=\"col_heading level0 col2\" >Active</th> \n",
       "        <th class=\"col_heading level0 col3\" >New cases</th> \n",
       "        <th class=\"col_heading level0 col4\" >Deaths</th> \n",
       "        <th class=\"col_heading level0 col5\" >Mortality rate</th> \n",
       "        <th class=\"col_heading level0 col6\" >Cured</th> \n",
       "        <th class=\"col_heading level0 col7\" >Recovery rate</th> \n",
       "    </tr></thead> \n",
       "<tbody>    <tr> \n",
       "        <th id=\"T_458b680c_7766_11ea_a689_5e6889280518level0_row0\" class=\"row_heading level0 row0\" >0</th> \n",
       "        <td id=\"T_458b680c_7766_11ea_a689_5e6889280518row0_col0\" class=\"data row0 col0\" >Maharashtra</td> \n",
       "        <td id=\"T_458b680c_7766_11ea_a689_5e6889280518row0_col1\" class=\"data row0 col1\" >335</td> \n",
       "        <td id=\"T_458b680c_7766_11ea_a689_5e6889280518row0_col2\" class=\"data row0 col2\" >277</td> \n",
       "        <td id=\"T_458b680c_7766_11ea_a689_5e6889280518row0_col3\" class=\"data row0 col3\" >0</td> \n",
       "        <td id=\"T_458b680c_7766_11ea_a689_5e6889280518row0_col4\" class=\"data row0 col4\" >16</td> \n",
       "        <td id=\"T_458b680c_7766_11ea_a689_5e6889280518row0_col5\" class=\"data row0 col5\" >0.0477612</td> \n",
       "        <td id=\"T_458b680c_7766_11ea_a689_5e6889280518row0_col6\" class=\"data row0 col6\" >42</td> \n",
       "        <td id=\"T_458b680c_7766_11ea_a689_5e6889280518row0_col7\" class=\"data row0 col7\" >0.125373</td> \n",
       "    </tr>    <tr> \n",
       "        <th id=\"T_458b680c_7766_11ea_a689_5e6889280518level0_row1\" class=\"row_heading level0 row1\" >1</th> \n",
       "        <td id=\"T_458b680c_7766_11ea_a689_5e6889280518row1_col0\" class=\"data row1 col0\" >Tamil Nadu</td> \n",
       "        <td id=\"T_458b680c_7766_11ea_a689_5e6889280518row1_col1\" class=\"data row1 col1\" >309</td> \n",
       "        <td id=\"T_458b680c_7766_11ea_a689_5e6889280518row1_col2\" class=\"data row1 col2\" >302</td> \n",
       "        <td id=\"T_458b680c_7766_11ea_a689_5e6889280518row1_col3\" class=\"data row1 col3\" >75</td> \n",
       "        <td id=\"T_458b680c_7766_11ea_a689_5e6889280518row1_col4\" class=\"data row1 col4\" >1</td> \n",
       "        <td id=\"T_458b680c_7766_11ea_a689_5e6889280518row1_col5\" class=\"data row1 col5\" >0.00323625</td> \n",
       "        <td id=\"T_458b680c_7766_11ea_a689_5e6889280518row1_col6\" class=\"data row1 col6\" >6</td> \n",
       "        <td id=\"T_458b680c_7766_11ea_a689_5e6889280518row1_col7\" class=\"data row1 col7\" >0.0194175</td> \n",
       "    </tr>    <tr> \n",
       "        <th id=\"T_458b680c_7766_11ea_a689_5e6889280518level0_row2\" class=\"row_heading level0 row2\" >2</th> \n",
       "        <td id=\"T_458b680c_7766_11ea_a689_5e6889280518row2_col0\" class=\"data row2 col0\" >Kerala</td> \n",
       "        <td id=\"T_458b680c_7766_11ea_a689_5e6889280518row2_col1\" class=\"data row2 col1\" >286</td> \n",
       "        <td id=\"T_458b680c_7766_11ea_a689_5e6889280518row2_col2\" class=\"data row2 col2\" >257</td> \n",
       "        <td id=\"T_458b680c_7766_11ea_a689_5e6889280518row2_col3\" class=\"data row2 col3\" >21</td> \n",
       "        <td id=\"T_458b680c_7766_11ea_a689_5e6889280518row2_col4\" class=\"data row2 col4\" >2</td> \n",
       "        <td id=\"T_458b680c_7766_11ea_a689_5e6889280518row2_col5\" class=\"data row2 col5\" >0.00699301</td> \n",
       "        <td id=\"T_458b680c_7766_11ea_a689_5e6889280518row2_col6\" class=\"data row2 col6\" >27</td> \n",
       "        <td id=\"T_458b680c_7766_11ea_a689_5e6889280518row2_col7\" class=\"data row2 col7\" >0.0944056</td> \n",
       "    </tr>    <tr> \n",
       "        <th id=\"T_458b680c_7766_11ea_a689_5e6889280518level0_row3\" class=\"row_heading level0 row3\" >3</th> \n",
       "        <td id=\"T_458b680c_7766_11ea_a689_5e6889280518row3_col0\" class=\"data row3 col0\" >Delhi</td> \n",
       "        <td id=\"T_458b680c_7766_11ea_a689_5e6889280518row3_col1\" class=\"data row3 col1\" >219</td> \n",
       "        <td id=\"T_458b680c_7766_11ea_a689_5e6889280518row3_col2\" class=\"data row3 col2\" >207</td> \n",
       "        <td id=\"T_458b680c_7766_11ea_a689_5e6889280518row3_col3\" class=\"data row3 col3\" >67</td> \n",
       "        <td id=\"T_458b680c_7766_11ea_a689_5e6889280518row3_col4\" class=\"data row3 col4\" >4</td> \n",
       "        <td id=\"T_458b680c_7766_11ea_a689_5e6889280518row3_col5\" class=\"data row3 col5\" >0.0182648</td> \n",
       "        <td id=\"T_458b680c_7766_11ea_a689_5e6889280518row3_col6\" class=\"data row3 col6\" >8</td> \n",
       "        <td id=\"T_458b680c_7766_11ea_a689_5e6889280518row3_col7\" class=\"data row3 col7\" >0.0365297</td> \n",
       "    </tr>    <tr> \n",
       "        <th id=\"T_458b680c_7766_11ea_a689_5e6889280518level0_row4\" class=\"row_heading level0 row4\" >4</th> \n",
       "        <td id=\"T_458b680c_7766_11ea_a689_5e6889280518row4_col0\" class=\"data row4 col0\" >Rajasthan</td> \n",
       "        <td id=\"T_458b680c_7766_11ea_a689_5e6889280518row4_col1\" class=\"data row4 col1\" >133</td> \n",
       "        <td id=\"T_458b680c_7766_11ea_a689_5e6889280518row4_col2\" class=\"data row4 col2\" >130</td> \n",
       "        <td id=\"T_458b680c_7766_11ea_a689_5e6889280518row4_col3\" class=\"data row4 col3\" >25</td> \n",
       "        <td id=\"T_458b680c_7766_11ea_a689_5e6889280518row4_col4\" class=\"data row4 col4\" >0</td> \n",
       "        <td id=\"T_458b680c_7766_11ea_a689_5e6889280518row4_col5\" class=\"data row4 col5\" >0</td> \n",
       "        <td id=\"T_458b680c_7766_11ea_a689_5e6889280518row4_col6\" class=\"data row4 col6\" >3</td> \n",
       "        <td id=\"T_458b680c_7766_11ea_a689_5e6889280518row4_col7\" class=\"data row4 col7\" >0.0225564</td> \n",
       "    </tr>    <tr> \n",
       "        <th id=\"T_458b680c_7766_11ea_a689_5e6889280518level0_row5\" class=\"row_heading level0 row5\" >5</th> \n",
       "        <td id=\"T_458b680c_7766_11ea_a689_5e6889280518row5_col0\" class=\"data row5 col0\" >Andhra Pradesh</td> \n",
       "        <td id=\"T_458b680c_7766_11ea_a689_5e6889280518row5_col1\" class=\"data row5 col1\" >132</td> \n",
       "        <td id=\"T_458b680c_7766_11ea_a689_5e6889280518row5_col2\" class=\"data row5 col2\" >130</td> \n",
       "        <td id=\"T_458b680c_7766_11ea_a689_5e6889280518row5_col3\" class=\"data row5 col3\" >46</td> \n",
       "        <td id=\"T_458b680c_7766_11ea_a689_5e6889280518row5_col4\" class=\"data row5 col4\" >1</td> \n",
       "        <td id=\"T_458b680c_7766_11ea_a689_5e6889280518row5_col5\" class=\"data row5 col5\" >0.00757576</td> \n",
       "        <td id=\"T_458b680c_7766_11ea_a689_5e6889280518row5_col6\" class=\"data row5 col6\" >1</td> \n",
       "        <td id=\"T_458b680c_7766_11ea_a689_5e6889280518row5_col7\" class=\"data row5 col7\" >0.00757576</td> \n",
       "    </tr>    <tr> \n",
       "        <th id=\"T_458b680c_7766_11ea_a689_5e6889280518level0_row6\" class=\"row_heading level0 row6\" >6</th> \n",
       "        <td id=\"T_458b680c_7766_11ea_a689_5e6889280518row6_col0\" class=\"data row6 col0\" >Karnataka</td> \n",
       "        <td id=\"T_458b680c_7766_11ea_a689_5e6889280518row6_col1\" class=\"data row6 col1\" >124</td> \n",
       "        <td id=\"T_458b680c_7766_11ea_a689_5e6889280518row6_col2\" class=\"data row6 col2\" >111</td> \n",
       "        <td id=\"T_458b680c_7766_11ea_a689_5e6889280518row6_col3\" class=\"data row6 col3\" >14</td> \n",
       "        <td id=\"T_458b680c_7766_11ea_a689_5e6889280518row6_col4\" class=\"data row6 col4\" >3</td> \n",
       "        <td id=\"T_458b680c_7766_11ea_a689_5e6889280518row6_col5\" class=\"data row6 col5\" >0.0241935</td> \n",
       "        <td id=\"T_458b680c_7766_11ea_a689_5e6889280518row6_col6\" class=\"data row6 col6\" >10</td> \n",
       "        <td id=\"T_458b680c_7766_11ea_a689_5e6889280518row6_col7\" class=\"data row6 col7\" >0.0806452</td> \n",
       "    </tr>    <tr> \n",
       "        <th id=\"T_458b680c_7766_11ea_a689_5e6889280518level0_row7\" class=\"row_heading level0 row7\" >7</th> \n",
       "        <td id=\"T_458b680c_7766_11ea_a689_5e6889280518row7_col0\" class=\"data row7 col0\" >Uttar Pradesh</td> \n",
       "        <td id=\"T_458b680c_7766_11ea_a689_5e6889280518row7_col1\" class=\"data row7 col1\" >113</td> \n",
       "        <td id=\"T_458b680c_7766_11ea_a689_5e6889280518row7_col2\" class=\"data row7 col2\" >97</td> \n",
       "        <td id=\"T_458b680c_7766_11ea_a689_5e6889280518row7_col3\" class=\"data row7 col3\" >0</td> \n",
       "        <td id=\"T_458b680c_7766_11ea_a689_5e6889280518row7_col4\" class=\"data row7 col4\" >2</td> \n",
       "        <td id=\"T_458b680c_7766_11ea_a689_5e6889280518row7_col5\" class=\"data row7 col5\" >0.0176991</td> \n",
       "        <td id=\"T_458b680c_7766_11ea_a689_5e6889280518row7_col6\" class=\"data row7 col6\" >14</td> \n",
       "        <td id=\"T_458b680c_7766_11ea_a689_5e6889280518row7_col7\" class=\"data row7 col7\" >0.123894</td> \n",
       "    </tr>    <tr> \n",
       "        <th id=\"T_458b680c_7766_11ea_a689_5e6889280518level0_row8\" class=\"row_heading level0 row8\" >8</th> \n",
       "        <td id=\"T_458b680c_7766_11ea_a689_5e6889280518row8_col0\" class=\"data row8 col0\" >Telengana</td> \n",
       "        <td id=\"T_458b680c_7766_11ea_a689_5e6889280518row8_col1\" class=\"data row8 col1\" >107</td> \n",
       "        <td id=\"T_458b680c_7766_11ea_a689_5e6889280518row8_col2\" class=\"data row8 col2\" >103</td> \n",
       "        <td id=\"T_458b680c_7766_11ea_a689_5e6889280518row8_col3\" class=\"data row8 col3\" >11</td> \n",
       "        <td id=\"T_458b680c_7766_11ea_a689_5e6889280518row8_col4\" class=\"data row8 col4\" >3</td> \n",
       "        <td id=\"T_458b680c_7766_11ea_a689_5e6889280518row8_col5\" class=\"data row8 col5\" >0.0280374</td> \n",
       "        <td id=\"T_458b680c_7766_11ea_a689_5e6889280518row8_col6\" class=\"data row8 col6\" >1</td> \n",
       "        <td id=\"T_458b680c_7766_11ea_a689_5e6889280518row8_col7\" class=\"data row8 col7\" >0.00934579</td> \n",
       "    </tr>    <tr> \n",
       "        <th id=\"T_458b680c_7766_11ea_a689_5e6889280518level0_row9\" class=\"row_heading level0 row9\" >9</th> \n",
       "        <td id=\"T_458b680c_7766_11ea_a689_5e6889280518row9_col0\" class=\"data row9 col0\" >Madhya Pradesh</td> \n",
       "        <td id=\"T_458b680c_7766_11ea_a689_5e6889280518row9_col1\" class=\"data row9 col1\" >99</td> \n",
       "        <td id=\"T_458b680c_7766_11ea_a689_5e6889280518row9_col2\" class=\"data row9 col2\" >93</td> \n",
       "        <td id=\"T_458b680c_7766_11ea_a689_5e6889280518row9_col3\" class=\"data row9 col3\" >0</td> \n",
       "        <td id=\"T_458b680c_7766_11ea_a689_5e6889280518row9_col4\" class=\"data row9 col4\" >6</td> \n",
       "        <td id=\"T_458b680c_7766_11ea_a689_5e6889280518row9_col5\" class=\"data row9 col5\" >0.0606061</td> \n",
       "        <td id=\"T_458b680c_7766_11ea_a689_5e6889280518row9_col6\" class=\"data row9 col6\" >0</td> \n",
       "        <td id=\"T_458b680c_7766_11ea_a689_5e6889280518row9_col7\" class=\"data row9 col7\" >0</td> \n",
       "    </tr>    <tr> \n",
       "        <th id=\"T_458b680c_7766_11ea_a689_5e6889280518level0_row10\" class=\"row_heading level0 row10\" >10</th> \n",
       "        <td id=\"T_458b680c_7766_11ea_a689_5e6889280518row10_col0\" class=\"data row10 col0\" >Gujarat</td> \n",
       "        <td id=\"T_458b680c_7766_11ea_a689_5e6889280518row10_col1\" class=\"data row10 col1\" >87</td> \n",
       "        <td id=\"T_458b680c_7766_11ea_a689_5e6889280518row10_col2\" class=\"data row10 col2\" >72</td> \n",
       "        <td id=\"T_458b680c_7766_11ea_a689_5e6889280518row10_col3\" class=\"data row10 col3\" >5</td> \n",
       "        <td id=\"T_458b680c_7766_11ea_a689_5e6889280518row10_col4\" class=\"data row10 col4\" >7</td> \n",
       "        <td id=\"T_458b680c_7766_11ea_a689_5e6889280518row10_col5\" class=\"data row10 col5\" >0.0804598</td> \n",
       "        <td id=\"T_458b680c_7766_11ea_a689_5e6889280518row10_col6\" class=\"data row10 col6\" >8</td> \n",
       "        <td id=\"T_458b680c_7766_11ea_a689_5e6889280518row10_col7\" class=\"data row10 col7\" >0.091954</td> \n",
       "    </tr>    <tr> \n",
       "        <th id=\"T_458b680c_7766_11ea_a689_5e6889280518level0_row11\" class=\"row_heading level0 row11\" >11</th> \n",
       "        <td id=\"T_458b680c_7766_11ea_a689_5e6889280518row11_col0\" class=\"data row11 col0\" >Jammu and Kashmir</td> \n",
       "        <td id=\"T_458b680c_7766_11ea_a689_5e6889280518row11_col1\" class=\"data row11 col1\" >70</td> \n",
       "        <td id=\"T_458b680c_7766_11ea_a689_5e6889280518row11_col2\" class=\"data row11 col2\" >65</td> \n",
       "        <td id=\"T_458b680c_7766_11ea_a689_5e6889280518row11_col3\" class=\"data row11 col3\" >8</td> \n",
       "        <td id=\"T_458b680c_7766_11ea_a689_5e6889280518row11_col4\" class=\"data row11 col4\" >2</td> \n",
       "        <td id=\"T_458b680c_7766_11ea_a689_5e6889280518row11_col5\" class=\"data row11 col5\" >0.0285714</td> \n",
       "        <td id=\"T_458b680c_7766_11ea_a689_5e6889280518row11_col6\" class=\"data row11 col6\" >3</td> \n",
       "        <td id=\"T_458b680c_7766_11ea_a689_5e6889280518row11_col7\" class=\"data row11 col7\" >0.0428571</td> \n",
       "    </tr>    <tr> \n",
       "        <th id=\"T_458b680c_7766_11ea_a689_5e6889280518level0_row12\" class=\"row_heading level0 row12\" >12</th> \n",
       "        <td id=\"T_458b680c_7766_11ea_a689_5e6889280518row12_col0\" class=\"data row12 col0\" >West Bengal</td> \n",
       "        <td id=\"T_458b680c_7766_11ea_a689_5e6889280518row12_col1\" class=\"data row12 col1\" >53</td> \n",
       "        <td id=\"T_458b680c_7766_11ea_a689_5e6889280518row12_col2\" class=\"data row12 col2\" >47</td> \n",
       "        <td id=\"T_458b680c_7766_11ea_a689_5e6889280518row12_col3\" class=\"data row12 col3\" >1</td> \n",
       "        <td id=\"T_458b680c_7766_11ea_a689_5e6889280518row12_col4\" class=\"data row12 col4\" >3</td> \n",
       "        <td id=\"T_458b680c_7766_11ea_a689_5e6889280518row12_col5\" class=\"data row12 col5\" >0.0566038</td> \n",
       "        <td id=\"T_458b680c_7766_11ea_a689_5e6889280518row12_col6\" class=\"data row12 col6\" >3</td> \n",
       "        <td id=\"T_458b680c_7766_11ea_a689_5e6889280518row12_col7\" class=\"data row12 col7\" >0.0566038</td> \n",
       "    </tr>    <tr> \n",
       "        <th id=\"T_458b680c_7766_11ea_a689_5e6889280518level0_row13\" class=\"row_heading level0 row13\" >13</th> \n",
       "        <td id=\"T_458b680c_7766_11ea_a689_5e6889280518row13_col0\" class=\"data row13 col0\" >Punjab</td> \n",
       "        <td id=\"T_458b680c_7766_11ea_a689_5e6889280518row13_col1\" class=\"data row13 col1\" >46</td> \n",
       "        <td id=\"T_458b680c_7766_11ea_a689_5e6889280518row13_col2\" class=\"data row13 col2\" >41</td> \n",
       "        <td id=\"T_458b680c_7766_11ea_a689_5e6889280518row13_col3\" class=\"data row13 col3\" >0</td> \n",
       "        <td id=\"T_458b680c_7766_11ea_a689_5e6889280518row13_col4\" class=\"data row13 col4\" >4</td> \n",
       "        <td id=\"T_458b680c_7766_11ea_a689_5e6889280518row13_col5\" class=\"data row13 col5\" >0.0869565</td> \n",
       "        <td id=\"T_458b680c_7766_11ea_a689_5e6889280518row13_col6\" class=\"data row13 col6\" >1</td> \n",
       "        <td id=\"T_458b680c_7766_11ea_a689_5e6889280518row13_col7\" class=\"data row13 col7\" >0.0217391</td> \n",
       "    </tr>    <tr> \n",
       "        <th id=\"T_458b680c_7766_11ea_a689_5e6889280518level0_row14\" class=\"row_heading level0 row14\" >14</th> \n",
       "        <td id=\"T_458b680c_7766_11ea_a689_5e6889280518row14_col0\" class=\"data row14 col0\" >Haryana</td> \n",
       "        <td id=\"T_458b680c_7766_11ea_a689_5e6889280518row14_col1\" class=\"data row14 col1\" >43</td> \n",
       "        <td id=\"T_458b680c_7766_11ea_a689_5e6889280518row14_col2\" class=\"data row14 col2\" >22</td> \n",
       "        <td id=\"T_458b680c_7766_11ea_a689_5e6889280518row14_col3\" class=\"data row14 col3\" >0</td> \n",
       "        <td id=\"T_458b680c_7766_11ea_a689_5e6889280518row14_col4\" class=\"data row14 col4\" >0</td> \n",
       "        <td id=\"T_458b680c_7766_11ea_a689_5e6889280518row14_col5\" class=\"data row14 col5\" >0</td> \n",
       "        <td id=\"T_458b680c_7766_11ea_a689_5e6889280518row14_col6\" class=\"data row14 col6\" >21</td> \n",
       "        <td id=\"T_458b680c_7766_11ea_a689_5e6889280518row14_col7\" class=\"data row14 col7\" >0.488372</td> \n",
       "    </tr>    <tr> \n",
       "        <th id=\"T_458b680c_7766_11ea_a689_5e6889280518level0_row15\" class=\"row_heading level0 row15\" >15</th> \n",
       "        <td id=\"T_458b680c_7766_11ea_a689_5e6889280518row15_col0\" class=\"data row15 col0\" >Bihar</td> \n",
       "        <td id=\"T_458b680c_7766_11ea_a689_5e6889280518row15_col1\" class=\"data row15 col1\" >24</td> \n",
       "        <td id=\"T_458b680c_7766_11ea_a689_5e6889280518row15_col2\" class=\"data row15 col2\" >23</td> \n",
       "        <td id=\"T_458b680c_7766_11ea_a689_5e6889280518row15_col3\" class=\"data row15 col3\" >1</td> \n",
       "        <td id=\"T_458b680c_7766_11ea_a689_5e6889280518row15_col4\" class=\"data row15 col4\" >1</td> \n",
       "        <td id=\"T_458b680c_7766_11ea_a689_5e6889280518row15_col5\" class=\"data row15 col5\" >0.0416667</td> \n",
       "        <td id=\"T_458b680c_7766_11ea_a689_5e6889280518row15_col6\" class=\"data row15 col6\" >0</td> \n",
       "        <td id=\"T_458b680c_7766_11ea_a689_5e6889280518row15_col7\" class=\"data row15 col7\" >0</td> \n",
       "    </tr>    <tr> \n",
       "        <th id=\"T_458b680c_7766_11ea_a689_5e6889280518level0_row16\" class=\"row_heading level0 row16\" >16</th> \n",
       "        <td id=\"T_458b680c_7766_11ea_a689_5e6889280518row16_col0\" class=\"data row16 col0\" >Chandigarh</td> \n",
       "        <td id=\"T_458b680c_7766_11ea_a689_5e6889280518row16_col1\" class=\"data row16 col1\" >18</td> \n",
       "        <td id=\"T_458b680c_7766_11ea_a689_5e6889280518row16_col2\" class=\"data row16 col2\" >18</td> \n",
       "        <td id=\"T_458b680c_7766_11ea_a689_5e6889280518row16_col3\" class=\"data row16 col3\" >2</td> \n",
       "        <td id=\"T_458b680c_7766_11ea_a689_5e6889280518row16_col4\" class=\"data row16 col4\" >0</td> \n",
       "        <td id=\"T_458b680c_7766_11ea_a689_5e6889280518row16_col5\" class=\"data row16 col5\" >0</td> \n",
       "        <td id=\"T_458b680c_7766_11ea_a689_5e6889280518row16_col6\" class=\"data row16 col6\" >0</td> \n",
       "        <td id=\"T_458b680c_7766_11ea_a689_5e6889280518row16_col7\" class=\"data row16 col7\" >0</td> \n",
       "    </tr>    <tr> \n",
       "        <th id=\"T_458b680c_7766_11ea_a689_5e6889280518level0_row17\" class=\"row_heading level0 row17\" >17</th> \n",
       "        <td id=\"T_458b680c_7766_11ea_a689_5e6889280518row17_col0\" class=\"data row17 col0\" >Assam</td> \n",
       "        <td id=\"T_458b680c_7766_11ea_a689_5e6889280518row17_col1\" class=\"data row17 col1\" >16</td> \n",
       "        <td id=\"T_458b680c_7766_11ea_a689_5e6889280518row17_col2\" class=\"data row17 col2\" >16</td> \n",
       "        <td id=\"T_458b680c_7766_11ea_a689_5e6889280518row17_col3\" class=\"data row17 col3\" >15</td> \n",
       "        <td id=\"T_458b680c_7766_11ea_a689_5e6889280518row17_col4\" class=\"data row17 col4\" >0</td> \n",
       "        <td id=\"T_458b680c_7766_11ea_a689_5e6889280518row17_col5\" class=\"data row17 col5\" >0</td> \n",
       "        <td id=\"T_458b680c_7766_11ea_a689_5e6889280518row17_col6\" class=\"data row17 col6\" >0</td> \n",
       "        <td id=\"T_458b680c_7766_11ea_a689_5e6889280518row17_col7\" class=\"data row17 col7\" >0</td> \n",
       "    </tr>    <tr> \n",
       "        <th id=\"T_458b680c_7766_11ea_a689_5e6889280518level0_row18\" class=\"row_heading level0 row18\" >18</th> \n",
       "        <td id=\"T_458b680c_7766_11ea_a689_5e6889280518row18_col0\" class=\"data row18 col0\" >Ladakh</td> \n",
       "        <td id=\"T_458b680c_7766_11ea_a689_5e6889280518row18_col1\" class=\"data row18 col1\" >14</td> \n",
       "        <td id=\"T_458b680c_7766_11ea_a689_5e6889280518row18_col2\" class=\"data row18 col2\" >11</td> \n",
       "        <td id=\"T_458b680c_7766_11ea_a689_5e6889280518row18_col3\" class=\"data row18 col3\" >1</td> \n",
       "        <td id=\"T_458b680c_7766_11ea_a689_5e6889280518row18_col4\" class=\"data row18 col4\" >0</td> \n",
       "        <td id=\"T_458b680c_7766_11ea_a689_5e6889280518row18_col5\" class=\"data row18 col5\" >0</td> \n",
       "        <td id=\"T_458b680c_7766_11ea_a689_5e6889280518row18_col6\" class=\"data row18 col6\" >3</td> \n",
       "        <td id=\"T_458b680c_7766_11ea_a689_5e6889280518row18_col7\" class=\"data row18 col7\" >0.214286</td> \n",
       "    </tr>    <tr> \n",
       "        <th id=\"T_458b680c_7766_11ea_a689_5e6889280518level0_row19\" class=\"row_heading level0 row19\" >19</th> \n",
       "        <td id=\"T_458b680c_7766_11ea_a689_5e6889280518row19_col0\" class=\"data row19 col0\" >Andaman and Nicobar Islands</td> \n",
       "        <td id=\"T_458b680c_7766_11ea_a689_5e6889280518row19_col1\" class=\"data row19 col1\" >10</td> \n",
       "        <td id=\"T_458b680c_7766_11ea_a689_5e6889280518row19_col2\" class=\"data row19 col2\" >10</td> \n",
       "        <td id=\"T_458b680c_7766_11ea_a689_5e6889280518row19_col3\" class=\"data row19 col3\" >0</td> \n",
       "        <td id=\"T_458b680c_7766_11ea_a689_5e6889280518row19_col4\" class=\"data row19 col4\" >0</td> \n",
       "        <td id=\"T_458b680c_7766_11ea_a689_5e6889280518row19_col5\" class=\"data row19 col5\" >0</td> \n",
       "        <td id=\"T_458b680c_7766_11ea_a689_5e6889280518row19_col6\" class=\"data row19 col6\" >0</td> \n",
       "        <td id=\"T_458b680c_7766_11ea_a689_5e6889280518row19_col7\" class=\"data row19 col7\" >0</td> \n",
       "    </tr>    <tr> \n",
       "        <th id=\"T_458b680c_7766_11ea_a689_5e6889280518level0_row20\" class=\"row_heading level0 row20\" >20</th> \n",
       "        <td id=\"T_458b680c_7766_11ea_a689_5e6889280518row20_col0\" class=\"data row20 col0\" >Uttarakhand</td> \n",
       "        <td id=\"T_458b680c_7766_11ea_a689_5e6889280518row20_col1\" class=\"data row20 col1\" >10</td> \n",
       "        <td id=\"T_458b680c_7766_11ea_a689_5e6889280518row20_col2\" class=\"data row20 col2\" >8</td> \n",
       "        <td id=\"T_458b680c_7766_11ea_a689_5e6889280518row20_col3\" class=\"data row20 col3\" >3</td> \n",
       "        <td id=\"T_458b680c_7766_11ea_a689_5e6889280518row20_col4\" class=\"data row20 col4\" >0</td> \n",
       "        <td id=\"T_458b680c_7766_11ea_a689_5e6889280518row20_col5\" class=\"data row20 col5\" >0</td> \n",
       "        <td id=\"T_458b680c_7766_11ea_a689_5e6889280518row20_col6\" class=\"data row20 col6\" >2</td> \n",
       "        <td id=\"T_458b680c_7766_11ea_a689_5e6889280518row20_col7\" class=\"data row20 col7\" >0.2</td> \n",
       "    </tr>    <tr> \n",
       "        <th id=\"T_458b680c_7766_11ea_a689_5e6889280518level0_row21\" class=\"row_heading level0 row21\" >21</th> \n",
       "        <td id=\"T_458b680c_7766_11ea_a689_5e6889280518row21_col0\" class=\"data row21 col0\" >Chhattisgarh</td> \n",
       "        <td id=\"T_458b680c_7766_11ea_a689_5e6889280518row21_col1\" class=\"data row21 col1\" >9</td> \n",
       "        <td id=\"T_458b680c_7766_11ea_a689_5e6889280518row21_col2\" class=\"data row21 col2\" >7</td> \n",
       "        <td id=\"T_458b680c_7766_11ea_a689_5e6889280518row21_col3\" class=\"data row21 col3\" >0</td> \n",
       "        <td id=\"T_458b680c_7766_11ea_a689_5e6889280518row21_col4\" class=\"data row21 col4\" >0</td> \n",
       "        <td id=\"T_458b680c_7766_11ea_a689_5e6889280518row21_col5\" class=\"data row21 col5\" >0</td> \n",
       "        <td id=\"T_458b680c_7766_11ea_a689_5e6889280518row21_col6\" class=\"data row21 col6\" >2</td> \n",
       "        <td id=\"T_458b680c_7766_11ea_a689_5e6889280518row21_col7\" class=\"data row21 col7\" >0.222222</td> \n",
       "    </tr>    <tr> \n",
       "        <th id=\"T_458b680c_7766_11ea_a689_5e6889280518level0_row22\" class=\"row_heading level0 row22\" >22</th> \n",
       "        <td id=\"T_458b680c_7766_11ea_a689_5e6889280518row22_col0\" class=\"data row22 col0\" >Goa</td> \n",
       "        <td id=\"T_458b680c_7766_11ea_a689_5e6889280518row22_col1\" class=\"data row22 col1\" >6</td> \n",
       "        <td id=\"T_458b680c_7766_11ea_a689_5e6889280518row22_col2\" class=\"data row22 col2\" >6</td> \n",
       "        <td id=\"T_458b680c_7766_11ea_a689_5e6889280518row22_col3\" class=\"data row22 col3\" >1</td> \n",
       "        <td id=\"T_458b680c_7766_11ea_a689_5e6889280518row22_col4\" class=\"data row22 col4\" >0</td> \n",
       "        <td id=\"T_458b680c_7766_11ea_a689_5e6889280518row22_col5\" class=\"data row22 col5\" >0</td> \n",
       "        <td id=\"T_458b680c_7766_11ea_a689_5e6889280518row22_col6\" class=\"data row22 col6\" >0</td> \n",
       "        <td id=\"T_458b680c_7766_11ea_a689_5e6889280518row22_col7\" class=\"data row22 col7\" >0</td> \n",
       "    </tr>    <tr> \n",
       "        <th id=\"T_458b680c_7766_11ea_a689_5e6889280518level0_row23\" class=\"row_heading level0 row23\" >23</th> \n",
       "        <td id=\"T_458b680c_7766_11ea_a689_5e6889280518row23_col0\" class=\"data row23 col0\" >Himachal Pradesh</td> \n",
       "        <td id=\"T_458b680c_7766_11ea_a689_5e6889280518row23_col1\" class=\"data row23 col1\" >6</td> \n",
       "        <td id=\"T_458b680c_7766_11ea_a689_5e6889280518row23_col2\" class=\"data row23 col2\" >4</td> \n",
       "        <td id=\"T_458b680c_7766_11ea_a689_5e6889280518row23_col3\" class=\"data row23 col3\" >3</td> \n",
       "        <td id=\"T_458b680c_7766_11ea_a689_5e6889280518row23_col4\" class=\"data row23 col4\" >1</td> \n",
       "        <td id=\"T_458b680c_7766_11ea_a689_5e6889280518row23_col5\" class=\"data row23 col5\" >0.166667</td> \n",
       "        <td id=\"T_458b680c_7766_11ea_a689_5e6889280518row23_col6\" class=\"data row23 col6\" >1</td> \n",
       "        <td id=\"T_458b680c_7766_11ea_a689_5e6889280518row23_col7\" class=\"data row23 col7\" >0.166667</td> \n",
       "    </tr>    <tr> \n",
       "        <th id=\"T_458b680c_7766_11ea_a689_5e6889280518level0_row24\" class=\"row_heading level0 row24\" >24</th> \n",
       "        <td id=\"T_458b680c_7766_11ea_a689_5e6889280518row24_col0\" class=\"data row24 col0\" >Odisha</td> \n",
       "        <td id=\"T_458b680c_7766_11ea_a689_5e6889280518row24_col1\" class=\"data row24 col1\" >5</td> \n",
       "        <td id=\"T_458b680c_7766_11ea_a689_5e6889280518row24_col2\" class=\"data row24 col2\" >5</td> \n",
       "        <td id=\"T_458b680c_7766_11ea_a689_5e6889280518row24_col3\" class=\"data row24 col3\" >1</td> \n",
       "        <td id=\"T_458b680c_7766_11ea_a689_5e6889280518row24_col4\" class=\"data row24 col4\" >0</td> \n",
       "        <td id=\"T_458b680c_7766_11ea_a689_5e6889280518row24_col5\" class=\"data row24 col5\" >0</td> \n",
       "        <td id=\"T_458b680c_7766_11ea_a689_5e6889280518row24_col6\" class=\"data row24 col6\" >0</td> \n",
       "        <td id=\"T_458b680c_7766_11ea_a689_5e6889280518row24_col7\" class=\"data row24 col7\" >0</td> \n",
       "    </tr>    <tr> \n",
       "        <th id=\"T_458b680c_7766_11ea_a689_5e6889280518level0_row25\" class=\"row_heading level0 row25\" >25</th> \n",
       "        <td id=\"T_458b680c_7766_11ea_a689_5e6889280518row25_col0\" class=\"data row25 col0\" >Puducherry</td> \n",
       "        <td id=\"T_458b680c_7766_11ea_a689_5e6889280518row25_col1\" class=\"data row25 col1\" >3</td> \n",
       "        <td id=\"T_458b680c_7766_11ea_a689_5e6889280518row25_col2\" class=\"data row25 col2\" >2</td> \n",
       "        <td id=\"T_458b680c_7766_11ea_a689_5e6889280518row25_col3\" class=\"data row25 col3\" >0</td> \n",
       "        <td id=\"T_458b680c_7766_11ea_a689_5e6889280518row25_col4\" class=\"data row25 col4\" >0</td> \n",
       "        <td id=\"T_458b680c_7766_11ea_a689_5e6889280518row25_col5\" class=\"data row25 col5\" >0</td> \n",
       "        <td id=\"T_458b680c_7766_11ea_a689_5e6889280518row25_col6\" class=\"data row25 col6\" >1</td> \n",
       "        <td id=\"T_458b680c_7766_11ea_a689_5e6889280518row25_col7\" class=\"data row25 col7\" >0.333333</td> \n",
       "    </tr>    <tr> \n",
       "        <th id=\"T_458b680c_7766_11ea_a689_5e6889280518level0_row26\" class=\"row_heading level0 row26\" >26</th> \n",
       "        <td id=\"T_458b680c_7766_11ea_a689_5e6889280518row26_col0\" class=\"data row26 col0\" >Manipur</td> \n",
       "        <td id=\"T_458b680c_7766_11ea_a689_5e6889280518row26_col1\" class=\"data row26 col1\" >2</td> \n",
       "        <td id=\"T_458b680c_7766_11ea_a689_5e6889280518row26_col2\" class=\"data row26 col2\" >2</td> \n",
       "        <td id=\"T_458b680c_7766_11ea_a689_5e6889280518row26_col3\" class=\"data row26 col3\" >1</td> \n",
       "        <td id=\"T_458b680c_7766_11ea_a689_5e6889280518row26_col4\" class=\"data row26 col4\" >0</td> \n",
       "        <td id=\"T_458b680c_7766_11ea_a689_5e6889280518row26_col5\" class=\"data row26 col5\" >0</td> \n",
       "        <td id=\"T_458b680c_7766_11ea_a689_5e6889280518row26_col6\" class=\"data row26 col6\" >0</td> \n",
       "        <td id=\"T_458b680c_7766_11ea_a689_5e6889280518row26_col7\" class=\"data row26 col7\" >0</td> \n",
       "    </tr>    <tr> \n",
       "        <th id=\"T_458b680c_7766_11ea_a689_5e6889280518level0_row27\" class=\"row_heading level0 row27\" >27</th> \n",
       "        <td id=\"T_458b680c_7766_11ea_a689_5e6889280518row27_col0\" class=\"data row27 col0\" >Jharkhand</td> \n",
       "        <td id=\"T_458b680c_7766_11ea_a689_5e6889280518row27_col1\" class=\"data row27 col1\" >2</td> \n",
       "        <td id=\"T_458b680c_7766_11ea_a689_5e6889280518row27_col2\" class=\"data row27 col2\" >2</td> \n",
       "        <td id=\"T_458b680c_7766_11ea_a689_5e6889280518row27_col3\" class=\"data row27 col3\" >1</td> \n",
       "        <td id=\"T_458b680c_7766_11ea_a689_5e6889280518row27_col4\" class=\"data row27 col4\" >0</td> \n",
       "        <td id=\"T_458b680c_7766_11ea_a689_5e6889280518row27_col5\" class=\"data row27 col5\" >0</td> \n",
       "        <td id=\"T_458b680c_7766_11ea_a689_5e6889280518row27_col6\" class=\"data row27 col6\" >0</td> \n",
       "        <td id=\"T_458b680c_7766_11ea_a689_5e6889280518row27_col7\" class=\"data row27 col7\" >0</td> \n",
       "    </tr>    <tr> \n",
       "        <th id=\"T_458b680c_7766_11ea_a689_5e6889280518level0_row28\" class=\"row_heading level0 row28\" >28</th> \n",
       "        <td id=\"T_458b680c_7766_11ea_a689_5e6889280518row28_col0\" class=\"data row28 col0\" >Mizoram</td> \n",
       "        <td id=\"T_458b680c_7766_11ea_a689_5e6889280518row28_col1\" class=\"data row28 col1\" >1</td> \n",
       "        <td id=\"T_458b680c_7766_11ea_a689_5e6889280518row28_col2\" class=\"data row28 col2\" >1</td> \n",
       "        <td id=\"T_458b680c_7766_11ea_a689_5e6889280518row28_col3\" class=\"data row28 col3\" >0</td> \n",
       "        <td id=\"T_458b680c_7766_11ea_a689_5e6889280518row28_col4\" class=\"data row28 col4\" >0</td> \n",
       "        <td id=\"T_458b680c_7766_11ea_a689_5e6889280518row28_col5\" class=\"data row28 col5\" >0</td> \n",
       "        <td id=\"T_458b680c_7766_11ea_a689_5e6889280518row28_col6\" class=\"data row28 col6\" >0</td> \n",
       "        <td id=\"T_458b680c_7766_11ea_a689_5e6889280518row28_col7\" class=\"data row28 col7\" >0</td> \n",
       "    </tr>    <tr> \n",
       "        <th id=\"T_458b680c_7766_11ea_a689_5e6889280518level0_row29\" class=\"row_heading level0 row29\" >29</th> \n",
       "        <td id=\"T_458b680c_7766_11ea_a689_5e6889280518row29_col0\" class=\"data row29 col0\" >Arunachal Pradesh</td> \n",
       "        <td id=\"T_458b680c_7766_11ea_a689_5e6889280518row29_col1\" class=\"data row29 col1\" >1</td> \n",
       "        <td id=\"T_458b680c_7766_11ea_a689_5e6889280518row29_col2\" class=\"data row29 col2\" >1</td> \n",
       "        <td id=\"T_458b680c_7766_11ea_a689_5e6889280518row29_col3\" class=\"data row29 col3\" >1</td> \n",
       "        <td id=\"T_458b680c_7766_11ea_a689_5e6889280518row29_col4\" class=\"data row29 col4\" >0</td> \n",
       "        <td id=\"T_458b680c_7766_11ea_a689_5e6889280518row29_col5\" class=\"data row29 col5\" >0</td> \n",
       "        <td id=\"T_458b680c_7766_11ea_a689_5e6889280518row29_col6\" class=\"data row29 col6\" >0</td> \n",
       "        <td id=\"T_458b680c_7766_11ea_a689_5e6889280518row29_col7\" class=\"data row29 col7\" >0</td> \n",
       "    </tr></tbody> \n",
       "</table> "
      ],
      "text/plain": [
       "<pandas.io.formats.style.Styler at 0x1feecc0df98>"
      ]
     },
     "execution_count": 9,
     "metadata": {},
     "output_type": "execute_result"
    }
   ],
   "source": [
    "# tep = latest[['State/UT', 'Confirmed', 'Active', 'New cases', 'Deaths', 'Mortality rate', 'Cured', 'Recovery rate']]\n",
    "# temp = temp.sort_values('Confirmed', ascending=False).reset_index(drop=True)\n",
    "\n",
    "# temp.style\\\n",
    "#     .background_gradient(cmap=\"Blues\", subset=['Confirmed', 'Active', 'New cases'])\\\n",
    "#     .background_gradient(cmap=\"Greens\", subset=['Cured', 'Recovery rate'])\\\n",
    "#     .background_gradient(cmap=\"Reds\", subset=['Deaths', 'Mortality rate'])"
   ]
  },
  {
   "cell_type": "code",
   "execution_count": 10,
   "metadata": {},
   "outputs": [
    {
     "data": {
      "text/html": [
       "<div style=\"width:100%;\"><div style=\"position:relative;width:100%;height:0;padding-bottom:60%;\"><iframe src=\"about:blank\" style=\"position:absolute;width:100%;height:100%;left:0;top:0;border:none !important;\" data-html=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 onload=\"this.contentDocument.open();this.contentDocument.write(atob(this.getAttribute('data-html')));this.contentDocument.close();\" allowfullscreen webkitallowfullscreen mozallowfullscreen></iframe></div></div>"
      ],
      "text/plain": [
       "<folium.folium.Map at 0x1feee03f048>"
      ]
     },
     "execution_count": 10,
     "metadata": {},
     "output_type": "execute_result"
    }
   ],
   "source": [
    "# m = folium.Map(location=[20.5937, 78.9629], tiles='cartodbpositron',\n",
    "#                min_zoom=4, max_zoom=6, zoom_start=4)\n",
    "\n",
    "# for i in range(0, len(latest)):\n",
    "#     if latest.iloc[i]['Confirmed']>0:\n",
    "#         folium.Circle(\n",
    "#             location=[latest.iloc[i]['Latitude'], latest.iloc[i]['Longitude']],\n",
    "#             color='#e84545', \n",
    "#             fill='#e84545',\n",
    "#             tooltip =   '<li><bold>Name of State / UT : '+str(latest.iloc[i]['State/UT'])+\n",
    "#                         '<li><bold>Confirmed cases  : '+str(latest.iloc[i]['Confirmed'])+\n",
    "#                         '<li><bold>Cured cases  : '+str(latest.iloc[i]['Cured'])+\n",
    "#                         '<li><bold>Death cases  : '+str(latest.iloc[i]['Deaths']),\n",
    "#             radius=int(latest.iloc[i]['Confirmed'])*300).add_to(m)\n",
    "# m"
   ]
  },
  {
   "cell_type": "code",
   "execution_count": 11,
   "metadata": {},
   "outputs": [],
   "source": [
    "m.save('index.html')"
   ]
  },
  {
   "cell_type": "code",
   "execution_count": 12,
   "metadata": {},
   "outputs": [
    {
     "data": {
      "application/vnd.plotly.v1+json": {
       "config": {
        "plotlyServerURL": "https://plot.ly"
       },
       "data": [
        {
         "name": "Confirmed",
         "type": "bar",
         "x": [
          "Maharashtra",
          "Tamil Nadu",
          "Kerala",
          "Delhi",
          "Rajasthan",
          "Andhra Pradesh",
          "Karnataka",
          "Uttar Pradesh",
          "Telengana",
          "Madhya Pradesh",
          "Gujarat",
          "Jammu and Kashmir",
          "West Bengal",
          "Punjab",
          "Haryana",
          "Bihar",
          "Chandigarh",
          "Assam",
          "Ladakh",
          "Andaman and Nicobar Islands",
          "Uttarakhand",
          "Chhattisgarh",
          "Goa",
          "Himachal Pradesh",
          "Odisha",
          "Puducherry",
          "Manipur",
          "Jharkhand",
          "Mizoram",
          "Arunachal Pradesh"
         ],
         "y": [
          335,
          309,
          286,
          219,
          133,
          132,
          124,
          113,
          107,
          99,
          87,
          70,
          53,
          46,
          43,
          24,
          18,
          16,
          14,
          10,
          10,
          9,
          6,
          6,
          5,
          3,
          2,
          2,
          1,
          1
         ]
        },
        {
         "name": "Recovered",
         "type": "bar",
         "x": [
          "Maharashtra",
          "Tamil Nadu",
          "Kerala",
          "Delhi",
          "Rajasthan",
          "Andhra Pradesh",
          "Karnataka",
          "Uttar Pradesh",
          "Telengana",
          "Madhya Pradesh",
          "Gujarat",
          "Jammu and Kashmir",
          "West Bengal",
          "Punjab",
          "Haryana",
          "Bihar",
          "Chandigarh",
          "Assam",
          "Ladakh",
          "Andaman and Nicobar Islands",
          "Uttarakhand",
          "Chhattisgarh",
          "Goa",
          "Himachal Pradesh",
          "Odisha",
          "Puducherry",
          "Manipur",
          "Jharkhand",
          "Mizoram",
          "Arunachal Pradesh"
         ],
         "y": [
          42,
          6,
          27,
          8,
          3,
          1,
          10,
          14,
          1,
          0,
          8,
          3,
          3,
          1,
          21,
          0,
          0,
          0,
          3,
          0,
          2,
          2,
          0,
          1,
          0,
          1,
          0,
          0,
          0,
          0
         ]
        },
        {
         "name": "Deaths",
         "type": "bar",
         "x": [
          "Maharashtra",
          "Tamil Nadu",
          "Kerala",
          "Delhi",
          "Rajasthan",
          "Andhra Pradesh",
          "Karnataka",
          "Uttar Pradesh",
          "Telengana",
          "Madhya Pradesh",
          "Gujarat",
          "Jammu and Kashmir",
          "West Bengal",
          "Punjab",
          "Haryana",
          "Bihar",
          "Chandigarh",
          "Assam",
          "Ladakh",
          "Andaman and Nicobar Islands",
          "Uttarakhand",
          "Chhattisgarh",
          "Goa",
          "Himachal Pradesh",
          "Odisha",
          "Puducherry",
          "Manipur",
          "Jharkhand",
          "Mizoram",
          "Arunachal Pradesh"
         ],
         "y": [
          16,
          1,
          2,
          4,
          0,
          1,
          3,
          2,
          3,
          6,
          7,
          2,
          3,
          4,
          0,
          1,
          0,
          0,
          0,
          0,
          0,
          0,
          0,
          1,
          0,
          0,
          0,
          0,
          0,
          0
         ]
        }
       ],
       "layout": {
        "barmode": "group",
        "template": {
         "data": {
          "bar": [
           {
            "error_x": {
             "color": "#2a3f5f"
            },
            "error_y": {
             "color": "#2a3f5f"
            },
            "marker": {
             "line": {
              "color": "#E5ECF6",
              "width": 0.5
             }
            },
            "type": "bar"
           }
          ],
          "barpolar": [
           {
            "marker": {
             "line": {
              "color": "#E5ECF6",
              "width": 0.5
             }
            },
            "type": "barpolar"
           }
          ],
          "carpet": [
           {
            "aaxis": {
             "endlinecolor": "#2a3f5f",
             "gridcolor": "white",
             "linecolor": "white",
             "minorgridcolor": "white",
             "startlinecolor": "#2a3f5f"
            },
            "baxis": {
             "endlinecolor": "#2a3f5f",
             "gridcolor": "white",
             "linecolor": "white",
             "minorgridcolor": "white",
             "startlinecolor": "#2a3f5f"
            },
            "type": "carpet"
           }
          ],
          "choropleth": [
           {
            "colorbar": {
             "outlinewidth": 0,
             "ticks": ""
            },
            "type": "choropleth"
           }
          ],
          "contour": [
           {
            "colorbar": {
             "outlinewidth": 0,
             "ticks": ""
            },
            "colorscale": [
             [
              0,
              "#0d0887"
             ],
             [
              0.1111111111111111,
              "#46039f"
             ],
             [
              0.2222222222222222,
              "#7201a8"
             ],
             [
              0.3333333333333333,
              "#9c179e"
             ],
             [
              0.4444444444444444,
              "#bd3786"
             ],
             [
              0.5555555555555556,
              "#d8576b"
             ],
             [
              0.6666666666666666,
              "#ed7953"
             ],
             [
              0.7777777777777778,
              "#fb9f3a"
             ],
             [
              0.8888888888888888,
              "#fdca26"
             ],
             [
              1,
              "#f0f921"
             ]
            ],
            "type": "contour"
           }
          ],
          "contourcarpet": [
           {
            "colorbar": {
             "outlinewidth": 0,
             "ticks": ""
            },
            "type": "contourcarpet"
           }
          ],
          "heatmap": [
           {
            "colorbar": {
             "outlinewidth": 0,
             "ticks": ""
            },
            "colorscale": [
             [
              0,
              "#0d0887"
             ],
             [
              0.1111111111111111,
              "#46039f"
             ],
             [
              0.2222222222222222,
              "#7201a8"
             ],
             [
              0.3333333333333333,
              "#9c179e"
             ],
             [
              0.4444444444444444,
              "#bd3786"
             ],
             [
              0.5555555555555556,
              "#d8576b"
             ],
             [
              0.6666666666666666,
              "#ed7953"
             ],
             [
              0.7777777777777778,
              "#fb9f3a"
             ],
             [
              0.8888888888888888,
              "#fdca26"
             ],
             [
              1,
              "#f0f921"
             ]
            ],
            "type": "heatmap"
           }
          ],
          "heatmapgl": [
           {
            "colorbar": {
             "outlinewidth": 0,
             "ticks": ""
            },
            "colorscale": [
             [
              0,
              "#0d0887"
             ],
             [
              0.1111111111111111,
              "#46039f"
             ],
             [
              0.2222222222222222,
              "#7201a8"
             ],
             [
              0.3333333333333333,
              "#9c179e"
             ],
             [
              0.4444444444444444,
              "#bd3786"
             ],
             [
              0.5555555555555556,
              "#d8576b"
             ],
             [
              0.6666666666666666,
              "#ed7953"
             ],
             [
              0.7777777777777778,
              "#fb9f3a"
             ],
             [
              0.8888888888888888,
              "#fdca26"
             ],
             [
              1,
              "#f0f921"
             ]
            ],
            "type": "heatmapgl"
           }
          ],
          "histogram": [
           {
            "marker": {
             "colorbar": {
              "outlinewidth": 0,
              "ticks": ""
             }
            },
            "type": "histogram"
           }
          ],
          "histogram2d": [
           {
            "colorbar": {
             "outlinewidth": 0,
             "ticks": ""
            },
            "colorscale": [
             [
              0,
              "#0d0887"
             ],
             [
              0.1111111111111111,
              "#46039f"
             ],
             [
              0.2222222222222222,
              "#7201a8"
             ],
             [
              0.3333333333333333,
              "#9c179e"
             ],
             [
              0.4444444444444444,
              "#bd3786"
             ],
             [
              0.5555555555555556,
              "#d8576b"
             ],
             [
              0.6666666666666666,
              "#ed7953"
             ],
             [
              0.7777777777777778,
              "#fb9f3a"
             ],
             [
              0.8888888888888888,
              "#fdca26"
             ],
             [
              1,
              "#f0f921"
             ]
            ],
            "type": "histogram2d"
           }
          ],
          "histogram2dcontour": [
           {
            "colorbar": {
             "outlinewidth": 0,
             "ticks": ""
            },
            "colorscale": [
             [
              0,
              "#0d0887"
             ],
             [
              0.1111111111111111,
              "#46039f"
             ],
             [
              0.2222222222222222,
              "#7201a8"
             ],
             [
              0.3333333333333333,
              "#9c179e"
             ],
             [
              0.4444444444444444,
              "#bd3786"
             ],
             [
              0.5555555555555556,
              "#d8576b"
             ],
             [
              0.6666666666666666,
              "#ed7953"
             ],
             [
              0.7777777777777778,
              "#fb9f3a"
             ],
             [
              0.8888888888888888,
              "#fdca26"
             ],
             [
              1,
              "#f0f921"
             ]
            ],
            "type": "histogram2dcontour"
           }
          ],
          "mesh3d": [
           {
            "colorbar": {
             "outlinewidth": 0,
             "ticks": ""
            },
            "type": "mesh3d"
           }
          ],
          "parcoords": [
           {
            "line": {
             "colorbar": {
              "outlinewidth": 0,
              "ticks": ""
             }
            },
            "type": "parcoords"
           }
          ],
          "pie": [
           {
            "automargin": true,
            "type": "pie"
           }
          ],
          "scatter": [
           {
            "marker": {
             "colorbar": {
              "outlinewidth": 0,
              "ticks": ""
             }
            },
            "type": "scatter"
           }
          ],
          "scatter3d": [
           {
            "line": {
             "colorbar": {
              "outlinewidth": 0,
              "ticks": ""
             }
            },
            "marker": {
             "colorbar": {
              "outlinewidth": 0,
              "ticks": ""
             }
            },
            "type": "scatter3d"
           }
          ],
          "scattercarpet": [
           {
            "marker": {
             "colorbar": {
              "outlinewidth": 0,
              "ticks": ""
             }
            },
            "type": "scattercarpet"
           }
          ],
          "scattergeo": [
           {
            "marker": {
             "colorbar": {
              "outlinewidth": 0,
              "ticks": ""
             }
            },
            "type": "scattergeo"
           }
          ],
          "scattergl": [
           {
            "marker": {
             "colorbar": {
              "outlinewidth": 0,
              "ticks": ""
             }
            },
            "type": "scattergl"
           }
          ],
          "scattermapbox": [
           {
            "marker": {
             "colorbar": {
              "outlinewidth": 0,
              "ticks": ""
             }
            },
            "type": "scattermapbox"
           }
          ],
          "scatterpolar": [
           {
            "marker": {
             "colorbar": {
              "outlinewidth": 0,
              "ticks": ""
             }
            },
            "type": "scatterpolar"
           }
          ],
          "scatterpolargl": [
           {
            "marker": {
             "colorbar": {
              "outlinewidth": 0,
              "ticks": ""
             }
            },
            "type": "scatterpolargl"
           }
          ],
          "scatterternary": [
           {
            "marker": {
             "colorbar": {
              "outlinewidth": 0,
              "ticks": ""
             }
            },
            "type": "scatterternary"
           }
          ],
          "surface": [
           {
            "colorbar": {
             "outlinewidth": 0,
             "ticks": ""
            },
            "colorscale": [
             [
              0,
              "#0d0887"
             ],
             [
              0.1111111111111111,
              "#46039f"
             ],
             [
              0.2222222222222222,
              "#7201a8"
             ],
             [
              0.3333333333333333,
              "#9c179e"
             ],
             [
              0.4444444444444444,
              "#bd3786"
             ],
             [
              0.5555555555555556,
              "#d8576b"
             ],
             [
              0.6666666666666666,
              "#ed7953"
             ],
             [
              0.7777777777777778,
              "#fb9f3a"
             ],
             [
              0.8888888888888888,
              "#fdca26"
             ],
             [
              1,
              "#f0f921"
             ]
            ],
            "type": "surface"
           }
          ],
          "table": [
           {
            "cells": {
             "fill": {
              "color": "#EBF0F8"
             },
             "line": {
              "color": "white"
             }
            },
            "header": {
             "fill": {
              "color": "#C8D4E3"
             },
             "line": {
              "color": "white"
             }
            },
            "type": "table"
           }
          ]
         },
         "layout": {
          "annotationdefaults": {
           "arrowcolor": "#2a3f5f",
           "arrowhead": 0,
           "arrowwidth": 1
          },
          "coloraxis": {
           "colorbar": {
            "outlinewidth": 0,
            "ticks": ""
           }
          },
          "colorscale": {
           "diverging": [
            [
             0,
             "#8e0152"
            ],
            [
             0.1,
             "#c51b7d"
            ],
            [
             0.2,
             "#de77ae"
            ],
            [
             0.3,
             "#f1b6da"
            ],
            [
             0.4,
             "#fde0ef"
            ],
            [
             0.5,
             "#f7f7f7"
            ],
            [
             0.6,
             "#e6f5d0"
            ],
            [
             0.7,
             "#b8e186"
            ],
            [
             0.8,
             "#7fbc41"
            ],
            [
             0.9,
             "#4d9221"
            ],
            [
             1,
             "#276419"
            ]
           ],
           "sequential": [
            [
             0,
             "#0d0887"
            ],
            [
             0.1111111111111111,
             "#46039f"
            ],
            [
             0.2222222222222222,
             "#7201a8"
            ],
            [
             0.3333333333333333,
             "#9c179e"
            ],
            [
             0.4444444444444444,
             "#bd3786"
            ],
            [
             0.5555555555555556,
             "#d8576b"
            ],
            [
             0.6666666666666666,
             "#ed7953"
            ],
            [
             0.7777777777777778,
             "#fb9f3a"
            ],
            [
             0.8888888888888888,
             "#fdca26"
            ],
            [
             1,
             "#f0f921"
            ]
           ],
           "sequentialminus": [
            [
             0,
             "#0d0887"
            ],
            [
             0.1111111111111111,
             "#46039f"
            ],
            [
             0.2222222222222222,
             "#7201a8"
            ],
            [
             0.3333333333333333,
             "#9c179e"
            ],
            [
             0.4444444444444444,
             "#bd3786"
            ],
            [
             0.5555555555555556,
             "#d8576b"
            ],
            [
             0.6666666666666666,
             "#ed7953"
            ],
            [
             0.7777777777777778,
             "#fb9f3a"
            ],
            [
             0.8888888888888888,
             "#fdca26"
            ],
            [
             1,
             "#f0f921"
            ]
           ]
          },
          "colorway": [
           "#636efa",
           "#EF553B",
           "#00cc96",
           "#ab63fa",
           "#FFA15A",
           "#19d3f3",
           "#FF6692",
           "#B6E880",
           "#FF97FF",
           "#FECB52"
          ],
          "font": {
           "color": "#2a3f5f"
          },
          "geo": {
           "bgcolor": "white",
           "lakecolor": "white",
           "landcolor": "#E5ECF6",
           "showlakes": true,
           "showland": true,
           "subunitcolor": "white"
          },
          "hoverlabel": {
           "align": "left"
          },
          "hovermode": "closest",
          "mapbox": {
           "style": "light"
          },
          "paper_bgcolor": "white",
          "plot_bgcolor": "#E5ECF6",
          "polar": {
           "angularaxis": {
            "gridcolor": "white",
            "linecolor": "white",
            "ticks": ""
           },
           "bgcolor": "#E5ECF6",
           "radialaxis": {
            "gridcolor": "white",
            "linecolor": "white",
            "ticks": ""
           }
          },
          "scene": {
           "xaxis": {
            "backgroundcolor": "#E5ECF6",
            "gridcolor": "white",
            "gridwidth": 2,
            "linecolor": "white",
            "showbackground": true,
            "ticks": "",
            "zerolinecolor": "white"
           },
           "yaxis": {
            "backgroundcolor": "#E5ECF6",
            "gridcolor": "white",
            "gridwidth": 2,
            "linecolor": "white",
            "showbackground": true,
            "ticks": "",
            "zerolinecolor": "white"
           },
           "zaxis": {
            "backgroundcolor": "#E5ECF6",
            "gridcolor": "white",
            "gridwidth": 2,
            "linecolor": "white",
            "showbackground": true,
            "ticks": "",
            "zerolinecolor": "white"
           }
          },
          "shapedefaults": {
           "line": {
            "color": "#2a3f5f"
           }
          },
          "ternary": {
           "aaxis": {
            "gridcolor": "white",
            "linecolor": "white",
            "ticks": ""
           },
           "baxis": {
            "gridcolor": "white",
            "linecolor": "white",
            "ticks": ""
           },
           "bgcolor": "#E5ECF6",
           "caxis": {
            "gridcolor": "white",
            "linecolor": "white",
            "ticks": ""
           }
          },
          "title": {
           "x": 0.05
          },
          "xaxis": {
           "automargin": true,
           "gridcolor": "white",
           "linecolor": "white",
           "ticks": "",
           "title": {
            "standoff": 15
           },
           "zerolinecolor": "white",
           "zerolinewidth": 2
          },
          "yaxis": {
           "automargin": true,
           "gridcolor": "white",
           "linecolor": "white",
           "ticks": "",
           "title": {
            "standoff": 15
           },
           "zerolinecolor": "white",
           "zerolinewidth": 2
          }
         }
        }
       }
      },
      "text/html": [
       "<div>\n",
       "        \n",
       "        \n",
       "            <div id=\"65ecfb3f-1d9f-4694-bfd0-51d677e7b4d6\" class=\"plotly-graph-div\" style=\"height:525px; width:100%;\"></div>\n",
       "            <script type=\"text/javascript\">\n",
       "                require([\"plotly\"], function(Plotly) {\n",
       "                    window.PLOTLYENV=window.PLOTLYENV || {};\n",
       "                    \n",
       "                if (document.getElementById(\"65ecfb3f-1d9f-4694-bfd0-51d677e7b4d6\")) {\n",
       "                    Plotly.newPlot(\n",
       "                        '65ecfb3f-1d9f-4694-bfd0-51d677e7b4d6',\n",
       "                        [{\"name\": \"Confirmed\", \"type\": \"bar\", \"x\": [\"Maharashtra\", \"Tamil Nadu\", \"Kerala\", \"Delhi\", \"Rajasthan\", \"Andhra Pradesh\", \"Karnataka\", \"Uttar Pradesh\", \"Telengana\", \"Madhya Pradesh\", \"Gujarat\", \"Jammu and Kashmir\", \"West Bengal\", \"Punjab\", \"Haryana\", \"Bihar\", \"Chandigarh\", \"Assam\", \"Ladakh\", \"Andaman and Nicobar Islands\", \"Uttarakhand\", \"Chhattisgarh\", \"Goa\", \"Himachal Pradesh\", \"Odisha\", \"Puducherry\", \"Manipur\", \"Jharkhand\", \"Mizoram\", \"Arunachal Pradesh\"], \"y\": [335, 309, 286, 219, 133, 132, 124, 113, 107, 99, 87, 70, 53, 46, 43, 24, 18, 16, 14, 10, 10, 9, 6, 6, 5, 3, 2, 2, 1, 1]}, {\"name\": \"Recovered\", \"type\": \"bar\", \"x\": [\"Maharashtra\", \"Tamil Nadu\", \"Kerala\", \"Delhi\", \"Rajasthan\", \"Andhra Pradesh\", \"Karnataka\", \"Uttar Pradesh\", \"Telengana\", \"Madhya Pradesh\", \"Gujarat\", \"Jammu and Kashmir\", \"West Bengal\", \"Punjab\", \"Haryana\", \"Bihar\", \"Chandigarh\", \"Assam\", \"Ladakh\", \"Andaman and Nicobar Islands\", \"Uttarakhand\", \"Chhattisgarh\", \"Goa\", \"Himachal Pradesh\", \"Odisha\", \"Puducherry\", \"Manipur\", \"Jharkhand\", \"Mizoram\", \"Arunachal Pradesh\"], \"y\": [42, 6, 27, 8, 3, 1, 10, 14, 1, 0, 8, 3, 3, 1, 21, 0, 0, 0, 3, 0, 2, 2, 0, 1, 0, 1, 0, 0, 0, 0]}, {\"name\": \"Deaths\", \"type\": \"bar\", \"x\": [\"Maharashtra\", \"Tamil Nadu\", \"Kerala\", \"Delhi\", \"Rajasthan\", \"Andhra Pradesh\", \"Karnataka\", \"Uttar Pradesh\", \"Telengana\", \"Madhya Pradesh\", \"Gujarat\", \"Jammu and Kashmir\", \"West Bengal\", \"Punjab\", \"Haryana\", \"Bihar\", \"Chandigarh\", \"Assam\", \"Ladakh\", \"Andaman and Nicobar Islands\", \"Uttarakhand\", \"Chhattisgarh\", \"Goa\", \"Himachal Pradesh\", \"Odisha\", \"Puducherry\", \"Manipur\", \"Jharkhand\", \"Mizoram\", \"Arunachal Pradesh\"], \"y\": [16, 1, 2, 4, 0, 1, 3, 2, 3, 6, 7, 2, 3, 4, 0, 1, 0, 0, 0, 0, 0, 0, 0, 1, 0, 0, 0, 0, 0, 0]}],\n",
       "                        {\"barmode\": \"group\", \"template\": {\"data\": {\"bar\": [{\"error_x\": {\"color\": \"#2a3f5f\"}, \"error_y\": {\"color\": \"#2a3f5f\"}, \"marker\": {\"line\": {\"color\": \"#E5ECF6\", \"width\": 0.5}}, \"type\": \"bar\"}], \"barpolar\": [{\"marker\": {\"line\": {\"color\": \"#E5ECF6\", \"width\": 0.5}}, \"type\": \"barpolar\"}], \"carpet\": [{\"aaxis\": {\"endlinecolor\": \"#2a3f5f\", \"gridcolor\": \"white\", \"linecolor\": \"white\", \"minorgridcolor\": \"white\", \"startlinecolor\": \"#2a3f5f\"}, \"baxis\": {\"endlinecolor\": \"#2a3f5f\", \"gridcolor\": \"white\", \"linecolor\": \"white\", \"minorgridcolor\": \"white\", \"startlinecolor\": \"#2a3f5f\"}, \"type\": \"carpet\"}], \"choropleth\": [{\"colorbar\": {\"outlinewidth\": 0, \"ticks\": \"\"}, \"type\": \"choropleth\"}], \"contour\": [{\"colorbar\": {\"outlinewidth\": 0, \"ticks\": \"\"}, \"colorscale\": [[0.0, \"#0d0887\"], [0.1111111111111111, \"#46039f\"], [0.2222222222222222, \"#7201a8\"], [0.3333333333333333, \"#9c179e\"], [0.4444444444444444, \"#bd3786\"], [0.5555555555555556, \"#d8576b\"], [0.6666666666666666, \"#ed7953\"], [0.7777777777777778, \"#fb9f3a\"], [0.8888888888888888, \"#fdca26\"], [1.0, \"#f0f921\"]], \"type\": \"contour\"}], \"contourcarpet\": [{\"colorbar\": {\"outlinewidth\": 0, \"ticks\": \"\"}, \"type\": \"contourcarpet\"}], \"heatmap\": [{\"colorbar\": {\"outlinewidth\": 0, \"ticks\": \"\"}, \"colorscale\": [[0.0, \"#0d0887\"], [0.1111111111111111, \"#46039f\"], [0.2222222222222222, \"#7201a8\"], [0.3333333333333333, \"#9c179e\"], [0.4444444444444444, \"#bd3786\"], [0.5555555555555556, \"#d8576b\"], [0.6666666666666666, \"#ed7953\"], [0.7777777777777778, \"#fb9f3a\"], [0.8888888888888888, \"#fdca26\"], [1.0, \"#f0f921\"]], \"type\": \"heatmap\"}], \"heatmapgl\": [{\"colorbar\": {\"outlinewidth\": 0, \"ticks\": \"\"}, \"colorscale\": [[0.0, \"#0d0887\"], [0.1111111111111111, \"#46039f\"], [0.2222222222222222, \"#7201a8\"], [0.3333333333333333, \"#9c179e\"], [0.4444444444444444, \"#bd3786\"], [0.5555555555555556, \"#d8576b\"], [0.6666666666666666, \"#ed7953\"], [0.7777777777777778, \"#fb9f3a\"], [0.8888888888888888, \"#fdca26\"], [1.0, \"#f0f921\"]], \"type\": \"heatmapgl\"}], \"histogram\": [{\"marker\": {\"colorbar\": {\"outlinewidth\": 0, \"ticks\": \"\"}}, \"type\": \"histogram\"}], \"histogram2d\": [{\"colorbar\": {\"outlinewidth\": 0, \"ticks\": \"\"}, \"colorscale\": [[0.0, \"#0d0887\"], [0.1111111111111111, \"#46039f\"], [0.2222222222222222, \"#7201a8\"], [0.3333333333333333, \"#9c179e\"], [0.4444444444444444, \"#bd3786\"], [0.5555555555555556, \"#d8576b\"], [0.6666666666666666, \"#ed7953\"], [0.7777777777777778, \"#fb9f3a\"], [0.8888888888888888, \"#fdca26\"], [1.0, \"#f0f921\"]], \"type\": \"histogram2d\"}], \"histogram2dcontour\": [{\"colorbar\": {\"outlinewidth\": 0, \"ticks\": \"\"}, \"colorscale\": [[0.0, \"#0d0887\"], [0.1111111111111111, \"#46039f\"], [0.2222222222222222, \"#7201a8\"], [0.3333333333333333, \"#9c179e\"], [0.4444444444444444, \"#bd3786\"], [0.5555555555555556, \"#d8576b\"], [0.6666666666666666, \"#ed7953\"], [0.7777777777777778, \"#fb9f3a\"], [0.8888888888888888, \"#fdca26\"], [1.0, \"#f0f921\"]], \"type\": \"histogram2dcontour\"}], \"mesh3d\": [{\"colorbar\": {\"outlinewidth\": 0, \"ticks\": \"\"}, \"type\": \"mesh3d\"}], \"parcoords\": [{\"line\": {\"colorbar\": {\"outlinewidth\": 0, \"ticks\": \"\"}}, \"type\": \"parcoords\"}], \"pie\": [{\"automargin\": true, \"type\": \"pie\"}], \"scatter\": [{\"marker\": {\"colorbar\": {\"outlinewidth\": 0, \"ticks\": \"\"}}, \"type\": \"scatter\"}], \"scatter3d\": [{\"line\": {\"colorbar\": {\"outlinewidth\": 0, \"ticks\": \"\"}}, \"marker\": {\"colorbar\": {\"outlinewidth\": 0, \"ticks\": \"\"}}, \"type\": \"scatter3d\"}], \"scattercarpet\": [{\"marker\": {\"colorbar\": {\"outlinewidth\": 0, \"ticks\": \"\"}}, \"type\": \"scattercarpet\"}], \"scattergeo\": [{\"marker\": {\"colorbar\": {\"outlinewidth\": 0, \"ticks\": \"\"}}, \"type\": \"scattergeo\"}], \"scattergl\": [{\"marker\": {\"colorbar\": {\"outlinewidth\": 0, \"ticks\": \"\"}}, \"type\": \"scattergl\"}], \"scattermapbox\": [{\"marker\": {\"colorbar\": {\"outlinewidth\": 0, \"ticks\": \"\"}}, \"type\": \"scattermapbox\"}], \"scatterpolar\": [{\"marker\": {\"colorbar\": {\"outlinewidth\": 0, \"ticks\": \"\"}}, \"type\": \"scatterpolar\"}], \"scatterpolargl\": [{\"marker\": {\"colorbar\": {\"outlinewidth\": 0, \"ticks\": \"\"}}, \"type\": \"scatterpolargl\"}], \"scatterternary\": [{\"marker\": {\"colorbar\": {\"outlinewidth\": 0, \"ticks\": \"\"}}, \"type\": \"scatterternary\"}], \"surface\": [{\"colorbar\": {\"outlinewidth\": 0, \"ticks\": \"\"}, \"colorscale\": [[0.0, \"#0d0887\"], [0.1111111111111111, \"#46039f\"], [0.2222222222222222, \"#7201a8\"], [0.3333333333333333, \"#9c179e\"], [0.4444444444444444, \"#bd3786\"], [0.5555555555555556, \"#d8576b\"], [0.6666666666666666, \"#ed7953\"], [0.7777777777777778, \"#fb9f3a\"], [0.8888888888888888, \"#fdca26\"], [1.0, \"#f0f921\"]], \"type\": \"surface\"}], \"table\": [{\"cells\": {\"fill\": {\"color\": \"#EBF0F8\"}, \"line\": {\"color\": \"white\"}}, \"header\": {\"fill\": {\"color\": \"#C8D4E3\"}, \"line\": {\"color\": \"white\"}}, \"type\": \"table\"}]}, \"layout\": {\"annotationdefaults\": {\"arrowcolor\": \"#2a3f5f\", \"arrowhead\": 0, \"arrowwidth\": 1}, \"coloraxis\": {\"colorbar\": {\"outlinewidth\": 0, \"ticks\": \"\"}}, \"colorscale\": {\"diverging\": [[0, \"#8e0152\"], [0.1, \"#c51b7d\"], [0.2, \"#de77ae\"], [0.3, \"#f1b6da\"], [0.4, \"#fde0ef\"], [0.5, \"#f7f7f7\"], [0.6, \"#e6f5d0\"], [0.7, \"#b8e186\"], [0.8, \"#7fbc41\"], [0.9, \"#4d9221\"], [1, \"#276419\"]], \"sequential\": [[0.0, \"#0d0887\"], [0.1111111111111111, \"#46039f\"], [0.2222222222222222, \"#7201a8\"], [0.3333333333333333, \"#9c179e\"], [0.4444444444444444, \"#bd3786\"], [0.5555555555555556, \"#d8576b\"], [0.6666666666666666, \"#ed7953\"], [0.7777777777777778, \"#fb9f3a\"], [0.8888888888888888, \"#fdca26\"], [1.0, \"#f0f921\"]], \"sequentialminus\": [[0.0, \"#0d0887\"], [0.1111111111111111, \"#46039f\"], [0.2222222222222222, \"#7201a8\"], [0.3333333333333333, \"#9c179e\"], [0.4444444444444444, \"#bd3786\"], [0.5555555555555556, \"#d8576b\"], [0.6666666666666666, \"#ed7953\"], [0.7777777777777778, \"#fb9f3a\"], [0.8888888888888888, \"#fdca26\"], [1.0, \"#f0f921\"]]}, \"colorway\": [\"#636efa\", \"#EF553B\", \"#00cc96\", \"#ab63fa\", \"#FFA15A\", \"#19d3f3\", \"#FF6692\", \"#B6E880\", \"#FF97FF\", \"#FECB52\"], \"font\": {\"color\": \"#2a3f5f\"}, \"geo\": {\"bgcolor\": \"white\", \"lakecolor\": \"white\", \"landcolor\": \"#E5ECF6\", \"showlakes\": true, \"showland\": true, \"subunitcolor\": \"white\"}, \"hoverlabel\": {\"align\": \"left\"}, \"hovermode\": \"closest\", \"mapbox\": {\"style\": \"light\"}, \"paper_bgcolor\": \"white\", \"plot_bgcolor\": \"#E5ECF6\", \"polar\": {\"angularaxis\": {\"gridcolor\": \"white\", \"linecolor\": \"white\", \"ticks\": \"\"}, \"bgcolor\": \"#E5ECF6\", \"radialaxis\": {\"gridcolor\": \"white\", \"linecolor\": \"white\", \"ticks\": \"\"}}, \"scene\": {\"xaxis\": {\"backgroundcolor\": \"#E5ECF6\", \"gridcolor\": \"white\", \"gridwidth\": 2, \"linecolor\": \"white\", \"showbackground\": true, \"ticks\": \"\", \"zerolinecolor\": \"white\"}, \"yaxis\": {\"backgroundcolor\": \"#E5ECF6\", \"gridcolor\": \"white\", \"gridwidth\": 2, \"linecolor\": \"white\", \"showbackground\": true, \"ticks\": \"\", \"zerolinecolor\": \"white\"}, \"zaxis\": {\"backgroundcolor\": \"#E5ECF6\", \"gridcolor\": \"white\", \"gridwidth\": 2, \"linecolor\": \"white\", \"showbackground\": true, \"ticks\": \"\", \"zerolinecolor\": \"white\"}}, \"shapedefaults\": {\"line\": {\"color\": \"#2a3f5f\"}}, \"ternary\": {\"aaxis\": {\"gridcolor\": \"white\", \"linecolor\": \"white\", \"ticks\": \"\"}, \"baxis\": {\"gridcolor\": \"white\", \"linecolor\": \"white\", \"ticks\": \"\"}, \"bgcolor\": \"#E5ECF6\", \"caxis\": {\"gridcolor\": \"white\", \"linecolor\": \"white\", \"ticks\": \"\"}}, \"title\": {\"x\": 0.05}, \"xaxis\": {\"automargin\": true, \"gridcolor\": \"white\", \"linecolor\": \"white\", \"ticks\": \"\", \"title\": {\"standoff\": 15}, \"zerolinecolor\": \"white\", \"zerolinewidth\": 2}, \"yaxis\": {\"automargin\": true, \"gridcolor\": \"white\", \"linecolor\": \"white\", \"ticks\": \"\", \"title\": {\"standoff\": 15}, \"zerolinecolor\": \"white\", \"zerolinewidth\": 2}}}},\n",
       "                        {\"responsive\": true}\n",
       "                    ).then(function(){\n",
       "                            \n",
       "var gd = document.getElementById('65ecfb3f-1d9f-4694-bfd0-51d677e7b4d6');\n",
       "var x = new MutationObserver(function (mutations, observer) {{\n",
       "        var display = window.getComputedStyle(gd).display;\n",
       "        if (!display || display === 'none') {{\n",
       "            console.log([gd, 'removed!']);\n",
       "            Plotly.purge(gd);\n",
       "            observer.disconnect();\n",
       "        }}\n",
       "}});\n",
       "\n",
       "// Listen for the removal of the full notebook cells\n",
       "var notebookContainer = gd.closest('#notebook-container');\n",
       "if (notebookContainer) {{\n",
       "    x.observe(notebookContainer, {childList: true});\n",
       "}}\n",
       "\n",
       "// Listen for the clearing of the current output cell\n",
       "var outputEl = gd.closest('.output');\n",
       "if (outputEl) {{\n",
       "    x.observe(outputEl, {childList: true});\n",
       "}}\n",
       "\n",
       "                        })\n",
       "                };\n",
       "                });\n",
       "            </script>\n",
       "        </div>"
      ]
     },
     "metadata": {},
     "output_type": "display_data"
    }
   ],
   "source": [
    "temp = latest.sort_values('Confirmed', ascending=False)\n",
    "import plotly.graph_objects as go\n",
    "states=temp['State/UT']\n",
    "\n",
    "fig = go.Figure(data=[\n",
    "    go.Bar(name='Confirmed', x=states, y=temp['Confirmed']),\n",
    "    go.Bar(name='Recovered', x=states, y=temp['Cured']),\n",
    "    go.Bar(name='Deaths', x=states, y=temp['Deaths'])\n",
    "])\n",
    "# Change the bar mode\n",
    "fig.update_layout(barmode='group')\n",
    "fig.show()"
   ]
  },
  {
   "cell_type": "code",
   "execution_count": 18,
   "metadata": {},
   "outputs": [],
   "source": [
    "plot_div = plot(fig,output_type='div',include_plotlyjs=False,show_link=False,link_text=\"\",image_width=5000,config={\"displaylogo\":False})"
   ]
  },
  {
   "cell_type": "code",
   "execution_count": null,
   "metadata": {},
   "outputs": [],
   "source": []
  },
  {
   "cell_type": "code",
   "execution_count": 17,
   "metadata": {},
   "outputs": [
    {
     "ename": "KeyError",
     "evalue": "''",
     "output_type": "error",
     "traceback": [
      "\u001b[1;31m---------------------------------------------------------------------------\u001b[0m",
      "\u001b[1;31mKeyError\u001b[0m                                  Traceback (most recent call last)",
      "\u001b[1;32m~\\Anaconda3\\lib\\site-packages\\pandas\\core\\indexes\\base.py\u001b[0m in \u001b[0;36mget_loc\u001b[1;34m(self, key, method, tolerance)\u001b[0m\n\u001b[0;32m   3077\u001b[0m             \u001b[1;32mtry\u001b[0m\u001b[1;33m:\u001b[0m\u001b[1;33m\u001b[0m\u001b[0m\n\u001b[1;32m-> 3078\u001b[1;33m                 \u001b[1;32mreturn\u001b[0m \u001b[0mself\u001b[0m\u001b[1;33m.\u001b[0m\u001b[0m_engine\u001b[0m\u001b[1;33m.\u001b[0m\u001b[0mget_loc\u001b[0m\u001b[1;33m(\u001b[0m\u001b[0mkey\u001b[0m\u001b[1;33m)\u001b[0m\u001b[1;33m\u001b[0m\u001b[0m\n\u001b[0m\u001b[0;32m   3079\u001b[0m             \u001b[1;32mexcept\u001b[0m \u001b[0mKeyError\u001b[0m\u001b[1;33m:\u001b[0m\u001b[1;33m\u001b[0m\u001b[0m\n",
      "\u001b[1;32mpandas\\_libs\\index.pyx\u001b[0m in \u001b[0;36mpandas._libs.index.IndexEngine.get_loc\u001b[1;34m()\u001b[0m\n",
      "\u001b[1;32mpandas\\_libs\\index.pyx\u001b[0m in \u001b[0;36mpandas._libs.index.IndexEngine.get_loc\u001b[1;34m()\u001b[0m\n",
      "\u001b[1;32mpandas\\_libs\\hashtable_class_helper.pxi\u001b[0m in \u001b[0;36mpandas._libs.hashtable.PyObjectHashTable.get_item\u001b[1;34m()\u001b[0m\n",
      "\u001b[1;32mpandas\\_libs\\hashtable_class_helper.pxi\u001b[0m in \u001b[0;36mpandas._libs.hashtable.PyObjectHashTable.get_item\u001b[1;34m()\u001b[0m\n",
      "\u001b[1;31mKeyError\u001b[0m: ''",
      "\nDuring handling of the above exception, another exception occurred:\n",
      "\u001b[1;31mKeyError\u001b[0m                                  Traceback (most recent call last)",
      "\u001b[1;32m<ipython-input-17-cafc7ae6f4a0>\u001b[0m in \u001b[0;36m<module>\u001b[1;34m()\u001b[0m\n\u001b[0;32m      1\u001b[0m \u001b[0mtemp\u001b[0m \u001b[1;33m=\u001b[0m \u001b[0mlatest\u001b[0m\u001b[1;33m.\u001b[0m\u001b[0msort_values\u001b[0m\u001b[1;33m(\u001b[0m\u001b[1;34m'Confirmed'\u001b[0m\u001b[1;33m,\u001b[0m \u001b[0mascending\u001b[0m\u001b[1;33m=\u001b[0m\u001b[1;32mFalse\u001b[0m\u001b[1;33m)\u001b[0m\u001b[1;33m\u001b[0m\u001b[0m\n\u001b[0;32m      2\u001b[0m \u001b[0mstate_order\u001b[0m \u001b[1;33m=\u001b[0m \u001b[0mtemp\u001b[0m\u001b[1;33m[\u001b[0m\u001b[1;34m'State/UT'\u001b[0m\u001b[1;33m]\u001b[0m\u001b[1;33m\u001b[0m\u001b[0m\n\u001b[1;32m----> 3\u001b[1;33m \u001b[0mtemp\u001b[0m\u001b[1;33m[\u001b[0m\u001b[1;34m''\u001b[0m\u001b[1;33m]\u001b[0m\u001b[1;33m\u001b[0m\u001b[0m\n\u001b[0m\u001b[0;32m      4\u001b[0m fig = px.bar(temp, \n\u001b[0;32m      5\u001b[0m              \u001b[0mx\u001b[0m\u001b[1;33m=\u001b[0m\u001b[1;34m\"Confirmed\"\u001b[0m\u001b[1;33m,\u001b[0m \u001b[0my\u001b[0m\u001b[1;33m=\u001b[0m\u001b[1;34m\"State/UT\"\u001b[0m\u001b[1;33m,\u001b[0m \u001b[0mcolor\u001b[0m\u001b[1;33m=\u001b[0m\u001b[1;34m'State/UT'\u001b[0m\u001b[1;33m,\u001b[0m \u001b[0mtitle\u001b[0m\u001b[1;33m=\u001b[0m\u001b[1;34m'Confirmed'\u001b[0m\u001b[1;33m,\u001b[0m\u001b[1;33m\u001b[0m\u001b[0m\n",
      "\u001b[1;32m~\\Anaconda3\\lib\\site-packages\\pandas\\core\\frame.py\u001b[0m in \u001b[0;36m__getitem__\u001b[1;34m(self, key)\u001b[0m\n\u001b[0;32m   2686\u001b[0m             \u001b[1;32mreturn\u001b[0m \u001b[0mself\u001b[0m\u001b[1;33m.\u001b[0m\u001b[0m_getitem_multilevel\u001b[0m\u001b[1;33m(\u001b[0m\u001b[0mkey\u001b[0m\u001b[1;33m)\u001b[0m\u001b[1;33m\u001b[0m\u001b[0m\n\u001b[0;32m   2687\u001b[0m         \u001b[1;32melse\u001b[0m\u001b[1;33m:\u001b[0m\u001b[1;33m\u001b[0m\u001b[0m\n\u001b[1;32m-> 2688\u001b[1;33m             \u001b[1;32mreturn\u001b[0m \u001b[0mself\u001b[0m\u001b[1;33m.\u001b[0m\u001b[0m_getitem_column\u001b[0m\u001b[1;33m(\u001b[0m\u001b[0mkey\u001b[0m\u001b[1;33m)\u001b[0m\u001b[1;33m\u001b[0m\u001b[0m\n\u001b[0m\u001b[0;32m   2689\u001b[0m \u001b[1;33m\u001b[0m\u001b[0m\n\u001b[0;32m   2690\u001b[0m     \u001b[1;32mdef\u001b[0m \u001b[0m_getitem_column\u001b[0m\u001b[1;33m(\u001b[0m\u001b[0mself\u001b[0m\u001b[1;33m,\u001b[0m \u001b[0mkey\u001b[0m\u001b[1;33m)\u001b[0m\u001b[1;33m:\u001b[0m\u001b[1;33m\u001b[0m\u001b[0m\n",
      "\u001b[1;32m~\\Anaconda3\\lib\\site-packages\\pandas\\core\\frame.py\u001b[0m in \u001b[0;36m_getitem_column\u001b[1;34m(self, key)\u001b[0m\n\u001b[0;32m   2693\u001b[0m         \u001b[1;31m# get column\u001b[0m\u001b[1;33m\u001b[0m\u001b[1;33m\u001b[0m\u001b[0m\n\u001b[0;32m   2694\u001b[0m         \u001b[1;32mif\u001b[0m \u001b[0mself\u001b[0m\u001b[1;33m.\u001b[0m\u001b[0mcolumns\u001b[0m\u001b[1;33m.\u001b[0m\u001b[0mis_unique\u001b[0m\u001b[1;33m:\u001b[0m\u001b[1;33m\u001b[0m\u001b[0m\n\u001b[1;32m-> 2695\u001b[1;33m             \u001b[1;32mreturn\u001b[0m \u001b[0mself\u001b[0m\u001b[1;33m.\u001b[0m\u001b[0m_get_item_cache\u001b[0m\u001b[1;33m(\u001b[0m\u001b[0mkey\u001b[0m\u001b[1;33m)\u001b[0m\u001b[1;33m\u001b[0m\u001b[0m\n\u001b[0m\u001b[0;32m   2696\u001b[0m \u001b[1;33m\u001b[0m\u001b[0m\n\u001b[0;32m   2697\u001b[0m         \u001b[1;31m# duplicate columns & possible reduce dimensionality\u001b[0m\u001b[1;33m\u001b[0m\u001b[1;33m\u001b[0m\u001b[0m\n",
      "\u001b[1;32m~\\Anaconda3\\lib\\site-packages\\pandas\\core\\generic.py\u001b[0m in \u001b[0;36m_get_item_cache\u001b[1;34m(self, item)\u001b[0m\n\u001b[0;32m   2487\u001b[0m         \u001b[0mres\u001b[0m \u001b[1;33m=\u001b[0m \u001b[0mcache\u001b[0m\u001b[1;33m.\u001b[0m\u001b[0mget\u001b[0m\u001b[1;33m(\u001b[0m\u001b[0mitem\u001b[0m\u001b[1;33m)\u001b[0m\u001b[1;33m\u001b[0m\u001b[0m\n\u001b[0;32m   2488\u001b[0m         \u001b[1;32mif\u001b[0m \u001b[0mres\u001b[0m \u001b[1;32mis\u001b[0m \u001b[1;32mNone\u001b[0m\u001b[1;33m:\u001b[0m\u001b[1;33m\u001b[0m\u001b[0m\n\u001b[1;32m-> 2489\u001b[1;33m             \u001b[0mvalues\u001b[0m \u001b[1;33m=\u001b[0m \u001b[0mself\u001b[0m\u001b[1;33m.\u001b[0m\u001b[0m_data\u001b[0m\u001b[1;33m.\u001b[0m\u001b[0mget\u001b[0m\u001b[1;33m(\u001b[0m\u001b[0mitem\u001b[0m\u001b[1;33m)\u001b[0m\u001b[1;33m\u001b[0m\u001b[0m\n\u001b[0m\u001b[0;32m   2490\u001b[0m             \u001b[0mres\u001b[0m \u001b[1;33m=\u001b[0m \u001b[0mself\u001b[0m\u001b[1;33m.\u001b[0m\u001b[0m_box_item_values\u001b[0m\u001b[1;33m(\u001b[0m\u001b[0mitem\u001b[0m\u001b[1;33m,\u001b[0m \u001b[0mvalues\u001b[0m\u001b[1;33m)\u001b[0m\u001b[1;33m\u001b[0m\u001b[0m\n\u001b[0;32m   2491\u001b[0m             \u001b[0mcache\u001b[0m\u001b[1;33m[\u001b[0m\u001b[0mitem\u001b[0m\u001b[1;33m]\u001b[0m \u001b[1;33m=\u001b[0m \u001b[0mres\u001b[0m\u001b[1;33m\u001b[0m\u001b[0m\n",
      "\u001b[1;32m~\\Anaconda3\\lib\\site-packages\\pandas\\core\\internals.py\u001b[0m in \u001b[0;36mget\u001b[1;34m(self, item, fastpath)\u001b[0m\n\u001b[0;32m   4113\u001b[0m \u001b[1;33m\u001b[0m\u001b[0m\n\u001b[0;32m   4114\u001b[0m             \u001b[1;32mif\u001b[0m \u001b[1;32mnot\u001b[0m \u001b[0misna\u001b[0m\u001b[1;33m(\u001b[0m\u001b[0mitem\u001b[0m\u001b[1;33m)\u001b[0m\u001b[1;33m:\u001b[0m\u001b[1;33m\u001b[0m\u001b[0m\n\u001b[1;32m-> 4115\u001b[1;33m                 \u001b[0mloc\u001b[0m \u001b[1;33m=\u001b[0m \u001b[0mself\u001b[0m\u001b[1;33m.\u001b[0m\u001b[0mitems\u001b[0m\u001b[1;33m.\u001b[0m\u001b[0mget_loc\u001b[0m\u001b[1;33m(\u001b[0m\u001b[0mitem\u001b[0m\u001b[1;33m)\u001b[0m\u001b[1;33m\u001b[0m\u001b[0m\n\u001b[0m\u001b[0;32m   4116\u001b[0m             \u001b[1;32melse\u001b[0m\u001b[1;33m:\u001b[0m\u001b[1;33m\u001b[0m\u001b[0m\n\u001b[0;32m   4117\u001b[0m                 \u001b[0mindexer\u001b[0m \u001b[1;33m=\u001b[0m \u001b[0mnp\u001b[0m\u001b[1;33m.\u001b[0m\u001b[0marange\u001b[0m\u001b[1;33m(\u001b[0m\u001b[0mlen\u001b[0m\u001b[1;33m(\u001b[0m\u001b[0mself\u001b[0m\u001b[1;33m.\u001b[0m\u001b[0mitems\u001b[0m\u001b[1;33m)\u001b[0m\u001b[1;33m)\u001b[0m\u001b[1;33m[\u001b[0m\u001b[0misna\u001b[0m\u001b[1;33m(\u001b[0m\u001b[0mself\u001b[0m\u001b[1;33m.\u001b[0m\u001b[0mitems\u001b[0m\u001b[1;33m)\u001b[0m\u001b[1;33m]\u001b[0m\u001b[1;33m\u001b[0m\u001b[0m\n",
      "\u001b[1;32m~\\Anaconda3\\lib\\site-packages\\pandas\\core\\indexes\\base.py\u001b[0m in \u001b[0;36mget_loc\u001b[1;34m(self, key, method, tolerance)\u001b[0m\n\u001b[0;32m   3078\u001b[0m                 \u001b[1;32mreturn\u001b[0m \u001b[0mself\u001b[0m\u001b[1;33m.\u001b[0m\u001b[0m_engine\u001b[0m\u001b[1;33m.\u001b[0m\u001b[0mget_loc\u001b[0m\u001b[1;33m(\u001b[0m\u001b[0mkey\u001b[0m\u001b[1;33m)\u001b[0m\u001b[1;33m\u001b[0m\u001b[0m\n\u001b[0;32m   3079\u001b[0m             \u001b[1;32mexcept\u001b[0m \u001b[0mKeyError\u001b[0m\u001b[1;33m:\u001b[0m\u001b[1;33m\u001b[0m\u001b[0m\n\u001b[1;32m-> 3080\u001b[1;33m                 \u001b[1;32mreturn\u001b[0m \u001b[0mself\u001b[0m\u001b[1;33m.\u001b[0m\u001b[0m_engine\u001b[0m\u001b[1;33m.\u001b[0m\u001b[0mget_loc\u001b[0m\u001b[1;33m(\u001b[0m\u001b[0mself\u001b[0m\u001b[1;33m.\u001b[0m\u001b[0m_maybe_cast_indexer\u001b[0m\u001b[1;33m(\u001b[0m\u001b[0mkey\u001b[0m\u001b[1;33m)\u001b[0m\u001b[1;33m)\u001b[0m\u001b[1;33m\u001b[0m\u001b[0m\n\u001b[0m\u001b[0;32m   3081\u001b[0m \u001b[1;33m\u001b[0m\u001b[0m\n\u001b[0;32m   3082\u001b[0m         \u001b[0mindexer\u001b[0m \u001b[1;33m=\u001b[0m \u001b[0mself\u001b[0m\u001b[1;33m.\u001b[0m\u001b[0mget_indexer\u001b[0m\u001b[1;33m(\u001b[0m\u001b[1;33m[\u001b[0m\u001b[0mkey\u001b[0m\u001b[1;33m]\u001b[0m\u001b[1;33m,\u001b[0m \u001b[0mmethod\u001b[0m\u001b[1;33m=\u001b[0m\u001b[0mmethod\u001b[0m\u001b[1;33m,\u001b[0m \u001b[0mtolerance\u001b[0m\u001b[1;33m=\u001b[0m\u001b[0mtolerance\u001b[0m\u001b[1;33m)\u001b[0m\u001b[1;33m\u001b[0m\u001b[0m\n",
      "\u001b[1;32mpandas\\_libs\\index.pyx\u001b[0m in \u001b[0;36mpandas._libs.index.IndexEngine.get_loc\u001b[1;34m()\u001b[0m\n",
      "\u001b[1;32mpandas\\_libs\\index.pyx\u001b[0m in \u001b[0;36mpandas._libs.index.IndexEngine.get_loc\u001b[1;34m()\u001b[0m\n",
      "\u001b[1;32mpandas\\_libs\\hashtable_class_helper.pxi\u001b[0m in \u001b[0;36mpandas._libs.hashtable.PyObjectHashTable.get_item\u001b[1;34m()\u001b[0m\n",
      "\u001b[1;32mpandas\\_libs\\hashtable_class_helper.pxi\u001b[0m in \u001b[0;36mpandas._libs.hashtable.PyObjectHashTable.get_item\u001b[1;34m()\u001b[0m\n",
      "\u001b[1;31mKeyError\u001b[0m: ''"
     ]
    }
   ],
   "source": [
    "temp = latest.sort_values('Confirmed', ascending=False)\n",
    "state_order = temp['State/UT']\n",
    "temp['']\n",
    "fig = px.bar(temp, \n",
    "             x=\"Confirmed\", y=\"State/UT\", color='State/UT', title='Confirmed',\n",
    "             orientation='h', text='Confirmed', height=len(temp)*35,\n",
    "             color_discrete_sequence = px.colors.qualitative.Vivid)\n",
    "fig.show()"
   ]
  },
  {
   "cell_type": "code",
   "execution_count": 16,
   "metadata": {},
   "outputs": [
    {
     "data": {
      "application/vnd.plotly.v1+json": {
       "config": {
        "plotlyServerURL": "https://plot.ly"
       },
       "data": [
        {
         "alignmentgroup": "True",
         "hovertemplate": "Deaths=%{text}<br>State/UT=%{y}<extra></extra>",
         "legendgroup": "",
         "marker": {
          "color": "#ff2e63"
         },
         "name": "",
         "offsetgroup": "",
         "orientation": "h",
         "showlegend": false,
         "text": [
          1,
          1,
          1,
          1,
          2,
          2,
          2,
          3,
          3,
          3,
          4,
          4,
          6,
          7,
          16
         ],
         "textposition": "auto",
         "type": "bar",
         "x": [
          1,
          1,
          1,
          1,
          2,
          2,
          2,
          3,
          3,
          3,
          4,
          4,
          6,
          7,
          16
         ],
         "xaxis": "x",
         "y": [
          "Andhra Pradesh",
          "Bihar",
          "Himachal Pradesh",
          "Tamil Nadu",
          "Jammu and Kashmir",
          "Kerala",
          "Uttar Pradesh",
          "Karnataka",
          "Telengana",
          "West Bengal",
          "Delhi",
          "Punjab",
          "Madhya Pradesh",
          "Gujarat",
          "Maharashtra"
         ],
         "yaxis": "y"
        },
        {
         "alignmentgroup": "True",
         "hovertemplate": "Cured=%{text}<br>State/UT=%{y}<extra></extra>",
         "legendgroup": "",
         "marker": {
          "color": "#2c786c"
         },
         "name": "",
         "offsetgroup": "",
         "orientation": "h",
         "showlegend": false,
         "text": [
          1,
          1,
          1,
          1,
          1,
          2,
          2,
          3,
          3,
          3,
          3,
          6,
          8,
          8,
          10,
          14,
          21,
          27,
          42
         ],
         "textposition": "auto",
         "type": "bar",
         "x": [
          1,
          1,
          1,
          1,
          1,
          2,
          2,
          3,
          3,
          3,
          3,
          6,
          8,
          8,
          10,
          14,
          21,
          27,
          42
         ],
         "xaxis": "x2",
         "y": [
          "Andhra Pradesh",
          "Telengana",
          "Punjab",
          "Himachal Pradesh",
          "Puducherry",
          "Chhattisgarh",
          "Uttarakhand",
          "Rajasthan",
          "Ladakh",
          "Jammu and Kashmir",
          "West Bengal",
          "Tamil Nadu",
          "Gujarat",
          "Delhi",
          "Karnataka",
          "Uttar Pradesh",
          "Haryana",
          "Kerala",
          "Maharashtra"
         ],
         "yaxis": "y2"
        }
       ],
       "layout": {
        "annotations": [
         {
          "font": {
           "size": 16
          },
          "showarrow": false,
          "text": "Deaths",
          "x": 0.2,
          "xanchor": "center",
          "xref": "paper",
          "y": 1,
          "yanchor": "bottom",
          "yref": "paper"
         },
         {
          "font": {
           "size": 16
          },
          "showarrow": false,
          "text": "Recovered",
          "x": 0.8,
          "xanchor": "center",
          "xref": "paper",
          "y": 1,
          "yanchor": "bottom",
          "yref": "paper"
         }
        ],
        "height": 800,
        "template": {
         "data": {
          "bar": [
           {
            "error_x": {
             "color": "#2a3f5f"
            },
            "error_y": {
             "color": "#2a3f5f"
            },
            "marker": {
             "line": {
              "color": "#E5ECF6",
              "width": 0.5
             }
            },
            "type": "bar"
           }
          ],
          "barpolar": [
           {
            "marker": {
             "line": {
              "color": "#E5ECF6",
              "width": 0.5
             }
            },
            "type": "barpolar"
           }
          ],
          "carpet": [
           {
            "aaxis": {
             "endlinecolor": "#2a3f5f",
             "gridcolor": "white",
             "linecolor": "white",
             "minorgridcolor": "white",
             "startlinecolor": "#2a3f5f"
            },
            "baxis": {
             "endlinecolor": "#2a3f5f",
             "gridcolor": "white",
             "linecolor": "white",
             "minorgridcolor": "white",
             "startlinecolor": "#2a3f5f"
            },
            "type": "carpet"
           }
          ],
          "choropleth": [
           {
            "colorbar": {
             "outlinewidth": 0,
             "ticks": ""
            },
            "type": "choropleth"
           }
          ],
          "contour": [
           {
            "colorbar": {
             "outlinewidth": 0,
             "ticks": ""
            },
            "colorscale": [
             [
              0,
              "#0d0887"
             ],
             [
              0.1111111111111111,
              "#46039f"
             ],
             [
              0.2222222222222222,
              "#7201a8"
             ],
             [
              0.3333333333333333,
              "#9c179e"
             ],
             [
              0.4444444444444444,
              "#bd3786"
             ],
             [
              0.5555555555555556,
              "#d8576b"
             ],
             [
              0.6666666666666666,
              "#ed7953"
             ],
             [
              0.7777777777777778,
              "#fb9f3a"
             ],
             [
              0.8888888888888888,
              "#fdca26"
             ],
             [
              1,
              "#f0f921"
             ]
            ],
            "type": "contour"
           }
          ],
          "contourcarpet": [
           {
            "colorbar": {
             "outlinewidth": 0,
             "ticks": ""
            },
            "type": "contourcarpet"
           }
          ],
          "heatmap": [
           {
            "colorbar": {
             "outlinewidth": 0,
             "ticks": ""
            },
            "colorscale": [
             [
              0,
              "#0d0887"
             ],
             [
              0.1111111111111111,
              "#46039f"
             ],
             [
              0.2222222222222222,
              "#7201a8"
             ],
             [
              0.3333333333333333,
              "#9c179e"
             ],
             [
              0.4444444444444444,
              "#bd3786"
             ],
             [
              0.5555555555555556,
              "#d8576b"
             ],
             [
              0.6666666666666666,
              "#ed7953"
             ],
             [
              0.7777777777777778,
              "#fb9f3a"
             ],
             [
              0.8888888888888888,
              "#fdca26"
             ],
             [
              1,
              "#f0f921"
             ]
            ],
            "type": "heatmap"
           }
          ],
          "heatmapgl": [
           {
            "colorbar": {
             "outlinewidth": 0,
             "ticks": ""
            },
            "colorscale": [
             [
              0,
              "#0d0887"
             ],
             [
              0.1111111111111111,
              "#46039f"
             ],
             [
              0.2222222222222222,
              "#7201a8"
             ],
             [
              0.3333333333333333,
              "#9c179e"
             ],
             [
              0.4444444444444444,
              "#bd3786"
             ],
             [
              0.5555555555555556,
              "#d8576b"
             ],
             [
              0.6666666666666666,
              "#ed7953"
             ],
             [
              0.7777777777777778,
              "#fb9f3a"
             ],
             [
              0.8888888888888888,
              "#fdca26"
             ],
             [
              1,
              "#f0f921"
             ]
            ],
            "type": "heatmapgl"
           }
          ],
          "histogram": [
           {
            "marker": {
             "colorbar": {
              "outlinewidth": 0,
              "ticks": ""
             }
            },
            "type": "histogram"
           }
          ],
          "histogram2d": [
           {
            "colorbar": {
             "outlinewidth": 0,
             "ticks": ""
            },
            "colorscale": [
             [
              0,
              "#0d0887"
             ],
             [
              0.1111111111111111,
              "#46039f"
             ],
             [
              0.2222222222222222,
              "#7201a8"
             ],
             [
              0.3333333333333333,
              "#9c179e"
             ],
             [
              0.4444444444444444,
              "#bd3786"
             ],
             [
              0.5555555555555556,
              "#d8576b"
             ],
             [
              0.6666666666666666,
              "#ed7953"
             ],
             [
              0.7777777777777778,
              "#fb9f3a"
             ],
             [
              0.8888888888888888,
              "#fdca26"
             ],
             [
              1,
              "#f0f921"
             ]
            ],
            "type": "histogram2d"
           }
          ],
          "histogram2dcontour": [
           {
            "colorbar": {
             "outlinewidth": 0,
             "ticks": ""
            },
            "colorscale": [
             [
              0,
              "#0d0887"
             ],
             [
              0.1111111111111111,
              "#46039f"
             ],
             [
              0.2222222222222222,
              "#7201a8"
             ],
             [
              0.3333333333333333,
              "#9c179e"
             ],
             [
              0.4444444444444444,
              "#bd3786"
             ],
             [
              0.5555555555555556,
              "#d8576b"
             ],
             [
              0.6666666666666666,
              "#ed7953"
             ],
             [
              0.7777777777777778,
              "#fb9f3a"
             ],
             [
              0.8888888888888888,
              "#fdca26"
             ],
             [
              1,
              "#f0f921"
             ]
            ],
            "type": "histogram2dcontour"
           }
          ],
          "mesh3d": [
           {
            "colorbar": {
             "outlinewidth": 0,
             "ticks": ""
            },
            "type": "mesh3d"
           }
          ],
          "parcoords": [
           {
            "line": {
             "colorbar": {
              "outlinewidth": 0,
              "ticks": ""
             }
            },
            "type": "parcoords"
           }
          ],
          "pie": [
           {
            "automargin": true,
            "type": "pie"
           }
          ],
          "scatter": [
           {
            "marker": {
             "colorbar": {
              "outlinewidth": 0,
              "ticks": ""
             }
            },
            "type": "scatter"
           }
          ],
          "scatter3d": [
           {
            "line": {
             "colorbar": {
              "outlinewidth": 0,
              "ticks": ""
             }
            },
            "marker": {
             "colorbar": {
              "outlinewidth": 0,
              "ticks": ""
             }
            },
            "type": "scatter3d"
           }
          ],
          "scattercarpet": [
           {
            "marker": {
             "colorbar": {
              "outlinewidth": 0,
              "ticks": ""
             }
            },
            "type": "scattercarpet"
           }
          ],
          "scattergeo": [
           {
            "marker": {
             "colorbar": {
              "outlinewidth": 0,
              "ticks": ""
             }
            },
            "type": "scattergeo"
           }
          ],
          "scattergl": [
           {
            "marker": {
             "colorbar": {
              "outlinewidth": 0,
              "ticks": ""
             }
            },
            "type": "scattergl"
           }
          ],
          "scattermapbox": [
           {
            "marker": {
             "colorbar": {
              "outlinewidth": 0,
              "ticks": ""
             }
            },
            "type": "scattermapbox"
           }
          ],
          "scatterpolar": [
           {
            "marker": {
             "colorbar": {
              "outlinewidth": 0,
              "ticks": ""
             }
            },
            "type": "scatterpolar"
           }
          ],
          "scatterpolargl": [
           {
            "marker": {
             "colorbar": {
              "outlinewidth": 0,
              "ticks": ""
             }
            },
            "type": "scatterpolargl"
           }
          ],
          "scatterternary": [
           {
            "marker": {
             "colorbar": {
              "outlinewidth": 0,
              "ticks": ""
             }
            },
            "type": "scatterternary"
           }
          ],
          "surface": [
           {
            "colorbar": {
             "outlinewidth": 0,
             "ticks": ""
            },
            "colorscale": [
             [
              0,
              "#0d0887"
             ],
             [
              0.1111111111111111,
              "#46039f"
             ],
             [
              0.2222222222222222,
              "#7201a8"
             ],
             [
              0.3333333333333333,
              "#9c179e"
             ],
             [
              0.4444444444444444,
              "#bd3786"
             ],
             [
              0.5555555555555556,
              "#d8576b"
             ],
             [
              0.6666666666666666,
              "#ed7953"
             ],
             [
              0.7777777777777778,
              "#fb9f3a"
             ],
             [
              0.8888888888888888,
              "#fdca26"
             ],
             [
              1,
              "#f0f921"
             ]
            ],
            "type": "surface"
           }
          ],
          "table": [
           {
            "cells": {
             "fill": {
              "color": "#EBF0F8"
             },
             "line": {
              "color": "white"
             }
            },
            "header": {
             "fill": {
              "color": "#C8D4E3"
             },
             "line": {
              "color": "white"
             }
            },
            "type": "table"
           }
          ]
         },
         "layout": {
          "annotationdefaults": {
           "arrowcolor": "#2a3f5f",
           "arrowhead": 0,
           "arrowwidth": 1
          },
          "coloraxis": {
           "colorbar": {
            "outlinewidth": 0,
            "ticks": ""
           }
          },
          "colorscale": {
           "diverging": [
            [
             0,
             "#8e0152"
            ],
            [
             0.1,
             "#c51b7d"
            ],
            [
             0.2,
             "#de77ae"
            ],
            [
             0.3,
             "#f1b6da"
            ],
            [
             0.4,
             "#fde0ef"
            ],
            [
             0.5,
             "#f7f7f7"
            ],
            [
             0.6,
             "#e6f5d0"
            ],
            [
             0.7,
             "#b8e186"
            ],
            [
             0.8,
             "#7fbc41"
            ],
            [
             0.9,
             "#4d9221"
            ],
            [
             1,
             "#276419"
            ]
           ],
           "sequential": [
            [
             0,
             "#0d0887"
            ],
            [
             0.1111111111111111,
             "#46039f"
            ],
            [
             0.2222222222222222,
             "#7201a8"
            ],
            [
             0.3333333333333333,
             "#9c179e"
            ],
            [
             0.4444444444444444,
             "#bd3786"
            ],
            [
             0.5555555555555556,
             "#d8576b"
            ],
            [
             0.6666666666666666,
             "#ed7953"
            ],
            [
             0.7777777777777778,
             "#fb9f3a"
            ],
            [
             0.8888888888888888,
             "#fdca26"
            ],
            [
             1,
             "#f0f921"
            ]
           ],
           "sequentialminus": [
            [
             0,
             "#0d0887"
            ],
            [
             0.1111111111111111,
             "#46039f"
            ],
            [
             0.2222222222222222,
             "#7201a8"
            ],
            [
             0.3333333333333333,
             "#9c179e"
            ],
            [
             0.4444444444444444,
             "#bd3786"
            ],
            [
             0.5555555555555556,
             "#d8576b"
            ],
            [
             0.6666666666666666,
             "#ed7953"
            ],
            [
             0.7777777777777778,
             "#fb9f3a"
            ],
            [
             0.8888888888888888,
             "#fdca26"
            ],
            [
             1,
             "#f0f921"
            ]
           ]
          },
          "colorway": [
           "#636efa",
           "#EF553B",
           "#00cc96",
           "#ab63fa",
           "#FFA15A",
           "#19d3f3",
           "#FF6692",
           "#B6E880",
           "#FF97FF",
           "#FECB52"
          ],
          "font": {
           "color": "#2a3f5f"
          },
          "geo": {
           "bgcolor": "white",
           "lakecolor": "white",
           "landcolor": "#E5ECF6",
           "showlakes": true,
           "showland": true,
           "subunitcolor": "white"
          },
          "hoverlabel": {
           "align": "left"
          },
          "hovermode": "closest",
          "mapbox": {
           "style": "light"
          },
          "paper_bgcolor": "white",
          "plot_bgcolor": "#E5ECF6",
          "polar": {
           "angularaxis": {
            "gridcolor": "white",
            "linecolor": "white",
            "ticks": ""
           },
           "bgcolor": "#E5ECF6",
           "radialaxis": {
            "gridcolor": "white",
            "linecolor": "white",
            "ticks": ""
           }
          },
          "scene": {
           "xaxis": {
            "backgroundcolor": "#E5ECF6",
            "gridcolor": "white",
            "gridwidth": 2,
            "linecolor": "white",
            "showbackground": true,
            "ticks": "",
            "zerolinecolor": "white"
           },
           "yaxis": {
            "backgroundcolor": "#E5ECF6",
            "gridcolor": "white",
            "gridwidth": 2,
            "linecolor": "white",
            "showbackground": true,
            "ticks": "",
            "zerolinecolor": "white"
           },
           "zaxis": {
            "backgroundcolor": "#E5ECF6",
            "gridcolor": "white",
            "gridwidth": 2,
            "linecolor": "white",
            "showbackground": true,
            "ticks": "",
            "zerolinecolor": "white"
           }
          },
          "shapedefaults": {
           "line": {
            "color": "#2a3f5f"
           }
          },
          "ternary": {
           "aaxis": {
            "gridcolor": "white",
            "linecolor": "white",
            "ticks": ""
           },
           "baxis": {
            "gridcolor": "white",
            "linecolor": "white",
            "ticks": ""
           },
           "bgcolor": "#E5ECF6",
           "caxis": {
            "gridcolor": "white",
            "linecolor": "white",
            "ticks": ""
           }
          },
          "title": {
           "x": 0.05
          },
          "xaxis": {
           "automargin": true,
           "gridcolor": "white",
           "linecolor": "white",
           "ticks": "",
           "title": {
            "standoff": 15
           },
           "zerolinecolor": "white",
           "zerolinewidth": 2
          },
          "yaxis": {
           "automargin": true,
           "gridcolor": "white",
           "linecolor": "white",
           "ticks": "",
           "title": {
            "standoff": 15
           },
           "zerolinecolor": "white",
           "zerolinewidth": 2
          }
         }
        },
        "xaxis": {
         "anchor": "y",
         "domain": [
          0,
          0.4
         ]
        },
        "xaxis2": {
         "anchor": "y2",
         "domain": [
          0.6000000000000001,
          1
         ]
        },
        "yaxis": {
         "anchor": "x",
         "domain": [
          0,
          1
         ]
        },
        "yaxis2": {
         "anchor": "x2",
         "domain": [
          0,
          1
         ]
        }
       }
      },
      "text/html": [
       "<div>\n",
       "        \n",
       "        \n",
       "            <div id=\"9d96bccc-feca-43c0-8a01-20bce7e8c35e\" class=\"plotly-graph-div\" style=\"height:800px; width:100%;\"></div>\n",
       "            <script type=\"text/javascript\">\n",
       "                require([\"plotly\"], function(Plotly) {\n",
       "                    window.PLOTLYENV=window.PLOTLYENV || {};\n",
       "                    \n",
       "                if (document.getElementById(\"9d96bccc-feca-43c0-8a01-20bce7e8c35e\")) {\n",
       "                    Plotly.newPlot(\n",
       "                        '9d96bccc-feca-43c0-8a01-20bce7e8c35e',\n",
       "                        [{\"alignmentgroup\": \"True\", \"hovertemplate\": \"Deaths=%{text}<br>State/UT=%{y}<extra></extra>\", \"legendgroup\": \"\", \"marker\": {\"color\": \"#ff2e63\"}, \"name\": \"\", \"offsetgroup\": \"\", \"orientation\": \"h\", \"showlegend\": false, \"text\": [1.0, 1.0, 1.0, 1.0, 2.0, 2.0, 2.0, 3.0, 3.0, 3.0, 4.0, 4.0, 6.0, 7.0, 16.0], \"textposition\": \"auto\", \"type\": \"bar\", \"x\": [1, 1, 1, 1, 2, 2, 2, 3, 3, 3, 4, 4, 6, 7, 16], \"xaxis\": \"x\", \"y\": [\"Andhra Pradesh\", \"Bihar\", \"Himachal Pradesh\", \"Tamil Nadu\", \"Jammu and Kashmir\", \"Kerala\", \"Uttar Pradesh\", \"Karnataka\", \"Telengana\", \"West Bengal\", \"Delhi\", \"Punjab\", \"Madhya Pradesh\", \"Gujarat\", \"Maharashtra\"], \"yaxis\": \"y\"}, {\"alignmentgroup\": \"True\", \"hovertemplate\": \"Cured=%{text}<br>State/UT=%{y}<extra></extra>\", \"legendgroup\": \"\", \"marker\": {\"color\": \"#2c786c\"}, \"name\": \"\", \"offsetgroup\": \"\", \"orientation\": \"h\", \"showlegend\": false, \"text\": [1.0, 1.0, 1.0, 1.0, 1.0, 2.0, 2.0, 3.0, 3.0, 3.0, 3.0, 6.0, 8.0, 8.0, 10.0, 14.0, 21.0, 27.0, 42.0], \"textposition\": \"auto\", \"type\": \"bar\", \"x\": [1, 1, 1, 1, 1, 2, 2, 3, 3, 3, 3, 6, 8, 8, 10, 14, 21, 27, 42], \"xaxis\": \"x2\", \"y\": [\"Andhra Pradesh\", \"Telengana\", \"Punjab\", \"Himachal Pradesh\", \"Puducherry\", \"Chhattisgarh\", \"Uttarakhand\", \"Rajasthan\", \"Ladakh\", \"Jammu and Kashmir\", \"West Bengal\", \"Tamil Nadu\", \"Gujarat\", \"Delhi\", \"Karnataka\", \"Uttar Pradesh\", \"Haryana\", \"Kerala\", \"Maharashtra\"], \"yaxis\": \"y2\"}],\n",
       "                        {\"annotations\": [{\"font\": {\"size\": 16}, \"showarrow\": false, \"text\": \"Deaths\", \"x\": 0.2, \"xanchor\": \"center\", \"xref\": \"paper\", \"y\": 1.0, \"yanchor\": \"bottom\", \"yref\": \"paper\"}, {\"font\": {\"size\": 16}, \"showarrow\": false, \"text\": \"Recovered\", \"x\": 0.8, \"xanchor\": \"center\", \"xref\": \"paper\", \"y\": 1.0, \"yanchor\": \"bottom\", \"yref\": \"paper\"}], \"height\": 800, \"template\": {\"data\": {\"bar\": [{\"error_x\": {\"color\": \"#2a3f5f\"}, \"error_y\": {\"color\": \"#2a3f5f\"}, \"marker\": {\"line\": {\"color\": \"#E5ECF6\", \"width\": 0.5}}, \"type\": \"bar\"}], \"barpolar\": [{\"marker\": {\"line\": {\"color\": \"#E5ECF6\", \"width\": 0.5}}, \"type\": \"barpolar\"}], \"carpet\": [{\"aaxis\": {\"endlinecolor\": \"#2a3f5f\", \"gridcolor\": \"white\", \"linecolor\": \"white\", \"minorgridcolor\": \"white\", \"startlinecolor\": \"#2a3f5f\"}, \"baxis\": {\"endlinecolor\": \"#2a3f5f\", \"gridcolor\": \"white\", \"linecolor\": \"white\", \"minorgridcolor\": \"white\", \"startlinecolor\": \"#2a3f5f\"}, \"type\": \"carpet\"}], \"choropleth\": [{\"colorbar\": {\"outlinewidth\": 0, \"ticks\": \"\"}, \"type\": \"choropleth\"}], \"contour\": [{\"colorbar\": {\"outlinewidth\": 0, \"ticks\": \"\"}, \"colorscale\": [[0.0, \"#0d0887\"], [0.1111111111111111, \"#46039f\"], [0.2222222222222222, \"#7201a8\"], [0.3333333333333333, \"#9c179e\"], [0.4444444444444444, \"#bd3786\"], [0.5555555555555556, \"#d8576b\"], [0.6666666666666666, \"#ed7953\"], [0.7777777777777778, \"#fb9f3a\"], [0.8888888888888888, \"#fdca26\"], [1.0, \"#f0f921\"]], \"type\": \"contour\"}], \"contourcarpet\": [{\"colorbar\": {\"outlinewidth\": 0, \"ticks\": \"\"}, \"type\": \"contourcarpet\"}], \"heatmap\": [{\"colorbar\": {\"outlinewidth\": 0, \"ticks\": \"\"}, \"colorscale\": [[0.0, \"#0d0887\"], [0.1111111111111111, \"#46039f\"], [0.2222222222222222, \"#7201a8\"], [0.3333333333333333, \"#9c179e\"], [0.4444444444444444, \"#bd3786\"], [0.5555555555555556, \"#d8576b\"], [0.6666666666666666, \"#ed7953\"], [0.7777777777777778, \"#fb9f3a\"], [0.8888888888888888, \"#fdca26\"], [1.0, \"#f0f921\"]], \"type\": \"heatmap\"}], \"heatmapgl\": [{\"colorbar\": {\"outlinewidth\": 0, \"ticks\": \"\"}, \"colorscale\": [[0.0, \"#0d0887\"], [0.1111111111111111, \"#46039f\"], [0.2222222222222222, \"#7201a8\"], [0.3333333333333333, \"#9c179e\"], [0.4444444444444444, \"#bd3786\"], [0.5555555555555556, \"#d8576b\"], [0.6666666666666666, \"#ed7953\"], [0.7777777777777778, \"#fb9f3a\"], [0.8888888888888888, \"#fdca26\"], [1.0, \"#f0f921\"]], \"type\": \"heatmapgl\"}], \"histogram\": [{\"marker\": {\"colorbar\": {\"outlinewidth\": 0, \"ticks\": \"\"}}, \"type\": \"histogram\"}], \"histogram2d\": [{\"colorbar\": {\"outlinewidth\": 0, \"ticks\": \"\"}, \"colorscale\": [[0.0, \"#0d0887\"], [0.1111111111111111, \"#46039f\"], [0.2222222222222222, \"#7201a8\"], [0.3333333333333333, \"#9c179e\"], [0.4444444444444444, \"#bd3786\"], [0.5555555555555556, \"#d8576b\"], [0.6666666666666666, \"#ed7953\"], [0.7777777777777778, \"#fb9f3a\"], [0.8888888888888888, \"#fdca26\"], [1.0, \"#f0f921\"]], \"type\": \"histogram2d\"}], \"histogram2dcontour\": [{\"colorbar\": {\"outlinewidth\": 0, \"ticks\": \"\"}, \"colorscale\": [[0.0, \"#0d0887\"], [0.1111111111111111, \"#46039f\"], [0.2222222222222222, \"#7201a8\"], [0.3333333333333333, \"#9c179e\"], [0.4444444444444444, \"#bd3786\"], [0.5555555555555556, \"#d8576b\"], [0.6666666666666666, \"#ed7953\"], [0.7777777777777778, \"#fb9f3a\"], [0.8888888888888888, \"#fdca26\"], [1.0, \"#f0f921\"]], \"type\": \"histogram2dcontour\"}], \"mesh3d\": [{\"colorbar\": {\"outlinewidth\": 0, \"ticks\": \"\"}, \"type\": \"mesh3d\"}], \"parcoords\": [{\"line\": {\"colorbar\": {\"outlinewidth\": 0, \"ticks\": \"\"}}, \"type\": \"parcoords\"}], \"pie\": [{\"automargin\": true, \"type\": \"pie\"}], \"scatter\": [{\"marker\": {\"colorbar\": {\"outlinewidth\": 0, \"ticks\": \"\"}}, \"type\": \"scatter\"}], \"scatter3d\": [{\"line\": {\"colorbar\": {\"outlinewidth\": 0, \"ticks\": \"\"}}, \"marker\": {\"colorbar\": {\"outlinewidth\": 0, \"ticks\": \"\"}}, \"type\": \"scatter3d\"}], \"scattercarpet\": [{\"marker\": {\"colorbar\": {\"outlinewidth\": 0, \"ticks\": \"\"}}, \"type\": \"scattercarpet\"}], \"scattergeo\": [{\"marker\": {\"colorbar\": {\"outlinewidth\": 0, \"ticks\": \"\"}}, \"type\": \"scattergeo\"}], \"scattergl\": [{\"marker\": {\"colorbar\": {\"outlinewidth\": 0, \"ticks\": \"\"}}, \"type\": \"scattergl\"}], \"scattermapbox\": [{\"marker\": {\"colorbar\": {\"outlinewidth\": 0, \"ticks\": \"\"}}, \"type\": \"scattermapbox\"}], \"scatterpolar\": [{\"marker\": {\"colorbar\": {\"outlinewidth\": 0, \"ticks\": \"\"}}, \"type\": \"scatterpolar\"}], \"scatterpolargl\": [{\"marker\": {\"colorbar\": {\"outlinewidth\": 0, \"ticks\": \"\"}}, \"type\": \"scatterpolargl\"}], \"scatterternary\": [{\"marker\": {\"colorbar\": {\"outlinewidth\": 0, \"ticks\": \"\"}}, \"type\": \"scatterternary\"}], \"surface\": [{\"colorbar\": {\"outlinewidth\": 0, \"ticks\": \"\"}, \"colorscale\": [[0.0, \"#0d0887\"], [0.1111111111111111, \"#46039f\"], [0.2222222222222222, \"#7201a8\"], [0.3333333333333333, \"#9c179e\"], [0.4444444444444444, \"#bd3786\"], [0.5555555555555556, \"#d8576b\"], [0.6666666666666666, \"#ed7953\"], [0.7777777777777778, \"#fb9f3a\"], [0.8888888888888888, \"#fdca26\"], [1.0, \"#f0f921\"]], \"type\": \"surface\"}], \"table\": [{\"cells\": {\"fill\": {\"color\": \"#EBF0F8\"}, \"line\": {\"color\": \"white\"}}, \"header\": {\"fill\": {\"color\": \"#C8D4E3\"}, \"line\": {\"color\": \"white\"}}, \"type\": \"table\"}]}, \"layout\": {\"annotationdefaults\": {\"arrowcolor\": \"#2a3f5f\", \"arrowhead\": 0, \"arrowwidth\": 1}, \"coloraxis\": {\"colorbar\": {\"outlinewidth\": 0, \"ticks\": \"\"}}, \"colorscale\": {\"diverging\": [[0, \"#8e0152\"], [0.1, \"#c51b7d\"], [0.2, \"#de77ae\"], [0.3, \"#f1b6da\"], [0.4, \"#fde0ef\"], [0.5, \"#f7f7f7\"], [0.6, \"#e6f5d0\"], [0.7, \"#b8e186\"], [0.8, \"#7fbc41\"], [0.9, \"#4d9221\"], [1, \"#276419\"]], \"sequential\": [[0.0, \"#0d0887\"], [0.1111111111111111, \"#46039f\"], [0.2222222222222222, \"#7201a8\"], [0.3333333333333333, \"#9c179e\"], [0.4444444444444444, \"#bd3786\"], [0.5555555555555556, \"#d8576b\"], [0.6666666666666666, \"#ed7953\"], [0.7777777777777778, \"#fb9f3a\"], [0.8888888888888888, \"#fdca26\"], [1.0, \"#f0f921\"]], \"sequentialminus\": [[0.0, \"#0d0887\"], [0.1111111111111111, \"#46039f\"], [0.2222222222222222, \"#7201a8\"], [0.3333333333333333, \"#9c179e\"], [0.4444444444444444, \"#bd3786\"], [0.5555555555555556, \"#d8576b\"], [0.6666666666666666, \"#ed7953\"], [0.7777777777777778, \"#fb9f3a\"], [0.8888888888888888, \"#fdca26\"], [1.0, \"#f0f921\"]]}, \"colorway\": [\"#636efa\", \"#EF553B\", \"#00cc96\", \"#ab63fa\", \"#FFA15A\", \"#19d3f3\", \"#FF6692\", \"#B6E880\", \"#FF97FF\", \"#FECB52\"], \"font\": {\"color\": \"#2a3f5f\"}, \"geo\": {\"bgcolor\": \"white\", \"lakecolor\": \"white\", \"landcolor\": \"#E5ECF6\", \"showlakes\": true, \"showland\": true, \"subunitcolor\": \"white\"}, \"hoverlabel\": {\"align\": \"left\"}, \"hovermode\": \"closest\", \"mapbox\": {\"style\": \"light\"}, \"paper_bgcolor\": \"white\", \"plot_bgcolor\": \"#E5ECF6\", \"polar\": {\"angularaxis\": {\"gridcolor\": \"white\", \"linecolor\": \"white\", \"ticks\": \"\"}, \"bgcolor\": \"#E5ECF6\", \"radialaxis\": {\"gridcolor\": \"white\", \"linecolor\": \"white\", \"ticks\": \"\"}}, \"scene\": {\"xaxis\": {\"backgroundcolor\": \"#E5ECF6\", \"gridcolor\": \"white\", \"gridwidth\": 2, \"linecolor\": \"white\", \"showbackground\": true, \"ticks\": \"\", \"zerolinecolor\": \"white\"}, \"yaxis\": {\"backgroundcolor\": \"#E5ECF6\", \"gridcolor\": \"white\", \"gridwidth\": 2, \"linecolor\": \"white\", \"showbackground\": true, \"ticks\": \"\", \"zerolinecolor\": \"white\"}, \"zaxis\": {\"backgroundcolor\": \"#E5ECF6\", \"gridcolor\": \"white\", \"gridwidth\": 2, \"linecolor\": \"white\", \"showbackground\": true, \"ticks\": \"\", \"zerolinecolor\": \"white\"}}, \"shapedefaults\": {\"line\": {\"color\": \"#2a3f5f\"}}, \"ternary\": {\"aaxis\": {\"gridcolor\": \"white\", \"linecolor\": \"white\", \"ticks\": \"\"}, \"baxis\": {\"gridcolor\": \"white\", \"linecolor\": \"white\", \"ticks\": \"\"}, \"bgcolor\": \"#E5ECF6\", \"caxis\": {\"gridcolor\": \"white\", \"linecolor\": \"white\", \"ticks\": \"\"}}, \"title\": {\"x\": 0.05}, \"xaxis\": {\"automargin\": true, \"gridcolor\": \"white\", \"linecolor\": \"white\", \"ticks\": \"\", \"title\": {\"standoff\": 15}, \"zerolinecolor\": \"white\", \"zerolinewidth\": 2}, \"yaxis\": {\"automargin\": true, \"gridcolor\": \"white\", \"linecolor\": \"white\", \"ticks\": \"\", \"title\": {\"standoff\": 15}, \"zerolinecolor\": \"white\", \"zerolinewidth\": 2}}}, \"xaxis\": {\"anchor\": \"y\", \"domain\": [0.0, 0.4]}, \"xaxis2\": {\"anchor\": \"y2\", \"domain\": [0.6000000000000001, 1.0]}, \"yaxis\": {\"anchor\": \"x\", \"domain\": [0.0, 1.0]}, \"yaxis2\": {\"anchor\": \"x2\", \"domain\": [0.0, 1.0]}},\n",
       "                        {\"responsive\": true}\n",
       "                    ).then(function(){\n",
       "                            \n",
       "var gd = document.getElementById('9d96bccc-feca-43c0-8a01-20bce7e8c35e');\n",
       "var x = new MutationObserver(function (mutations, observer) {{\n",
       "        var display = window.getComputedStyle(gd).display;\n",
       "        if (!display || display === 'none') {{\n",
       "            console.log([gd, 'removed!']);\n",
       "            Plotly.purge(gd);\n",
       "            observer.disconnect();\n",
       "        }}\n",
       "}});\n",
       "\n",
       "// Listen for the removal of the full notebook cells\n",
       "var notebookContainer = gd.closest('#notebook-container');\n",
       "if (notebookContainer) {{\n",
       "    x.observe(notebookContainer, {childList: true});\n",
       "}}\n",
       "\n",
       "// Listen for the clearing of the current output cell\n",
       "var outputEl = gd.closest('.output');\n",
       "if (outputEl) {{\n",
       "    x.observe(outputEl, {childList: true});\n",
       "}}\n",
       "\n",
       "                        })\n",
       "                };\n",
       "                });\n",
       "            </script>\n",
       "        </div>"
      ]
     },
     "metadata": {},
     "output_type": "display_data"
    }
   ],
   "source": [
    "temp = latest[latest['Deaths']>0].sort_values('Deaths')\n",
    "fig_d = px.bar(temp, y=\"State/UT\", x=\"Deaths\", orientation='h', title='Deaths', color_discrete_sequence = ['#ff2e63'], text='Deaths', height=len(temp)*40)\n",
    "\n",
    "temp = latest[latest['Cured']>0].sort_values('Cured')\n",
    "fig_r = px.bar(temp, y=\"State/UT\", x=\"Cured\", orientation='h', title='Cured', color_discrete_sequence = ['#2c786c'], text='Cured', height=len(temp)*40)\n",
    "\n",
    "fig = make_subplots(rows=1, cols=2, shared_xaxes=False, horizontal_spacing=0.2, subplot_titles=(\"Deaths\", \"Recovered\"))\n",
    "fig.add_trace(fig_d['data'][0], row=1, col=1)\n",
    "fig.add_trace(fig_r['data'][0], row=1, col=2)\n",
    "fig.update_layout(height=800)\n",
    "fig.show()"
   ]
  },
  {
   "cell_type": "code",
   "execution_count": 19,
   "metadata": {},
   "outputs": [
    {
     "data": {
      "application/vnd.plotly.v1+json": {
       "config": {
        "plotlyServerURL": "https://plot.ly"
       },
       "data": [
        {
         "hovertemplate": "State/UT=%{text}<br>Confirmed=%{marker.size}<br>Deaths=%{y}<extra></extra>",
         "legendgroup": "Andhra Pradesh",
         "marker": {
          "color": "#636efa",
          "size": [
           132
          ],
          "sizemode": "area",
          "sizeref": 0.8375,
          "symbol": "circle"
         },
         "mode": "markers+text",
         "name": "Andhra Pradesh",
         "showlegend": true,
         "text": [
          "Andhra Pradesh"
         ],
         "type": "scatter",
         "x": [
          132
         ],
         "xaxis": "x",
         "y": [
          1
         ],
         "yaxis": "y"
        },
        {
         "hovertemplate": "State/UT=%{text}<br>Confirmed=%{marker.size}<br>Deaths=%{y}<extra></extra>",
         "legendgroup": "Assam",
         "marker": {
          "color": "#EF553B",
          "size": [
           16
          ],
          "sizemode": "area",
          "sizeref": 0.8375,
          "symbol": "circle"
         },
         "mode": "markers+text",
         "name": "Assam",
         "showlegend": true,
         "text": [
          "Assam"
         ],
         "type": "scatter",
         "x": [
          16
         ],
         "xaxis": "x",
         "y": [
          0
         ],
         "yaxis": "y"
        },
        {
         "hovertemplate": "State/UT=%{text}<br>Confirmed=%{marker.size}<br>Deaths=%{y}<extra></extra>",
         "legendgroup": "Bihar",
         "marker": {
          "color": "#00cc96",
          "size": [
           24
          ],
          "sizemode": "area",
          "sizeref": 0.8375,
          "symbol": "circle"
         },
         "mode": "markers+text",
         "name": "Bihar",
         "showlegend": true,
         "text": [
          "Bihar"
         ],
         "type": "scatter",
         "x": [
          24
         ],
         "xaxis": "x",
         "y": [
          1
         ],
         "yaxis": "y"
        },
        {
         "hovertemplate": "State/UT=%{text}<br>Confirmed=%{marker.size}<br>Deaths=%{y}<extra></extra>",
         "legendgroup": "Chandigarh",
         "marker": {
          "color": "#ab63fa",
          "size": [
           18
          ],
          "sizemode": "area",
          "sizeref": 0.8375,
          "symbol": "circle"
         },
         "mode": "markers+text",
         "name": "Chandigarh",
         "showlegend": true,
         "text": [
          "Chandigarh"
         ],
         "type": "scatter",
         "x": [
          18
         ],
         "xaxis": "x",
         "y": [
          0
         ],
         "yaxis": "y"
        },
        {
         "hovertemplate": "State/UT=%{text}<br>Confirmed=%{marker.size}<br>Deaths=%{y}<extra></extra>",
         "legendgroup": "Delhi",
         "marker": {
          "color": "#FFA15A",
          "size": [
           219
          ],
          "sizemode": "area",
          "sizeref": 0.8375,
          "symbol": "circle"
         },
         "mode": "markers+text",
         "name": "Delhi",
         "showlegend": true,
         "text": [
          "Delhi"
         ],
         "type": "scatter",
         "x": [
          219
         ],
         "xaxis": "x",
         "y": [
          4
         ],
         "yaxis": "y"
        },
        {
         "hovertemplate": "State/UT=%{text}<br>Confirmed=%{marker.size}<br>Deaths=%{y}<extra></extra>",
         "legendgroup": "Gujarat",
         "marker": {
          "color": "#19d3f3",
          "size": [
           87
          ],
          "sizemode": "area",
          "sizeref": 0.8375,
          "symbol": "circle"
         },
         "mode": "markers+text",
         "name": "Gujarat",
         "showlegend": true,
         "text": [
          "Gujarat"
         ],
         "type": "scatter",
         "x": [
          87
         ],
         "xaxis": "x",
         "y": [
          7
         ],
         "yaxis": "y"
        },
        {
         "hovertemplate": "State/UT=%{text}<br>Confirmed=%{marker.size}<br>Deaths=%{y}<extra></extra>",
         "legendgroup": "Haryana",
         "marker": {
          "color": "#FF6692",
          "size": [
           43
          ],
          "sizemode": "area",
          "sizeref": 0.8375,
          "symbol": "circle"
         },
         "mode": "markers+text",
         "name": "Haryana",
         "showlegend": true,
         "text": [
          "Haryana"
         ],
         "type": "scatter",
         "x": [
          43
         ],
         "xaxis": "x",
         "y": [
          0
         ],
         "yaxis": "y"
        },
        {
         "hovertemplate": "State/UT=%{text}<br>Confirmed=%{marker.size}<br>Deaths=%{y}<extra></extra>",
         "legendgroup": "Jammu and Kashmir",
         "marker": {
          "color": "#B6E880",
          "size": [
           70
          ],
          "sizemode": "area",
          "sizeref": 0.8375,
          "symbol": "circle"
         },
         "mode": "markers+text",
         "name": "Jammu and Kashmir",
         "showlegend": true,
         "text": [
          "Jammu and Kashmir"
         ],
         "type": "scatter",
         "x": [
          70
         ],
         "xaxis": "x",
         "y": [
          2
         ],
         "yaxis": "y"
        },
        {
         "hovertemplate": "State/UT=%{text}<br>Confirmed=%{marker.size}<br>Deaths=%{y}<extra></extra>",
         "legendgroup": "Karnataka",
         "marker": {
          "color": "#FF97FF",
          "size": [
           124
          ],
          "sizemode": "area",
          "sizeref": 0.8375,
          "symbol": "circle"
         },
         "mode": "markers+text",
         "name": "Karnataka",
         "showlegend": true,
         "text": [
          "Karnataka"
         ],
         "type": "scatter",
         "x": [
          124
         ],
         "xaxis": "x",
         "y": [
          3
         ],
         "yaxis": "y"
        },
        {
         "hovertemplate": "State/UT=%{text}<br>Confirmed=%{marker.size}<br>Deaths=%{y}<extra></extra>",
         "legendgroup": "Kerala",
         "marker": {
          "color": "#FECB52",
          "size": [
           286
          ],
          "sizemode": "area",
          "sizeref": 0.8375,
          "symbol": "circle"
         },
         "mode": "markers+text",
         "name": "Kerala",
         "showlegend": true,
         "text": [
          "Kerala"
         ],
         "type": "scatter",
         "x": [
          286
         ],
         "xaxis": "x",
         "y": [
          2
         ],
         "yaxis": "y"
        },
        {
         "hovertemplate": "State/UT=%{text}<br>Confirmed=%{marker.size}<br>Deaths=%{y}<extra></extra>",
         "legendgroup": "Ladakh",
         "marker": {
          "color": "#636efa",
          "size": [
           14
          ],
          "sizemode": "area",
          "sizeref": 0.8375,
          "symbol": "circle"
         },
         "mode": "markers+text",
         "name": "Ladakh",
         "showlegend": true,
         "text": [
          "Ladakh"
         ],
         "type": "scatter",
         "x": [
          14
         ],
         "xaxis": "x",
         "y": [
          0
         ],
         "yaxis": "y"
        },
        {
         "hovertemplate": "State/UT=%{text}<br>Confirmed=%{marker.size}<br>Deaths=%{y}<extra></extra>",
         "legendgroup": "Madhya Pradesh",
         "marker": {
          "color": "#EF553B",
          "size": [
           99
          ],
          "sizemode": "area",
          "sizeref": 0.8375,
          "symbol": "circle"
         },
         "mode": "markers+text",
         "name": "Madhya Pradesh",
         "showlegend": true,
         "text": [
          "Madhya Pradesh"
         ],
         "type": "scatter",
         "x": [
          99
         ],
         "xaxis": "x",
         "y": [
          6
         ],
         "yaxis": "y"
        },
        {
         "hovertemplate": "State/UT=%{text}<br>Confirmed=%{marker.size}<br>Deaths=%{y}<extra></extra>",
         "legendgroup": "Maharashtra",
         "marker": {
          "color": "#00cc96",
          "size": [
           335
          ],
          "sizemode": "area",
          "sizeref": 0.8375,
          "symbol": "circle"
         },
         "mode": "markers+text",
         "name": "Maharashtra",
         "showlegend": true,
         "text": [
          "Maharashtra"
         ],
         "type": "scatter",
         "x": [
          335
         ],
         "xaxis": "x",
         "y": [
          16
         ],
         "yaxis": "y"
        },
        {
         "hovertemplate": "State/UT=%{text}<br>Confirmed=%{marker.size}<br>Deaths=%{y}<extra></extra>",
         "legendgroup": "Punjab",
         "marker": {
          "color": "#ab63fa",
          "size": [
           46
          ],
          "sizemode": "area",
          "sizeref": 0.8375,
          "symbol": "circle"
         },
         "mode": "markers+text",
         "name": "Punjab",
         "showlegend": true,
         "text": [
          "Punjab"
         ],
         "type": "scatter",
         "x": [
          46
         ],
         "xaxis": "x",
         "y": [
          4
         ],
         "yaxis": "y"
        },
        {
         "hovertemplate": "State/UT=%{text}<br>Confirmed=%{marker.size}<br>Deaths=%{y}<extra></extra>",
         "legendgroup": "Rajasthan",
         "marker": {
          "color": "#FFA15A",
          "size": [
           133
          ],
          "sizemode": "area",
          "sizeref": 0.8375,
          "symbol": "circle"
         },
         "mode": "markers+text",
         "name": "Rajasthan",
         "showlegend": true,
         "text": [
          "Rajasthan"
         ],
         "type": "scatter",
         "x": [
          133
         ],
         "xaxis": "x",
         "y": [
          0
         ],
         "yaxis": "y"
        },
        {
         "hovertemplate": "State/UT=%{text}<br>Confirmed=%{marker.size}<br>Deaths=%{y}<extra></extra>",
         "legendgroup": "Tamil Nadu",
         "marker": {
          "color": "#19d3f3",
          "size": [
           309
          ],
          "sizemode": "area",
          "sizeref": 0.8375,
          "symbol": "circle"
         },
         "mode": "markers+text",
         "name": "Tamil Nadu",
         "showlegend": true,
         "text": [
          "Tamil Nadu"
         ],
         "type": "scatter",
         "x": [
          309
         ],
         "xaxis": "x",
         "y": [
          1
         ],
         "yaxis": "y"
        },
        {
         "hovertemplate": "State/UT=%{text}<br>Confirmed=%{marker.size}<br>Deaths=%{y}<extra></extra>",
         "legendgroup": "Telengana",
         "marker": {
          "color": "#FF6692",
          "size": [
           107
          ],
          "sizemode": "area",
          "sizeref": 0.8375,
          "symbol": "circle"
         },
         "mode": "markers+text",
         "name": "Telengana",
         "showlegend": true,
         "text": [
          "Telengana"
         ],
         "type": "scatter",
         "x": [
          107
         ],
         "xaxis": "x",
         "y": [
          3
         ],
         "yaxis": "y"
        },
        {
         "hovertemplate": "State/UT=%{text}<br>Confirmed=%{marker.size}<br>Deaths=%{y}<extra></extra>",
         "legendgroup": "Uttar Pradesh",
         "marker": {
          "color": "#B6E880",
          "size": [
           113
          ],
          "sizemode": "area",
          "sizeref": 0.8375,
          "symbol": "circle"
         },
         "mode": "markers+text",
         "name": "Uttar Pradesh",
         "showlegend": true,
         "text": [
          "Uttar Pradesh"
         ],
         "type": "scatter",
         "x": [
          113
         ],
         "xaxis": "x",
         "y": [
          2
         ],
         "yaxis": "y"
        },
        {
         "hovertemplate": "State/UT=%{text}<br>Confirmed=%{marker.size}<br>Deaths=%{y}<extra></extra>",
         "legendgroup": "West Bengal",
         "marker": {
          "color": "#FF97FF",
          "size": [
           53
          ],
          "sizemode": "area",
          "sizeref": 0.8375,
          "symbol": "circle"
         },
         "mode": "markers+text",
         "name": "West Bengal",
         "showlegend": true,
         "text": [
          "West Bengal"
         ],
         "type": "scatter",
         "x": [
          53
         ],
         "xaxis": "x",
         "y": [
          3
         ],
         "yaxis": "y"
        }
       ],
       "layout": {
        "legend": {
         "itemsizing": "constant",
         "title": {
          "text": "State/UT"
         },
         "tracegroupgap": 0
        },
        "template": {
         "data": {
          "bar": [
           {
            "error_x": {
             "color": "#2a3f5f"
            },
            "error_y": {
             "color": "#2a3f5f"
            },
            "marker": {
             "line": {
              "color": "#E5ECF6",
              "width": 0.5
             }
            },
            "type": "bar"
           }
          ],
          "barpolar": [
           {
            "marker": {
             "line": {
              "color": "#E5ECF6",
              "width": 0.5
             }
            },
            "type": "barpolar"
           }
          ],
          "carpet": [
           {
            "aaxis": {
             "endlinecolor": "#2a3f5f",
             "gridcolor": "white",
             "linecolor": "white",
             "minorgridcolor": "white",
             "startlinecolor": "#2a3f5f"
            },
            "baxis": {
             "endlinecolor": "#2a3f5f",
             "gridcolor": "white",
             "linecolor": "white",
             "minorgridcolor": "white",
             "startlinecolor": "#2a3f5f"
            },
            "type": "carpet"
           }
          ],
          "choropleth": [
           {
            "colorbar": {
             "outlinewidth": 0,
             "ticks": ""
            },
            "type": "choropleth"
           }
          ],
          "contour": [
           {
            "colorbar": {
             "outlinewidth": 0,
             "ticks": ""
            },
            "colorscale": [
             [
              0,
              "#0d0887"
             ],
             [
              0.1111111111111111,
              "#46039f"
             ],
             [
              0.2222222222222222,
              "#7201a8"
             ],
             [
              0.3333333333333333,
              "#9c179e"
             ],
             [
              0.4444444444444444,
              "#bd3786"
             ],
             [
              0.5555555555555556,
              "#d8576b"
             ],
             [
              0.6666666666666666,
              "#ed7953"
             ],
             [
              0.7777777777777778,
              "#fb9f3a"
             ],
             [
              0.8888888888888888,
              "#fdca26"
             ],
             [
              1,
              "#f0f921"
             ]
            ],
            "type": "contour"
           }
          ],
          "contourcarpet": [
           {
            "colorbar": {
             "outlinewidth": 0,
             "ticks": ""
            },
            "type": "contourcarpet"
           }
          ],
          "heatmap": [
           {
            "colorbar": {
             "outlinewidth": 0,
             "ticks": ""
            },
            "colorscale": [
             [
              0,
              "#0d0887"
             ],
             [
              0.1111111111111111,
              "#46039f"
             ],
             [
              0.2222222222222222,
              "#7201a8"
             ],
             [
              0.3333333333333333,
              "#9c179e"
             ],
             [
              0.4444444444444444,
              "#bd3786"
             ],
             [
              0.5555555555555556,
              "#d8576b"
             ],
             [
              0.6666666666666666,
              "#ed7953"
             ],
             [
              0.7777777777777778,
              "#fb9f3a"
             ],
             [
              0.8888888888888888,
              "#fdca26"
             ],
             [
              1,
              "#f0f921"
             ]
            ],
            "type": "heatmap"
           }
          ],
          "heatmapgl": [
           {
            "colorbar": {
             "outlinewidth": 0,
             "ticks": ""
            },
            "colorscale": [
             [
              0,
              "#0d0887"
             ],
             [
              0.1111111111111111,
              "#46039f"
             ],
             [
              0.2222222222222222,
              "#7201a8"
             ],
             [
              0.3333333333333333,
              "#9c179e"
             ],
             [
              0.4444444444444444,
              "#bd3786"
             ],
             [
              0.5555555555555556,
              "#d8576b"
             ],
             [
              0.6666666666666666,
              "#ed7953"
             ],
             [
              0.7777777777777778,
              "#fb9f3a"
             ],
             [
              0.8888888888888888,
              "#fdca26"
             ],
             [
              1,
              "#f0f921"
             ]
            ],
            "type": "heatmapgl"
           }
          ],
          "histogram": [
           {
            "marker": {
             "colorbar": {
              "outlinewidth": 0,
              "ticks": ""
             }
            },
            "type": "histogram"
           }
          ],
          "histogram2d": [
           {
            "colorbar": {
             "outlinewidth": 0,
             "ticks": ""
            },
            "colorscale": [
             [
              0,
              "#0d0887"
             ],
             [
              0.1111111111111111,
              "#46039f"
             ],
             [
              0.2222222222222222,
              "#7201a8"
             ],
             [
              0.3333333333333333,
              "#9c179e"
             ],
             [
              0.4444444444444444,
              "#bd3786"
             ],
             [
              0.5555555555555556,
              "#d8576b"
             ],
             [
              0.6666666666666666,
              "#ed7953"
             ],
             [
              0.7777777777777778,
              "#fb9f3a"
             ],
             [
              0.8888888888888888,
              "#fdca26"
             ],
             [
              1,
              "#f0f921"
             ]
            ],
            "type": "histogram2d"
           }
          ],
          "histogram2dcontour": [
           {
            "colorbar": {
             "outlinewidth": 0,
             "ticks": ""
            },
            "colorscale": [
             [
              0,
              "#0d0887"
             ],
             [
              0.1111111111111111,
              "#46039f"
             ],
             [
              0.2222222222222222,
              "#7201a8"
             ],
             [
              0.3333333333333333,
              "#9c179e"
             ],
             [
              0.4444444444444444,
              "#bd3786"
             ],
             [
              0.5555555555555556,
              "#d8576b"
             ],
             [
              0.6666666666666666,
              "#ed7953"
             ],
             [
              0.7777777777777778,
              "#fb9f3a"
             ],
             [
              0.8888888888888888,
              "#fdca26"
             ],
             [
              1,
              "#f0f921"
             ]
            ],
            "type": "histogram2dcontour"
           }
          ],
          "mesh3d": [
           {
            "colorbar": {
             "outlinewidth": 0,
             "ticks": ""
            },
            "type": "mesh3d"
           }
          ],
          "parcoords": [
           {
            "line": {
             "colorbar": {
              "outlinewidth": 0,
              "ticks": ""
             }
            },
            "type": "parcoords"
           }
          ],
          "pie": [
           {
            "automargin": true,
            "type": "pie"
           }
          ],
          "scatter": [
           {
            "marker": {
             "colorbar": {
              "outlinewidth": 0,
              "ticks": ""
             }
            },
            "type": "scatter"
           }
          ],
          "scatter3d": [
           {
            "line": {
             "colorbar": {
              "outlinewidth": 0,
              "ticks": ""
             }
            },
            "marker": {
             "colorbar": {
              "outlinewidth": 0,
              "ticks": ""
             }
            },
            "type": "scatter3d"
           }
          ],
          "scattercarpet": [
           {
            "marker": {
             "colorbar": {
              "outlinewidth": 0,
              "ticks": ""
             }
            },
            "type": "scattercarpet"
           }
          ],
          "scattergeo": [
           {
            "marker": {
             "colorbar": {
              "outlinewidth": 0,
              "ticks": ""
             }
            },
            "type": "scattergeo"
           }
          ],
          "scattergl": [
           {
            "marker": {
             "colorbar": {
              "outlinewidth": 0,
              "ticks": ""
             }
            },
            "type": "scattergl"
           }
          ],
          "scattermapbox": [
           {
            "marker": {
             "colorbar": {
              "outlinewidth": 0,
              "ticks": ""
             }
            },
            "type": "scattermapbox"
           }
          ],
          "scatterpolar": [
           {
            "marker": {
             "colorbar": {
              "outlinewidth": 0,
              "ticks": ""
             }
            },
            "type": "scatterpolar"
           }
          ],
          "scatterpolargl": [
           {
            "marker": {
             "colorbar": {
              "outlinewidth": 0,
              "ticks": ""
             }
            },
            "type": "scatterpolargl"
           }
          ],
          "scatterternary": [
           {
            "marker": {
             "colorbar": {
              "outlinewidth": 0,
              "ticks": ""
             }
            },
            "type": "scatterternary"
           }
          ],
          "surface": [
           {
            "colorbar": {
             "outlinewidth": 0,
             "ticks": ""
            },
            "colorscale": [
             [
              0,
              "#0d0887"
             ],
             [
              0.1111111111111111,
              "#46039f"
             ],
             [
              0.2222222222222222,
              "#7201a8"
             ],
             [
              0.3333333333333333,
              "#9c179e"
             ],
             [
              0.4444444444444444,
              "#bd3786"
             ],
             [
              0.5555555555555556,
              "#d8576b"
             ],
             [
              0.6666666666666666,
              "#ed7953"
             ],
             [
              0.7777777777777778,
              "#fb9f3a"
             ],
             [
              0.8888888888888888,
              "#fdca26"
             ],
             [
              1,
              "#f0f921"
             ]
            ],
            "type": "surface"
           }
          ],
          "table": [
           {
            "cells": {
             "fill": {
              "color": "#EBF0F8"
             },
             "line": {
              "color": "white"
             }
            },
            "header": {
             "fill": {
              "color": "#C8D4E3"
             },
             "line": {
              "color": "white"
             }
            },
            "type": "table"
           }
          ]
         },
         "layout": {
          "annotationdefaults": {
           "arrowcolor": "#2a3f5f",
           "arrowhead": 0,
           "arrowwidth": 1
          },
          "coloraxis": {
           "colorbar": {
            "outlinewidth": 0,
            "ticks": ""
           }
          },
          "colorscale": {
           "diverging": [
            [
             0,
             "#8e0152"
            ],
            [
             0.1,
             "#c51b7d"
            ],
            [
             0.2,
             "#de77ae"
            ],
            [
             0.3,
             "#f1b6da"
            ],
            [
             0.4,
             "#fde0ef"
            ],
            [
             0.5,
             "#f7f7f7"
            ],
            [
             0.6,
             "#e6f5d0"
            ],
            [
             0.7,
             "#b8e186"
            ],
            [
             0.8,
             "#7fbc41"
            ],
            [
             0.9,
             "#4d9221"
            ],
            [
             1,
             "#276419"
            ]
           ],
           "sequential": [
            [
             0,
             "#0d0887"
            ],
            [
             0.1111111111111111,
             "#46039f"
            ],
            [
             0.2222222222222222,
             "#7201a8"
            ],
            [
             0.3333333333333333,
             "#9c179e"
            ],
            [
             0.4444444444444444,
             "#bd3786"
            ],
            [
             0.5555555555555556,
             "#d8576b"
            ],
            [
             0.6666666666666666,
             "#ed7953"
            ],
            [
             0.7777777777777778,
             "#fb9f3a"
            ],
            [
             0.8888888888888888,
             "#fdca26"
            ],
            [
             1,
             "#f0f921"
            ]
           ],
           "sequentialminus": [
            [
             0,
             "#0d0887"
            ],
            [
             0.1111111111111111,
             "#46039f"
            ],
            [
             0.2222222222222222,
             "#7201a8"
            ],
            [
             0.3333333333333333,
             "#9c179e"
            ],
            [
             0.4444444444444444,
             "#bd3786"
            ],
            [
             0.5555555555555556,
             "#d8576b"
            ],
            [
             0.6666666666666666,
             "#ed7953"
            ],
            [
             0.7777777777777778,
             "#fb9f3a"
            ],
            [
             0.8888888888888888,
             "#fdca26"
            ],
            [
             1,
             "#f0f921"
            ]
           ]
          },
          "colorway": [
           "#636efa",
           "#EF553B",
           "#00cc96",
           "#ab63fa",
           "#FFA15A",
           "#19d3f3",
           "#FF6692",
           "#B6E880",
           "#FF97FF",
           "#FECB52"
          ],
          "font": {
           "color": "#2a3f5f"
          },
          "geo": {
           "bgcolor": "white",
           "lakecolor": "white",
           "landcolor": "#E5ECF6",
           "showlakes": true,
           "showland": true,
           "subunitcolor": "white"
          },
          "hoverlabel": {
           "align": "left"
          },
          "hovermode": "closest",
          "mapbox": {
           "style": "light"
          },
          "paper_bgcolor": "white",
          "plot_bgcolor": "#E5ECF6",
          "polar": {
           "angularaxis": {
            "gridcolor": "white",
            "linecolor": "white",
            "ticks": ""
           },
           "bgcolor": "#E5ECF6",
           "radialaxis": {
            "gridcolor": "white",
            "linecolor": "white",
            "ticks": ""
           }
          },
          "scene": {
           "xaxis": {
            "backgroundcolor": "#E5ECF6",
            "gridcolor": "white",
            "gridwidth": 2,
            "linecolor": "white",
            "showbackground": true,
            "ticks": "",
            "zerolinecolor": "white"
           },
           "yaxis": {
            "backgroundcolor": "#E5ECF6",
            "gridcolor": "white",
            "gridwidth": 2,
            "linecolor": "white",
            "showbackground": true,
            "ticks": "",
            "zerolinecolor": "white"
           },
           "zaxis": {
            "backgroundcolor": "#E5ECF6",
            "gridcolor": "white",
            "gridwidth": 2,
            "linecolor": "white",
            "showbackground": true,
            "ticks": "",
            "zerolinecolor": "white"
           }
          },
          "shapedefaults": {
           "line": {
            "color": "#2a3f5f"
           }
          },
          "ternary": {
           "aaxis": {
            "gridcolor": "white",
            "linecolor": "white",
            "ticks": ""
           },
           "baxis": {
            "gridcolor": "white",
            "linecolor": "white",
            "ticks": ""
           },
           "bgcolor": "#E5ECF6",
           "caxis": {
            "gridcolor": "white",
            "linecolor": "white",
            "ticks": ""
           }
          },
          "title": {
           "x": 0.05
          },
          "xaxis": {
           "automargin": true,
           "gridcolor": "white",
           "linecolor": "white",
           "ticks": "",
           "title": {
            "standoff": 15
           },
           "zerolinecolor": "white",
           "zerolinewidth": 2
          },
          "yaxis": {
           "automargin": true,
           "gridcolor": "white",
           "linecolor": "white",
           "ticks": "",
           "title": {
            "standoff": 15
           },
           "zerolinecolor": "white",
           "zerolinewidth": 2
          }
         }
        },
        "title": {
         "text": "Confirmed vs Death"
        },
        "xaxis": {
         "anchor": "y",
         "domain": [
          0,
          1
         ],
         "title": {
          "text": "Confirmed"
         },
         "type": "log"
        },
        "yaxis": {
         "anchor": "x",
         "domain": [
          0,
          1
         ],
         "title": {
          "text": "Deaths"
         }
        }
       }
      },
      "text/html": [
       "<div>\n",
       "        \n",
       "        \n",
       "            <div id=\"2fd9d136-d363-4aab-9c2a-919ad8742529\" class=\"plotly-graph-div\" style=\"height:525px; width:100%;\"></div>\n",
       "            <script type=\"text/javascript\">\n",
       "                require([\"plotly\"], function(Plotly) {\n",
       "                    window.PLOTLYENV=window.PLOTLYENV || {};\n",
       "                    \n",
       "                if (document.getElementById(\"2fd9d136-d363-4aab-9c2a-919ad8742529\")) {\n",
       "                    Plotly.newPlot(\n",
       "                        '2fd9d136-d363-4aab-9c2a-919ad8742529',\n",
       "                        [{\"hovertemplate\": \"State/UT=%{text}<br>Confirmed=%{marker.size}<br>Deaths=%{y}<extra></extra>\", \"legendgroup\": \"Andhra Pradesh\", \"marker\": {\"color\": \"#636efa\", \"size\": [132], \"sizemode\": \"area\", \"sizeref\": 0.8375, \"symbol\": \"circle\"}, \"mode\": \"markers+text\", \"name\": \"Andhra Pradesh\", \"showlegend\": true, \"text\": [\"Andhra Pradesh\"], \"type\": \"scatter\", \"x\": [132], \"xaxis\": \"x\", \"y\": [1], \"yaxis\": \"y\"}, {\"hovertemplate\": \"State/UT=%{text}<br>Confirmed=%{marker.size}<br>Deaths=%{y}<extra></extra>\", \"legendgroup\": \"Assam\", \"marker\": {\"color\": \"#EF553B\", \"size\": [16], \"sizemode\": \"area\", \"sizeref\": 0.8375, \"symbol\": \"circle\"}, \"mode\": \"markers+text\", \"name\": \"Assam\", \"showlegend\": true, \"text\": [\"Assam\"], \"type\": \"scatter\", \"x\": [16], \"xaxis\": \"x\", \"y\": [0], \"yaxis\": \"y\"}, {\"hovertemplate\": \"State/UT=%{text}<br>Confirmed=%{marker.size}<br>Deaths=%{y}<extra></extra>\", \"legendgroup\": \"Bihar\", \"marker\": {\"color\": \"#00cc96\", \"size\": [24], \"sizemode\": \"area\", \"sizeref\": 0.8375, \"symbol\": \"circle\"}, \"mode\": \"markers+text\", \"name\": \"Bihar\", \"showlegend\": true, \"text\": [\"Bihar\"], \"type\": \"scatter\", \"x\": [24], \"xaxis\": \"x\", \"y\": [1], \"yaxis\": \"y\"}, {\"hovertemplate\": \"State/UT=%{text}<br>Confirmed=%{marker.size}<br>Deaths=%{y}<extra></extra>\", \"legendgroup\": \"Chandigarh\", \"marker\": {\"color\": \"#ab63fa\", \"size\": [18], \"sizemode\": \"area\", \"sizeref\": 0.8375, \"symbol\": \"circle\"}, \"mode\": \"markers+text\", \"name\": \"Chandigarh\", \"showlegend\": true, \"text\": [\"Chandigarh\"], \"type\": \"scatter\", \"x\": [18], \"xaxis\": \"x\", \"y\": [0], \"yaxis\": \"y\"}, {\"hovertemplate\": \"State/UT=%{text}<br>Confirmed=%{marker.size}<br>Deaths=%{y}<extra></extra>\", \"legendgroup\": \"Delhi\", \"marker\": {\"color\": \"#FFA15A\", \"size\": [219], \"sizemode\": \"area\", \"sizeref\": 0.8375, \"symbol\": \"circle\"}, \"mode\": \"markers+text\", \"name\": \"Delhi\", \"showlegend\": true, \"text\": [\"Delhi\"], \"type\": \"scatter\", \"x\": [219], \"xaxis\": \"x\", \"y\": [4], \"yaxis\": \"y\"}, {\"hovertemplate\": \"State/UT=%{text}<br>Confirmed=%{marker.size}<br>Deaths=%{y}<extra></extra>\", \"legendgroup\": \"Gujarat\", \"marker\": {\"color\": \"#19d3f3\", \"size\": [87], \"sizemode\": \"area\", \"sizeref\": 0.8375, \"symbol\": \"circle\"}, \"mode\": \"markers+text\", \"name\": \"Gujarat\", \"showlegend\": true, \"text\": [\"Gujarat\"], \"type\": \"scatter\", \"x\": [87], \"xaxis\": \"x\", \"y\": [7], \"yaxis\": \"y\"}, {\"hovertemplate\": \"State/UT=%{text}<br>Confirmed=%{marker.size}<br>Deaths=%{y}<extra></extra>\", \"legendgroup\": \"Haryana\", \"marker\": {\"color\": \"#FF6692\", \"size\": [43], \"sizemode\": \"area\", \"sizeref\": 0.8375, \"symbol\": \"circle\"}, \"mode\": \"markers+text\", \"name\": \"Haryana\", \"showlegend\": true, \"text\": [\"Haryana\"], \"type\": \"scatter\", \"x\": [43], \"xaxis\": \"x\", \"y\": [0], \"yaxis\": \"y\"}, {\"hovertemplate\": \"State/UT=%{text}<br>Confirmed=%{marker.size}<br>Deaths=%{y}<extra></extra>\", \"legendgroup\": \"Jammu and Kashmir\", \"marker\": {\"color\": \"#B6E880\", \"size\": [70], \"sizemode\": \"area\", \"sizeref\": 0.8375, \"symbol\": \"circle\"}, \"mode\": \"markers+text\", \"name\": \"Jammu and Kashmir\", \"showlegend\": true, \"text\": [\"Jammu and Kashmir\"], \"type\": \"scatter\", \"x\": [70], \"xaxis\": \"x\", \"y\": [2], \"yaxis\": \"y\"}, {\"hovertemplate\": \"State/UT=%{text}<br>Confirmed=%{marker.size}<br>Deaths=%{y}<extra></extra>\", \"legendgroup\": \"Karnataka\", \"marker\": {\"color\": \"#FF97FF\", \"size\": [124], \"sizemode\": \"area\", \"sizeref\": 0.8375, \"symbol\": \"circle\"}, \"mode\": \"markers+text\", \"name\": \"Karnataka\", \"showlegend\": true, \"text\": [\"Karnataka\"], \"type\": \"scatter\", \"x\": [124], \"xaxis\": \"x\", \"y\": [3], \"yaxis\": \"y\"}, {\"hovertemplate\": \"State/UT=%{text}<br>Confirmed=%{marker.size}<br>Deaths=%{y}<extra></extra>\", \"legendgroup\": \"Kerala\", \"marker\": {\"color\": \"#FECB52\", \"size\": [286], \"sizemode\": \"area\", \"sizeref\": 0.8375, \"symbol\": \"circle\"}, \"mode\": \"markers+text\", \"name\": \"Kerala\", \"showlegend\": true, \"text\": [\"Kerala\"], \"type\": \"scatter\", \"x\": [286], \"xaxis\": \"x\", \"y\": [2], \"yaxis\": \"y\"}, {\"hovertemplate\": \"State/UT=%{text}<br>Confirmed=%{marker.size}<br>Deaths=%{y}<extra></extra>\", \"legendgroup\": \"Ladakh\", \"marker\": {\"color\": \"#636efa\", \"size\": [14], \"sizemode\": \"area\", \"sizeref\": 0.8375, \"symbol\": \"circle\"}, \"mode\": \"markers+text\", \"name\": \"Ladakh\", \"showlegend\": true, \"text\": [\"Ladakh\"], \"type\": \"scatter\", \"x\": [14], \"xaxis\": \"x\", \"y\": [0], \"yaxis\": \"y\"}, {\"hovertemplate\": \"State/UT=%{text}<br>Confirmed=%{marker.size}<br>Deaths=%{y}<extra></extra>\", \"legendgroup\": \"Madhya Pradesh\", \"marker\": {\"color\": \"#EF553B\", \"size\": [99], \"sizemode\": \"area\", \"sizeref\": 0.8375, \"symbol\": \"circle\"}, \"mode\": \"markers+text\", \"name\": \"Madhya Pradesh\", \"showlegend\": true, \"text\": [\"Madhya Pradesh\"], \"type\": \"scatter\", \"x\": [99], \"xaxis\": \"x\", \"y\": [6], \"yaxis\": \"y\"}, {\"hovertemplate\": \"State/UT=%{text}<br>Confirmed=%{marker.size}<br>Deaths=%{y}<extra></extra>\", \"legendgroup\": \"Maharashtra\", \"marker\": {\"color\": \"#00cc96\", \"size\": [335], \"sizemode\": \"area\", \"sizeref\": 0.8375, \"symbol\": \"circle\"}, \"mode\": \"markers+text\", \"name\": \"Maharashtra\", \"showlegend\": true, \"text\": [\"Maharashtra\"], \"type\": \"scatter\", \"x\": [335], \"xaxis\": \"x\", \"y\": [16], \"yaxis\": \"y\"}, {\"hovertemplate\": \"State/UT=%{text}<br>Confirmed=%{marker.size}<br>Deaths=%{y}<extra></extra>\", \"legendgroup\": \"Punjab\", \"marker\": {\"color\": \"#ab63fa\", \"size\": [46], \"sizemode\": \"area\", \"sizeref\": 0.8375, \"symbol\": \"circle\"}, \"mode\": \"markers+text\", \"name\": \"Punjab\", \"showlegend\": true, \"text\": [\"Punjab\"], \"type\": \"scatter\", \"x\": [46], \"xaxis\": \"x\", \"y\": [4], \"yaxis\": \"y\"}, {\"hovertemplate\": \"State/UT=%{text}<br>Confirmed=%{marker.size}<br>Deaths=%{y}<extra></extra>\", \"legendgroup\": \"Rajasthan\", \"marker\": {\"color\": \"#FFA15A\", \"size\": [133], \"sizemode\": \"area\", \"sizeref\": 0.8375, \"symbol\": \"circle\"}, \"mode\": \"markers+text\", \"name\": \"Rajasthan\", \"showlegend\": true, \"text\": [\"Rajasthan\"], \"type\": \"scatter\", \"x\": [133], \"xaxis\": \"x\", \"y\": [0], \"yaxis\": \"y\"}, {\"hovertemplate\": \"State/UT=%{text}<br>Confirmed=%{marker.size}<br>Deaths=%{y}<extra></extra>\", \"legendgroup\": \"Tamil Nadu\", \"marker\": {\"color\": \"#19d3f3\", \"size\": [309], \"sizemode\": \"area\", \"sizeref\": 0.8375, \"symbol\": \"circle\"}, \"mode\": \"markers+text\", \"name\": \"Tamil Nadu\", \"showlegend\": true, \"text\": [\"Tamil Nadu\"], \"type\": \"scatter\", \"x\": [309], \"xaxis\": \"x\", \"y\": [1], \"yaxis\": \"y\"}, {\"hovertemplate\": \"State/UT=%{text}<br>Confirmed=%{marker.size}<br>Deaths=%{y}<extra></extra>\", \"legendgroup\": \"Telengana\", \"marker\": {\"color\": \"#FF6692\", \"size\": [107], \"sizemode\": \"area\", \"sizeref\": 0.8375, \"symbol\": \"circle\"}, \"mode\": \"markers+text\", \"name\": \"Telengana\", \"showlegend\": true, \"text\": [\"Telengana\"], \"type\": \"scatter\", \"x\": [107], \"xaxis\": \"x\", \"y\": [3], \"yaxis\": \"y\"}, {\"hovertemplate\": \"State/UT=%{text}<br>Confirmed=%{marker.size}<br>Deaths=%{y}<extra></extra>\", \"legendgroup\": \"Uttar Pradesh\", \"marker\": {\"color\": \"#B6E880\", \"size\": [113], \"sizemode\": \"area\", \"sizeref\": 0.8375, \"symbol\": \"circle\"}, \"mode\": \"markers+text\", \"name\": \"Uttar Pradesh\", \"showlegend\": true, \"text\": [\"Uttar Pradesh\"], \"type\": \"scatter\", \"x\": [113], \"xaxis\": \"x\", \"y\": [2], \"yaxis\": \"y\"}, {\"hovertemplate\": \"State/UT=%{text}<br>Confirmed=%{marker.size}<br>Deaths=%{y}<extra></extra>\", \"legendgroup\": \"West Bengal\", \"marker\": {\"color\": \"#FF97FF\", \"size\": [53], \"sizemode\": \"area\", \"sizeref\": 0.8375, \"symbol\": \"circle\"}, \"mode\": \"markers+text\", \"name\": \"West Bengal\", \"showlegend\": true, \"text\": [\"West Bengal\"], \"type\": \"scatter\", \"x\": [53], \"xaxis\": \"x\", \"y\": [3], \"yaxis\": \"y\"}],\n",
       "                        {\"legend\": {\"itemsizing\": \"constant\", \"title\": {\"text\": \"State/UT\"}, \"tracegroupgap\": 0}, \"template\": {\"data\": {\"bar\": [{\"error_x\": {\"color\": \"#2a3f5f\"}, \"error_y\": {\"color\": \"#2a3f5f\"}, \"marker\": {\"line\": {\"color\": \"#E5ECF6\", \"width\": 0.5}}, \"type\": \"bar\"}], \"barpolar\": [{\"marker\": {\"line\": {\"color\": \"#E5ECF6\", \"width\": 0.5}}, \"type\": \"barpolar\"}], \"carpet\": [{\"aaxis\": {\"endlinecolor\": \"#2a3f5f\", \"gridcolor\": \"white\", \"linecolor\": \"white\", \"minorgridcolor\": \"white\", \"startlinecolor\": \"#2a3f5f\"}, \"baxis\": {\"endlinecolor\": \"#2a3f5f\", \"gridcolor\": \"white\", \"linecolor\": \"white\", \"minorgridcolor\": \"white\", \"startlinecolor\": \"#2a3f5f\"}, \"type\": \"carpet\"}], \"choropleth\": [{\"colorbar\": {\"outlinewidth\": 0, \"ticks\": \"\"}, \"type\": \"choropleth\"}], \"contour\": [{\"colorbar\": {\"outlinewidth\": 0, \"ticks\": \"\"}, \"colorscale\": [[0.0, \"#0d0887\"], [0.1111111111111111, \"#46039f\"], [0.2222222222222222, \"#7201a8\"], [0.3333333333333333, \"#9c179e\"], [0.4444444444444444, \"#bd3786\"], [0.5555555555555556, \"#d8576b\"], [0.6666666666666666, \"#ed7953\"], [0.7777777777777778, \"#fb9f3a\"], [0.8888888888888888, \"#fdca26\"], [1.0, \"#f0f921\"]], \"type\": \"contour\"}], \"contourcarpet\": [{\"colorbar\": {\"outlinewidth\": 0, \"ticks\": \"\"}, \"type\": \"contourcarpet\"}], \"heatmap\": [{\"colorbar\": {\"outlinewidth\": 0, \"ticks\": \"\"}, \"colorscale\": [[0.0, \"#0d0887\"], [0.1111111111111111, \"#46039f\"], [0.2222222222222222, \"#7201a8\"], [0.3333333333333333, \"#9c179e\"], [0.4444444444444444, \"#bd3786\"], [0.5555555555555556, \"#d8576b\"], [0.6666666666666666, \"#ed7953\"], [0.7777777777777778, \"#fb9f3a\"], [0.8888888888888888, \"#fdca26\"], [1.0, \"#f0f921\"]], \"type\": \"heatmap\"}], \"heatmapgl\": [{\"colorbar\": {\"outlinewidth\": 0, \"ticks\": \"\"}, \"colorscale\": [[0.0, \"#0d0887\"], [0.1111111111111111, \"#46039f\"], [0.2222222222222222, \"#7201a8\"], [0.3333333333333333, \"#9c179e\"], [0.4444444444444444, \"#bd3786\"], [0.5555555555555556, \"#d8576b\"], [0.6666666666666666, \"#ed7953\"], [0.7777777777777778, \"#fb9f3a\"], [0.8888888888888888, \"#fdca26\"], [1.0, \"#f0f921\"]], \"type\": \"heatmapgl\"}], \"histogram\": [{\"marker\": {\"colorbar\": {\"outlinewidth\": 0, \"ticks\": \"\"}}, \"type\": \"histogram\"}], \"histogram2d\": [{\"colorbar\": {\"outlinewidth\": 0, \"ticks\": \"\"}, \"colorscale\": [[0.0, \"#0d0887\"], [0.1111111111111111, \"#46039f\"], [0.2222222222222222, \"#7201a8\"], [0.3333333333333333, \"#9c179e\"], [0.4444444444444444, \"#bd3786\"], [0.5555555555555556, \"#d8576b\"], [0.6666666666666666, \"#ed7953\"], [0.7777777777777778, \"#fb9f3a\"], [0.8888888888888888, \"#fdca26\"], [1.0, \"#f0f921\"]], \"type\": \"histogram2d\"}], \"histogram2dcontour\": [{\"colorbar\": {\"outlinewidth\": 0, \"ticks\": \"\"}, \"colorscale\": [[0.0, \"#0d0887\"], [0.1111111111111111, \"#46039f\"], [0.2222222222222222, \"#7201a8\"], [0.3333333333333333, \"#9c179e\"], [0.4444444444444444, \"#bd3786\"], [0.5555555555555556, \"#d8576b\"], [0.6666666666666666, \"#ed7953\"], [0.7777777777777778, \"#fb9f3a\"], [0.8888888888888888, \"#fdca26\"], [1.0, \"#f0f921\"]], \"type\": \"histogram2dcontour\"}], \"mesh3d\": [{\"colorbar\": {\"outlinewidth\": 0, \"ticks\": \"\"}, \"type\": \"mesh3d\"}], \"parcoords\": [{\"line\": {\"colorbar\": {\"outlinewidth\": 0, \"ticks\": \"\"}}, \"type\": \"parcoords\"}], \"pie\": [{\"automargin\": true, \"type\": \"pie\"}], \"scatter\": [{\"marker\": {\"colorbar\": {\"outlinewidth\": 0, \"ticks\": \"\"}}, \"type\": \"scatter\"}], \"scatter3d\": [{\"line\": {\"colorbar\": {\"outlinewidth\": 0, \"ticks\": \"\"}}, \"marker\": {\"colorbar\": {\"outlinewidth\": 0, \"ticks\": \"\"}}, \"type\": \"scatter3d\"}], \"scattercarpet\": [{\"marker\": {\"colorbar\": {\"outlinewidth\": 0, \"ticks\": \"\"}}, \"type\": \"scattercarpet\"}], \"scattergeo\": [{\"marker\": {\"colorbar\": {\"outlinewidth\": 0, \"ticks\": \"\"}}, \"type\": \"scattergeo\"}], \"scattergl\": [{\"marker\": {\"colorbar\": {\"outlinewidth\": 0, \"ticks\": \"\"}}, \"type\": \"scattergl\"}], \"scattermapbox\": [{\"marker\": {\"colorbar\": {\"outlinewidth\": 0, \"ticks\": \"\"}}, \"type\": \"scattermapbox\"}], \"scatterpolar\": [{\"marker\": {\"colorbar\": {\"outlinewidth\": 0, \"ticks\": \"\"}}, \"type\": \"scatterpolar\"}], \"scatterpolargl\": [{\"marker\": {\"colorbar\": {\"outlinewidth\": 0, \"ticks\": \"\"}}, \"type\": \"scatterpolargl\"}], \"scatterternary\": [{\"marker\": {\"colorbar\": {\"outlinewidth\": 0, \"ticks\": \"\"}}, \"type\": \"scatterternary\"}], \"surface\": [{\"colorbar\": {\"outlinewidth\": 0, \"ticks\": \"\"}, \"colorscale\": [[0.0, \"#0d0887\"], [0.1111111111111111, \"#46039f\"], [0.2222222222222222, \"#7201a8\"], [0.3333333333333333, \"#9c179e\"], [0.4444444444444444, \"#bd3786\"], [0.5555555555555556, \"#d8576b\"], [0.6666666666666666, \"#ed7953\"], [0.7777777777777778, \"#fb9f3a\"], [0.8888888888888888, \"#fdca26\"], [1.0, \"#f0f921\"]], \"type\": \"surface\"}], \"table\": [{\"cells\": {\"fill\": {\"color\": \"#EBF0F8\"}, \"line\": {\"color\": \"white\"}}, \"header\": {\"fill\": {\"color\": \"#C8D4E3\"}, \"line\": {\"color\": \"white\"}}, \"type\": \"table\"}]}, \"layout\": {\"annotationdefaults\": {\"arrowcolor\": \"#2a3f5f\", \"arrowhead\": 0, \"arrowwidth\": 1}, \"coloraxis\": {\"colorbar\": {\"outlinewidth\": 0, \"ticks\": \"\"}}, \"colorscale\": {\"diverging\": [[0, \"#8e0152\"], [0.1, \"#c51b7d\"], [0.2, \"#de77ae\"], [0.3, \"#f1b6da\"], [0.4, \"#fde0ef\"], [0.5, \"#f7f7f7\"], [0.6, \"#e6f5d0\"], [0.7, \"#b8e186\"], [0.8, \"#7fbc41\"], [0.9, \"#4d9221\"], [1, \"#276419\"]], \"sequential\": [[0.0, \"#0d0887\"], [0.1111111111111111, \"#46039f\"], [0.2222222222222222, \"#7201a8\"], [0.3333333333333333, \"#9c179e\"], [0.4444444444444444, \"#bd3786\"], [0.5555555555555556, \"#d8576b\"], [0.6666666666666666, \"#ed7953\"], [0.7777777777777778, \"#fb9f3a\"], [0.8888888888888888, \"#fdca26\"], [1.0, \"#f0f921\"]], \"sequentialminus\": [[0.0, \"#0d0887\"], [0.1111111111111111, \"#46039f\"], [0.2222222222222222, \"#7201a8\"], [0.3333333333333333, \"#9c179e\"], [0.4444444444444444, \"#bd3786\"], [0.5555555555555556, \"#d8576b\"], [0.6666666666666666, \"#ed7953\"], [0.7777777777777778, \"#fb9f3a\"], [0.8888888888888888, \"#fdca26\"], [1.0, \"#f0f921\"]]}, \"colorway\": [\"#636efa\", \"#EF553B\", \"#00cc96\", \"#ab63fa\", \"#FFA15A\", \"#19d3f3\", \"#FF6692\", \"#B6E880\", \"#FF97FF\", \"#FECB52\"], \"font\": {\"color\": \"#2a3f5f\"}, \"geo\": {\"bgcolor\": \"white\", \"lakecolor\": \"white\", \"landcolor\": \"#E5ECF6\", \"showlakes\": true, \"showland\": true, \"subunitcolor\": \"white\"}, \"hoverlabel\": {\"align\": \"left\"}, \"hovermode\": \"closest\", \"mapbox\": {\"style\": \"light\"}, \"paper_bgcolor\": \"white\", \"plot_bgcolor\": \"#E5ECF6\", \"polar\": {\"angularaxis\": {\"gridcolor\": \"white\", \"linecolor\": \"white\", \"ticks\": \"\"}, \"bgcolor\": \"#E5ECF6\", \"radialaxis\": {\"gridcolor\": \"white\", \"linecolor\": \"white\", \"ticks\": \"\"}}, \"scene\": {\"xaxis\": {\"backgroundcolor\": \"#E5ECF6\", \"gridcolor\": \"white\", \"gridwidth\": 2, \"linecolor\": \"white\", \"showbackground\": true, \"ticks\": \"\", \"zerolinecolor\": \"white\"}, \"yaxis\": {\"backgroundcolor\": \"#E5ECF6\", \"gridcolor\": \"white\", \"gridwidth\": 2, \"linecolor\": \"white\", \"showbackground\": true, \"ticks\": \"\", \"zerolinecolor\": \"white\"}, \"zaxis\": {\"backgroundcolor\": \"#E5ECF6\", \"gridcolor\": \"white\", \"gridwidth\": 2, \"linecolor\": \"white\", \"showbackground\": true, \"ticks\": \"\", \"zerolinecolor\": \"white\"}}, \"shapedefaults\": {\"line\": {\"color\": \"#2a3f5f\"}}, \"ternary\": {\"aaxis\": {\"gridcolor\": \"white\", \"linecolor\": \"white\", \"ticks\": \"\"}, \"baxis\": {\"gridcolor\": \"white\", \"linecolor\": \"white\", \"ticks\": \"\"}, \"bgcolor\": \"#E5ECF6\", \"caxis\": {\"gridcolor\": \"white\", \"linecolor\": \"white\", \"ticks\": \"\"}}, \"title\": {\"x\": 0.05}, \"xaxis\": {\"automargin\": true, \"gridcolor\": \"white\", \"linecolor\": \"white\", \"ticks\": \"\", \"title\": {\"standoff\": 15}, \"zerolinecolor\": \"white\", \"zerolinewidth\": 2}, \"yaxis\": {\"automargin\": true, \"gridcolor\": \"white\", \"linecolor\": \"white\", \"ticks\": \"\", \"title\": {\"standoff\": 15}, \"zerolinecolor\": \"white\", \"zerolinewidth\": 2}}}, \"title\": {\"text\": \"Confirmed vs Death\"}, \"xaxis\": {\"anchor\": \"y\", \"domain\": [0.0, 1.0], \"title\": {\"text\": \"Confirmed\"}, \"type\": \"log\"}, \"yaxis\": {\"anchor\": \"x\", \"domain\": [0.0, 1.0], \"title\": {\"text\": \"Deaths\"}}},\n",
       "                        {\"responsive\": true}\n",
       "                    ).then(function(){\n",
       "                            \n",
       "var gd = document.getElementById('2fd9d136-d363-4aab-9c2a-919ad8742529');\n",
       "var x = new MutationObserver(function (mutations, observer) {{\n",
       "        var display = window.getComputedStyle(gd).display;\n",
       "        if (!display || display === 'none') {{\n",
       "            console.log([gd, 'removed!']);\n",
       "            Plotly.purge(gd);\n",
       "            observer.disconnect();\n",
       "        }}\n",
       "}});\n",
       "\n",
       "// Listen for the removal of the full notebook cells\n",
       "var notebookContainer = gd.closest('#notebook-container');\n",
       "if (notebookContainer) {{\n",
       "    x.observe(notebookContainer, {childList: true});\n",
       "}}\n",
       "\n",
       "// Listen for the clearing of the current output cell\n",
       "var outputEl = gd.closest('.output');\n",
       "if (outputEl) {{\n",
       "    x.observe(outputEl, {childList: true});\n",
       "}}\n",
       "\n",
       "                        })\n",
       "                };\n",
       "                });\n",
       "            </script>\n",
       "        </div>"
      ]
     },
     "metadata": {},
     "output_type": "display_data"
    }
   ],
   "source": [
    "px.scatter(latest[latest['Confirmed']>10], x='Confirmed', y='Deaths', color='State/UT', size='Confirmed', \n",
    "           text='State/UT', log_x =True, title='Confirmed vs Death')"
   ]
  },
  {
   "cell_type": "code",
   "execution_count": null,
   "metadata": {},
   "outputs": [],
   "source": []
  }
 ],
 "metadata": {
  "kernelspec": {
   "display_name": "Python 3",
   "language": "python",
   "name": "python3"
  },
  "language_info": {
   "codemirror_mode": {
    "name": "ipython",
    "version": 3
   },
   "file_extension": ".py",
   "mimetype": "text/x-python",
   "name": "python",
   "nbconvert_exporter": "python",
   "pygments_lexer": "ipython3",
   "version": "3.7.0"
  }
 },
 "nbformat": 4,
 "nbformat_minor": 4
}
